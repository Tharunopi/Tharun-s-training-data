{
 "cells": [
  {
   "cell_type": "code",
   "execution_count": 12,
   "id": "04d0d6ae-1add-4c21-b72e-201d49d1f574",
   "metadata": {},
   "outputs": [
    {
     "data": {
      "text/plain": [
       "6426"
      ]
     },
     "execution_count": 12,
     "metadata": {},
     "output_type": "execute_result"
    }
   ],
   "source": [
    "# class item:\n",
    "\n",
    "#     def __init__(self, phone, price, quant):\n",
    "#         self.phone = phone\n",
    "#         self.price = price\n",
    "#         self.quant = quant\n",
    "\n",
    "#     def total_price(self):\n",
    "#         return self.price * self.quant\n",
    "\n",
    "# item1 = item(\"ni\", 20000, 4)\n",
    "\n",
    "# item2 = item(\"poco\", 3213, 2)\n",
    "\n",
    "# item2.total_price()"
   ]
  },
  {
   "cell_type": "code",
   "execution_count": 15,
   "id": "24f35fdd-a3bc-45b0-b2bb-1497f1ba951a",
   "metadata": {},
   "outputs": [
    {
     "data": {
      "text/plain": [
       "6426"
      ]
     },
     "execution_count": 15,
     "metadata": {},
     "output_type": "execute_result"
    }
   ],
   "source": [
    "# class item:\n",
    "\n",
    "#     def __init__(self, phone, price=2901, quant=1):\n",
    "#         self.phone = phone\n",
    "#         self.price = price\n",
    "#         self.quant = quant\n",
    "\n",
    "#     def total_price(self):\n",
    "#         return self.price * self.quant\n",
    "\n",
    "# item1 = item(\"ni\", 20000, 4)\n",
    "\n",
    "# item2 = item(\"poco\", 3213, 2)\n",
    "\n",
    "# item2.total_price()"
   ]
  },
  {
   "cell_type": "code",
   "execution_count": 19,
   "id": "e139922f-26ef-4d12-9667-384bbdef6868",
   "metadata": {},
   "outputs": [
    {
     "ename": "AssertionError",
     "evalue": "price should be greater than 0",
     "output_type": "error",
     "traceback": [
      "\u001b[1;31m---------------------------------------------------------------------------\u001b[0m",
      "\u001b[1;31mAssertionError\u001b[0m                            Traceback (most recent call last)",
      "Cell \u001b[1;32mIn[19], line 15\u001b[0m\n\u001b[0;32m     12\u001b[0m     \u001b[38;5;28;01mdef\u001b[39;00m \u001b[38;5;21mtotal_price\u001b[39m(\u001b[38;5;28mself\u001b[39m):\n\u001b[0;32m     13\u001b[0m         \u001b[38;5;28;01mreturn\u001b[39;00m \u001b[38;5;28mself\u001b[39m\u001b[38;5;241m.\u001b[39mprice \u001b[38;5;241m*\u001b[39m \u001b[38;5;28mself\u001b[39m\u001b[38;5;241m.\u001b[39mquant\n\u001b[1;32m---> 15\u001b[0m item1 \u001b[38;5;241m=\u001b[39m \u001b[43mitem\u001b[49m\u001b[43m(\u001b[49m\u001b[38;5;124;43m\"\u001b[39;49m\u001b[38;5;124;43mni\u001b[39;49m\u001b[38;5;124;43m\"\u001b[39;49m\u001b[43m,\u001b[49m\u001b[43m \u001b[49m\u001b[38;5;241;43m20000\u001b[39;49m\u001b[43m,\u001b[49m\u001b[43m \u001b[49m\u001b[38;5;241;43m-\u001b[39;49m\u001b[38;5;241;43m4\u001b[39;49m\u001b[43m)\u001b[49m\n\u001b[0;32m     17\u001b[0m item2 \u001b[38;5;241m=\u001b[39m item(\u001b[38;5;124m\"\u001b[39m\u001b[38;5;124mpoco\u001b[39m\u001b[38;5;124m\"\u001b[39m, \u001b[38;5;241m3213\u001b[39m, \u001b[38;5;241m2\u001b[39m)\n\u001b[0;32m     19\u001b[0m item2\u001b[38;5;241m.\u001b[39mtotal_price()\n",
      "Cell \u001b[1;32mIn[19], line 6\u001b[0m, in \u001b[0;36mitem.__init__\u001b[1;34m(self, phone, price, quant)\u001b[0m\n\u001b[0;32m      3\u001b[0m \u001b[38;5;28;01mdef\u001b[39;00m \u001b[38;5;21m__init__\u001b[39m(\u001b[38;5;28mself\u001b[39m, phone: \u001b[38;5;28mstr\u001b[39m, price: \u001b[38;5;28mint\u001b[39m, quant: \u001b[38;5;28mint\u001b[39m):\n\u001b[0;32m      4\u001b[0m     \u001b[38;5;66;03m# validating arguements\u001b[39;00m\n\u001b[0;32m      5\u001b[0m     \u001b[38;5;28;01massert\u001b[39;00m price \u001b[38;5;241m>\u001b[39m\u001b[38;5;241m=\u001b[39m \u001b[38;5;241m1\u001b[39m, \u001b[38;5;124m\"\u001b[39m\u001b[38;5;124mprice should be greater than 0\u001b[39m\u001b[38;5;124m\"\u001b[39m\n\u001b[1;32m----> 6\u001b[0m     \u001b[38;5;28;01massert\u001b[39;00m quant \u001b[38;5;241m>\u001b[39m\u001b[38;5;241m=\u001b[39m \u001b[38;5;241m1\u001b[39m, \u001b[38;5;124m\"\u001b[39m\u001b[38;5;124mprice should be greater than 0\u001b[39m\u001b[38;5;124m\"\u001b[39m\n\u001b[0;32m      8\u001b[0m     \u001b[38;5;28mself\u001b[39m\u001b[38;5;241m.\u001b[39mphone \u001b[38;5;241m=\u001b[39m phone\n\u001b[0;32m      9\u001b[0m     \u001b[38;5;28mself\u001b[39m\u001b[38;5;241m.\u001b[39mprice \u001b[38;5;241m=\u001b[39m price\n",
      "\u001b[1;31mAssertionError\u001b[0m: price should be greater than 0"
     ]
    }
   ],
   "source": [
    "class item:\n",
    "\n",
    "    def __init__(self, phone: str, price: int, quant: int):\n",
    "        # validating arguements\n",
    "        assert price >= 1, \"price should be greater than 0\"\n",
    "        assert quant >= 1, \"price should be greater than 0\"\n",
    "        \n",
    "        self.phone = phone\n",
    "        self.price = price\n",
    "        self.quant = quant\n",
    "\n",
    "    def total_price(self):\n",
    "        return self.price * self.quant\n",
    "\n",
    "item1 = item(\"ni\", 20000, -4)\n",
    "\n",
    "item2 = item(\"poco\", 3213, 2)\n",
    "\n",
    "item2.total_price()"
   ]
  },
  {
   "cell_type": "code",
   "execution_count": null,
   "id": "5a9fbdf1-4a22-44f8-a8b9-3240dbf69961",
   "metadata": {},
   "outputs": [],
   "source": []
  }
 ],
 "metadata": {
  "kernelspec": {
   "display_name": "Python 3 (ipykernel)",
   "language": "python",
   "name": "python3"
  },
  "language_info": {
   "codemirror_mode": {
    "name": "ipython",
    "version": 3
   },
   "file_extension": ".py",
   "mimetype": "text/x-python",
   "name": "python",
   "nbconvert_exporter": "python",
   "pygments_lexer": "ipython3",
   "version": "3.11.4"
  }
 },
 "nbformat": 4,
 "nbformat_minor": 5
}
