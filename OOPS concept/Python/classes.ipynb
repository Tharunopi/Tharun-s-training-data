{
 "cells": [
  {
   "cell_type": "code",
   "execution_count": 62,
   "id": "426e9b92-6a0d-4057-96d4-e4e6e1187fbe",
   "metadata": {},
   "outputs": [],
   "source": [
    "import pandas as pd\n",
    "from typing import List"
   ]
  },
  {
   "cell_type": "code",
   "execution_count": 12,
   "id": "04d0d6ae-1add-4c21-b72e-201d49d1f574",
   "metadata": {},
   "outputs": [
    {
     "data": {
      "text/plain": [
       "6426"
      ]
     },
     "execution_count": 12,
     "metadata": {},
     "output_type": "execute_result"
    }
   ],
   "source": [
    "# class item:\n",
    "\n",
    "#     def __init__(self, phone, price, quant):\n",
    "#         self.phone = phone\n",
    "#         self.price = price\n",
    "#         self.quant = quant\n",
    "\n",
    "#     def total_price(self):\n",
    "#         return self.price * self.quant\n",
    "\n",
    "# item1 = item(\"ni\", 20000, 4)\n",
    "\n",
    "# item2 = item(\"poco\", 3213, 2)\n",
    "\n",
    "# item2.total_price()"
   ]
  },
  {
   "cell_type": "code",
   "execution_count": 15,
   "id": "24f35fdd-a3bc-45b0-b2bb-1497f1ba951a",
   "metadata": {},
   "outputs": [
    {
     "data": {
      "text/plain": [
       "6426"
      ]
     },
     "execution_count": 15,
     "metadata": {},
     "output_type": "execute_result"
    }
   ],
   "source": [
    "# class item:\n",
    "\n",
    "#     def __init__(self, phone, price=2901, quant=1):\n",
    "#         self.phone = phone\n",
    "#         self.price = price\n",
    "#         self.quant = quant\n",
    "\n",
    "#     def total_price(self):\n",
    "#         return self.price * self.quant\n",
    "\n",
    "# item1 = item(\"ni\", 20000, 4)\n",
    "\n",
    "# item2 = item(\"poco\", 3213, 2)\n",
    "\n",
    "# item2.total_price()"
   ]
  },
  {
   "cell_type": "code",
   "execution_count": 40,
   "id": "e139922f-26ef-4d12-9667-384bbdef6868",
   "metadata": {},
   "outputs": [],
   "source": [
    "class item:\n",
    "    pay_rate = 0.8\n",
    "    history = []\n",
    "    \n",
    "    def __init__(self, phone: str, price: int, quant: int):\n",
    "        # validating arguements\n",
    "        assert price >= 1, \"price should be greater than 0\"\n",
    "        assert quant >= 1, \"price should be greater than 0\"\n",
    "        \n",
    "        self.phone = phone\n",
    "        self.price = price\n",
    "        self.quant = quant\n",
    "\n",
    "        item.history.append(self)\n",
    "        \n",
    "    def total_price(self):\n",
    "        return self.price * self.quant\n",
    "\n",
    "    def apply_discount(self):\n",
    "        self.price = self.price * self.pay_rate\n",
    "\n",
    "    @classmethod\n",
    "    def csv_reader(cls):\n",
    "        df = pd.read_csv(\"items.csv\").values\n",
    "        for i in df:\n",
    "            item(\n",
    "                phone=i[0],\n",
    "                price=i[1],\n",
    "                quant=i[2]\n",
    "            )\n",
    "\n",
    "    @staticmethod\n",
    "    def is_int(num):\n",
    "        if isinstance(num, float):\n",
    "            return False\n",
    "        else:\n",
    "            return True\n",
    "\n",
    "    def __repr__(self):\n",
    "        # return \"item\"\n",
    "        return f\"{self.__class__.__name__}('{self.phone}', {self.price}, {self.quant})\"\n",
    "\n",
    "# item1 = item(\"mi\", 20000, 4)\n",
    "# item2 = item(\"poco\", 3000, 2)\n",
    "# item3 = item(\"apple\", 10000, 4)\n",
    "# item4 = item(\"honor\", 4000, 3)\n",
    "# item5 = item(\"realme\", 1000, 5)\n",
    "\n",
    "# print(item.__dict__)\n",
    "# print(item1.__dict__)\n",
    "\n",
    "# item1.apply_discount()\n",
    "# print(item1.price)\n",
    "\n",
    "# item2.pay_rate = 0.7\n",
    "# item2.apply_discount()\n",
    "# print(item2.price)\n"
   ]
  },
  {
   "cell_type": "markdown",
   "id": "738d8fff-c8f3-4159-a1f7-d3dd68c1866a",
   "metadata": {},
   "source": [
    "Inheritance"
   ]
  },
  {
   "cell_type": "code",
   "execution_count": 45,
   "id": "a5b83370-d84a-4a86-bbbc-421223f06bb9",
   "metadata": {},
   "outputs": [],
   "source": [
    "class phone(item):\n",
    "\n",
    "    def __init__(self, phone: str, price: int, quant: int, broken:int=0):\n",
    "\n",
    "        super.__init__(\n",
    "            phone, price, quant    \n",
    "        )\n",
    "        \n",
    "        # validating arguements\n",
    "        assert broken >= 0, \"price should be greater than 0\"\n",
    "        \n",
    "        self.broken = broken"
   ]
  },
  {
   "cell_type": "code",
   "execution_count": 47,
   "id": "f0a05f45-af4c-449a-b2ef-5de00ece4f07",
   "metadata": {},
   "outputs": [
    {
     "data": {
      "text/plain": [
       "[]"
      ]
     },
     "execution_count": 47,
     "metadata": {},
     "output_type": "execute_result"
    }
   ],
   "source": [
    "item1 = Phone(\"mi\", 20302, 4, 2)\n",
    "item1.apply_discount()\n",
    "item1.total_price()\n",
    "phone.history"
   ]
  },
  {
   "cell_type": "markdown",
   "id": "bb71c187-c678-4aab-9ece-b632222f6b5f",
   "metadata": {},
   "source": [
    "working of __str__"
   ]
  },
  {
   "cell_type": "code",
   "execution_count": 33,
   "id": "41790a07-cb15-49c3-839b-cb7879ff625c",
   "metadata": {},
   "outputs": [
    {
     "name": "stdout",
     "output_type": "stream",
     "text": [
      "4\n"
     ]
    }
   ],
   "source": [
    "class CustomizedInteger:\n",
    "    def __init__(self, num):\n",
    "        self.num = num\n",
    "\n",
    "    def __str__(self):\n",
    "        return str(self.num)\n",
    "\n",
    "i = CustomizedInteger(4)\n",
    "print(i)"
   ]
  },
  {
   "cell_type": "markdown",
   "id": "2a23ba8c-3758-4103-9a09-e39cf8a2b784",
   "metadata": {},
   "source": [
    "working of __repr__"
   ]
  },
  {
   "cell_type": "code",
   "execution_count": 37,
   "id": "227e78ae-279e-4118-b45c-b3450e32cbe9",
   "metadata": {},
   "outputs": [
    {
     "name": "stdout",
     "output_type": "stream",
     "text": [
      "4\n"
     ]
    }
   ],
   "source": [
    "class CustomInt:\n",
    "    def __init__(self, num):\n",
    "        self.num = num \n",
    "\n",
    "    def __repr__(self):\n",
    "        return str(self.num)\n",
    "\n",
    "k = CustomInt(4)\n",
    "print(k)"
   ]
  },
  {
   "cell_type": "markdown",
   "id": "7cabdf22-fbd7-44f0-9ed9-750db3bb0ed8",
   "metadata": {},
   "source": [
    "Merge sort using class"
   ]
  },
  {
   "cell_type": "code",
   "execution_count": 66,
   "id": "8650edb9-12f1-4b05-8071-adc5c9bf0cde",
   "metadata": {},
   "outputs": [
    {
     "name": "stdout",
     "output_type": "stream",
     "text": [
      "<bound method Sort.merge of <__main__.Sort object at 0x00000226C965A790>>\n"
     ]
    }
   ],
   "source": [
    "class Sort:\n",
    "\n",
    "    def __init__(self, x: List[int]):\n",
    "        self.x = x\n",
    "\n",
    "    def spilt(self) -> List[int]:\n",
    "        if len(self.x) <= 1:\n",
    "            return self.x\n",
    "\n",
    "        mid = len(self.x)//2\n",
    "        left = self.x[:mid]\n",
    "        right = self.x[mid:]\n",
    "\n",
    "        left = spilt(left)\n",
    "        right = spilt(right)\n",
    "\n",
    "        return merge(left, right)\n",
    "\n",
    "    def merge(self, left:List[int], right:List[int]) -> List[int]:\n",
    "        i, j = 0, 0\n",
    "        ans = []\n",
    "        while i < len(left) and j < len(right):\n",
    "            if left[i] < right[j]:\n",
    "                ans.append(left[i])\n",
    "                i += 1\n",
    "            else:\n",
    "                ans.append(right[j])\n",
    "                j += 1\n",
    "        ans.extend(left[i:])\n",
    "        ans.extend(right[j:])\n",
    "        return ans\n",
    "\n",
    "sort_instance = Sort([4, 3, 2, 1])\n",
    "print(sort_instance.)"
   ]
  },
  {
   "cell_type": "code",
   "execution_count": null,
   "id": "4ce07050-e804-416b-9f6a-893e9f8f2275",
   "metadata": {},
   "outputs": [],
   "source": []
  }
 ],
 "metadata": {
  "kernelspec": {
   "display_name": "Python 3 (ipykernel)",
   "language": "python",
   "name": "python3"
  },
  "language_info": {
   "codemirror_mode": {
    "name": "ipython",
    "version": 3
   },
   "file_extension": ".py",
   "mimetype": "text/x-python",
   "name": "python",
   "nbconvert_exporter": "python",
   "pygments_lexer": "ipython3",
   "version": "3.11.4"
  }
 },
 "nbformat": 4,
 "nbformat_minor": 5
}
