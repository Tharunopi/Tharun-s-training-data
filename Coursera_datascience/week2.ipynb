{
 "cells": [
  {
   "cell_type": "code",
   "execution_count": 3,
   "id": "6349619e-4e26-4b01-b19e-537fc4675b37",
   "metadata": {},
   "outputs": [],
   "source": [
    "tu = (19, \"tharun\") + (\"op\", 10)"
   ]
  },
  {
   "cell_type": "code",
   "execution_count": 4,
   "id": "55964ce5-339c-4e8c-971e-91faed7f60e1",
   "metadata": {},
   "outputs": [
    {
     "data": {
      "text/plain": [
       "(19, 'tharun', 'op', 10)"
      ]
     },
     "execution_count": 4,
     "metadata": {},
     "output_type": "execute_result"
    }
   ],
   "source": [
    "tu"
   ]
  },
  {
   "cell_type": "code",
   "execution_count": 5,
   "id": "f0aea4fc-2fe7-4b09-86b6-9b884bc8f977",
   "metadata": {},
   "outputs": [
    {
     "data": {
      "text/plain": [
       "(19, 'tharun', 'op')"
      ]
     },
     "execution_count": 5,
     "metadata": {},
     "output_type": "execute_result"
    }
   ],
   "source": [
    "tu[:3]"
   ]
  },
  {
   "cell_type": "code",
   "execution_count": 6,
   "id": "0e3524fd-ed3a-4342-98f2-565467f8048e",
   "metadata": {},
   "outputs": [
    {
     "data": {
      "text/plain": [
       "4"
      ]
     },
     "execution_count": 6,
     "metadata": {},
     "output_type": "execute_result"
    }
   ],
   "source": [
    "len(tu)"
   ]
  },
  {
   "cell_type": "code",
   "execution_count": 7,
   "id": "e48a6af2-23b5-42d5-b287-e604bbb77c8d",
   "metadata": {},
   "outputs": [
    {
     "ename": "TypeError",
     "evalue": "'tuple' object does not support item assignment",
     "output_type": "error",
     "traceback": [
      "\u001b[1;31m---------------------------------------------------------------------------\u001b[0m",
      "\u001b[1;31mTypeError\u001b[0m                                 Traceback (most recent call last)",
      "Cell \u001b[1;32mIn[7], line 1\u001b[0m\n\u001b[1;32m----> 1\u001b[0m \u001b[43mtu\u001b[49m\u001b[43m[\u001b[49m\u001b[38;5;241;43m2\u001b[39;49m\u001b[43m]\u001b[49m \u001b[38;5;241m=\u001b[39m \u001b[38;5;241m4\u001b[39m\n",
      "\u001b[1;31mTypeError\u001b[0m: 'tuple' object does not support item assignment"
     ]
    }
   ],
   "source": [
    "tu[2] = 4"
   ]
  },
  {
   "cell_type": "code",
   "execution_count": 8,
   "id": "6a291469-2a94-4960-9c10-398324d9984d",
   "metadata": {},
   "outputs": [],
   "source": [
    "nested = (1, 2, (\"tharun\", \"op\"), 3, 4, (\"hi\"))"
   ]
  },
  {
   "cell_type": "code",
   "execution_count": 13,
   "id": "7a47b0f5-c395-4484-88b3-0d8bd7bcf0b2",
   "metadata": {},
   "outputs": [
    {
     "data": {
      "text/plain": [
       "'tharun'"
      ]
     },
     "execution_count": 13,
     "metadata": {},
     "output_type": "execute_result"
    }
   ],
   "source": [
    "nested[2][0]"
   ]
  },
  {
   "cell_type": "code",
   "execution_count": 2,
   "id": "c25dcc70-6a50-45a8-a715-81b771463e1c",
   "metadata": {},
   "outputs": [
    {
     "data": {
      "text/plain": [
       "{'Thriller': '1982',\n",
       " 'Back in Black': '1980',\n",
       " 'The Dark Side of the Moon': '1973',\n",
       " 'The Bodyguard': '1992',\n",
       " 'Bat Out of Hell': '1977',\n",
       " 'Their Greatest Hits (1971-1975)': '1976',\n",
       " 'Saturday Night Fever': '1977',\n",
       " 'Rumours': '1977'}"
      ]
     },
     "execution_count": 2,
     "metadata": {},
     "output_type": "execute_result"
    }
   ],
   "source": [
    "# Create a sample dictionary\n",
    "\n",
    "release_year_dict = {\"Thriller\": \"1982\", \"Back in Black\": \"1980\", \\\n",
    "                    \"The Dark Side of the Moon\": \"1973\", \"The Bodyguard\": \"1992\", \\\n",
    "                    \"Bat Out of Hell\": \"1977\", \"Their Greatest Hits (1971-1975)\": \"1976\", \\\n",
    "                    \"Saturday Night Fever\": \"1977\", \"Rumours\": \"1977\"}\n",
    "release_year_dict"
   ]
  },
  {
   "cell_type": "code",
   "execution_count": 7,
   "id": "5c88ff8b-a458-4286-b804-e4f0294a2b5b",
   "metadata": {},
   "outputs": [],
   "source": [
    "release_year_dict[\"Ghilli\"] = 2007\n",
    "del(release_year_dict[\"Thriller\"])"
   ]
  },
  {
   "cell_type": "code",
   "execution_count": 8,
   "id": "a8dd8616-d437-4735-9b4d-bfe0dc5e72b8",
   "metadata": {},
   "outputs": [
    {
     "data": {
      "text/plain": [
       "{'Back in Black': '1980',\n",
       " 'The Dark Side of the Moon': '1973',\n",
       " 'The Bodyguard': '1992',\n",
       " 'Bat Out of Hell': '1977',\n",
       " 'Their Greatest Hits (1971-1975)': '1976',\n",
       " 'Saturday Night Fever': '1977',\n",
       " 'Rumours': '1977',\n",
       " 'Ghilli': 2007}"
      ]
     },
     "execution_count": 8,
     "metadata": {},
     "output_type": "execute_result"
    }
   ],
   "source": [
    "release_year_dict"
   ]
  },
  {
   "cell_type": "code",
   "execution_count": 9,
   "id": "a4f4b4c1-426e-444c-b337-a32e98531dd8",
   "metadata": {},
   "outputs": [
    {
     "data": {
      "text/plain": [
       "True"
      ]
     },
     "execution_count": 9,
     "metadata": {},
     "output_type": "execute_result"
    }
   ],
   "source": [
    "\"The Bodyguard\" in release_year_dict"
   ]
  },
  {
   "cell_type": "code",
   "execution_count": 13,
   "id": "505bcb9c-b405-4c12-ab2e-891bd3222da1",
   "metadata": {},
   "outputs": [],
   "source": [
    "num1 = {\"tharun\", \"naveen\", \"jindo\", \"joe\", \"harish\", \"harish\"}\n",
    "num2 = {\"aqeel\", \"joe\", \"selva\", \"naveen\"}"
   ]
  },
  {
   "cell_type": "code",
   "execution_count": 19,
   "id": "bcab3425-bdc5-433d-9f90-126dd382371b",
   "metadata": {},
   "outputs": [
    {
     "data": {
      "text/plain": [
       "False"
      ]
     },
     "execution_count": 19,
     "metadata": {},
     "output_type": "execute_result"
    }
   ],
   "source": [
    "num1.issuperset(num2)"
   ]
  },
  {
   "cell_type": "code",
   "execution_count": 20,
   "id": "e76fd81f-90cc-4ea2-9928-b18ec1c5fe53",
   "metadata": {},
   "outputs": [
    {
     "data": {
      "text/plain": [
       "[4]"
      ]
     },
     "execution_count": 20,
     "metadata": {},
     "output_type": "execute_result"
    }
   ],
   "source": [
    "A=((1),[2,3],[4])\n",
    "A[2]"
   ]
  },
  {
   "cell_type": "code",
   "execution_count": 21,
   "id": "a7bfff2f-fb49-4c3d-9ec0-b818b5a15e9c",
   "metadata": {},
   "outputs": [
    {
     "data": {
      "text/plain": [
       "2"
      ]
     },
     "execution_count": 21,
     "metadata": {},
     "output_type": "execute_result"
    }
   ],
   "source": [
    "len((\"disco\",10))"
   ]
  },
  {
   "cell_type": "code",
   "execution_count": null,
   "id": "19ba823a-f3bf-4855-89f1-080494acd5f7",
   "metadata": {},
   "outputs": [],
   "source": []
  }
 ],
 "metadata": {
  "kernelspec": {
   "display_name": "Python 3 (ipykernel)",
   "language": "python",
   "name": "python3"
  },
  "language_info": {
   "codemirror_mode": {
    "name": "ipython",
    "version": 3
   },
   "file_extension": ".py",
   "mimetype": "text/x-python",
   "name": "python",
   "nbconvert_exporter": "python",
   "pygments_lexer": "ipython3",
   "version": "3.11.4"
  }
 },
 "nbformat": 4,
 "nbformat_minor": 5
}
