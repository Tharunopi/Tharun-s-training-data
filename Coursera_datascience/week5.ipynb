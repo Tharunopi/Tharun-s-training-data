{
 "cells": [
  {
   "cell_type": "markdown",
   "id": "d5ffe080-83f6-4900-a358-69d6dd0ce347",
   "metadata": {},
   "source": [
    "API"
   ]
  },
  {
   "cell_type": "code",
   "execution_count": 6,
   "id": "9ab2fcdb-de14-4725-933c-ce1ca81e7472",
   "metadata": {},
   "outputs": [],
   "source": [
    "import json \n",
    "import requests as re"
   ]
  },
  {
   "cell_type": "code",
   "execution_count": 7,
   "id": "22066a95-a281-404e-b7fb-7604a26815bf",
   "metadata": {},
   "outputs": [],
   "source": [
    "api = \"NUGXUFO3YVGPVTWFABXZVVA5HQRESRG6U6XWIIRGUHDH76WJ\""
   ]
  },
  {
   "cell_type": "code",
   "execution_count": 8,
   "id": "feb6510c-1063-4554-b52e-d53de72b35a0",
   "metadata": {},
   "outputs": [],
   "source": [
    "url = \"https://www.fishwatch.gov/api/species\""
   ]
  },
  {
   "cell_type": "code",
   "execution_count": 9,
   "id": "1def6b5e-61a3-4e7f-9887-c021d66ab2d8",
   "metadata": {},
   "outputs": [],
   "source": [
    "data = re.get(url)"
   ]
  },
  {
   "cell_type": "code",
   "execution_count": null,
   "id": "71560e36-891f-487b-92f4-c88ae9b54d21",
   "metadata": {},
   "outputs": [],
   "source": []
  }
 ],
 "metadata": {
  "kernelspec": {
   "display_name": "Python 3 (ipykernel)",
   "language": "python",
   "name": "python3"
  },
  "language_info": {
   "codemirror_mode": {
    "name": "ipython",
    "version": 3
   },
   "file_extension": ".py",
   "mimetype": "text/x-python",
   "name": "python",
   "nbconvert_exporter": "python",
   "pygments_lexer": "ipython3",
   "version": "3.11.4"
  }
 },
 "nbformat": 4,
 "nbformat_minor": 5
}
