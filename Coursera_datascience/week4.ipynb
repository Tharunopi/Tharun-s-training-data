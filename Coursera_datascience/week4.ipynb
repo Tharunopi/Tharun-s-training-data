{
 "cells": [
  {
   "cell_type": "code",
   "execution_count": 1,
   "id": "c16f010c-4753-46d3-815a-b8421ae4c595",
   "metadata": {},
   "outputs": [],
   "source": [
    "with open(\"te.txt\", \"r\") as file:\n",
    "    with open(\"copy.txt\", \"w\") as f:\n",
    "        value = file.read()\n",
    "        for i in file.read():\n",
    "            f.write(i)"
   ]
  },
  {
   "cell_type": "code",
   "execution_count": 2,
   "id": "aa535494-2799-48ed-bf94-a5fd2903f6dd",
   "metadata": {},
   "outputs": [],
   "source": [
    "with open(\"copy.txt\", \"w\") as file:\n",
    "    file.write(\"hi this is Harish\")"
   ]
  },
  {
   "cell_type": "code",
   "execution_count": null,
   "id": "23813343-efad-4a85-9e37-fb22c12b0f4f",
   "metadata": {},
   "outputs": [],
   "source": []
  }
 ],
 "metadata": {
  "kernelspec": {
   "display_name": "Python 3 (ipykernel)",
   "language": "python",
   "name": "python3"
  },
  "language_info": {
   "codemirror_mode": {
    "name": "ipython",
    "version": 3
   },
   "file_extension": ".py",
   "mimetype": "text/x-python",
   "name": "python",
   "nbconvert_exporter": "python",
   "pygments_lexer": "ipython3",
   "version": "3.11.4"
  }
 },
 "nbformat": 4,
 "nbformat_minor": 5
}
