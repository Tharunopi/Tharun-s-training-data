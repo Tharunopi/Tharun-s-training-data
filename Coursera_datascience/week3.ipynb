{
 "cells": [
  {
   "cell_type": "code",
   "execution_count": 2,
   "id": "07a304c4-544e-4f43-82a6-8a1ba35c2d01",
   "metadata": {},
   "outputs": [
    {
     "data": {
      "text/plain": [
       "range(0, 10)"
      ]
     },
     "execution_count": 2,
     "metadata": {},
     "output_type": "execute_result"
    }
   ],
   "source": [
    "list = range(10)\n",
    "list"
   ]
  },
  {
   "cell_type": "code",
   "execution_count": 3,
   "id": "c2d0c974-971b-47ad-8c42-8e9ab71895fb",
   "metadata": {},
   "outputs": [
    {
     "name": "stdout",
     "output_type": "stream",
     "text": [
      "0 red\n",
      "1 green\n",
      "2 yellow\n"
     ]
    }
   ],
   "source": [
    "square = [\"red\", \"green\", \"yellow\"]\n",
    "for i,j in enumerate(square):\n",
    "    print(i, j)"
   ]
  },
  {
   "cell_type": "code",
   "execution_count": 5,
   "id": "241859a9-fdb5-46b2-ab99-5c55929c63f8",
   "metadata": {},
   "outputs": [],
   "source": [
    "sq = [\"orange\", \"orange\", \"orange\", \"red\", \"orange\", \"blue\"]\n",
    "sq1 = []\n",
    "i = 0\n",
    "while sq[i] == \"orange\":\n",
    "    sq1.append(sq[i])\n",
    "    i += 1"
   ]
  },
  {
   "cell_type": "code",
   "execution_count": 6,
   "id": "e92696be-5a25-435b-91a3-03635df013cd",
   "metadata": {},
   "outputs": [
    {
     "data": {
      "text/plain": [
       "['orange', 'orange', 'orange']"
      ]
     },
     "execution_count": 6,
     "metadata": {},
     "output_type": "execute_result"
    }
   ],
   "source": [
    "sq1"
   ]
  },
  {
   "cell_type": "code",
   "execution_count": 3,
   "id": "4c639b2e-7afe-4c61-8f76-fb3f60de984f",
   "metadata": {},
   "outputs": [
    {
     "name": "stdout",
     "output_type": "stream",
     "text": [
      "10\n",
      "9.5\n",
      "10\n",
      "8\n",
      "7.5\n",
      "5\n"
     ]
    }
   ],
   "source": [
    "PlayListRatings = [10, 9.5, 10, 8, 7.5, 5, 10, 10]\n",
    "rate = PlayListRatings[0]\n",
    "i = 0\n",
    "while rate > 6:\n",
    "    print(PlayListRatings[i])\n",
    "    rate = PlayListRatings[i]\n",
    "    i += 1"
   ]
  },
  {
   "cell_type": "markdown",
   "id": "cbab1f0c-2e35-44c2-9063-241763dcb801",
   "metadata": {},
   "source": [
    "Functions"
   ]
  },
  {
   "cell_type": "code",
   "execution_count": 10,
   "id": "013f2121-9e02-4b74-9060-03b5bd9c6a56",
   "metadata": {
    "editable": true,
    "slideshow": {
     "slide_type": ""
    },
    "tags": [
     "jo"
    ]
   },
   "outputs": [
    {
     "name": "stdout",
     "output_type": "stream",
     "text": [
      "10\n",
      "9.5\n",
      "10\n",
      "8\n",
      "7.5\n",
      "5\n"
     ]
    }
   ],
   "source": [
    "def rate(a):\n",
    "    rate = a[0]\n",
    "    i = 0\n",
    "    while rate > 6:\n",
    "        print(a[i])\n",
    "        rate = a[i]\n",
    "        i += 1\n",
    "(rate([10, 9.5, 10, 8, 7.5, 5, 10, 10]))"
   ]
  },
  {
   "cell_type": "code",
   "execution_count": 18,
   "id": "9c03dbb9-670c-4c6a-967b-0f1eecd605cc",
   "metadata": {
    "editable": true,
    "slideshow": {
     "slide_type": ""
    },
    "tags": []
   },
   "outputs": [
    {
     "data": {
      "text/plain": [
       "'445 million'"
      ]
     },
     "execution_count": 18,
     "metadata": {},
     "output_type": "execute_result"
    }
   ],
   "source": [
    "def var():\n",
    "    global sales \n",
    "    sales = \"445 million\"\n",
    "    return sales\n",
    "# var()\n",
    "\n",
    "sales"
   ]
  },
  {
   "cell_type": "code",
   "execution_count": 21,
   "id": "cf440f36-0d15-4513-be4c-40518e4d1e49",
   "metadata": {},
   "outputs": [
    {
     "name": "stdout",
     "output_type": "stream",
     "text": [
      "country india\n",
      "state tn\n",
      "dt erode\n"
     ]
    }
   ],
   "source": [
    "def  printing(**args):\n",
    "    for i in args:\n",
    "        print(i, args[i])\n",
    "printing(country=\"india\", state=\"tn\", dt=\"erode\")"
   ]
  },
  {
   "cell_type": "code",
   "execution_count": 22,
   "id": "f5ee7c9e-40e0-48e0-b0d8-b2d7a707afc5",
   "metadata": {},
   "outputs": [
    {
     "data": {
      "text/plain": [
       "2.0"
      ]
     },
     "execution_count": 22,
     "metadata": {},
     "output_type": "execute_result"
    }
   ],
   "source": [
    "def div(a, b):\n",
    "    return a/b\n",
    "div(4, 2)"
   ]
  },
  {
   "cell_type": "code",
   "execution_count": null,
   "id": "9f62e92e-584e-44bd-9e70-e682e63633d0",
   "metadata": {
    "editable": true,
    "slideshow": {
     "slide_type": ""
    },
    "tags": []
   },
   "outputs": [],
   "source": []
  }
 ],
 "metadata": {
  "kernelspec": {
   "display_name": "Python 3 (ipykernel)",
   "language": "python",
   "name": "python3"
  },
  "language_info": {
   "codemirror_mode": {
    "name": "ipython",
    "version": 3
   },
   "file_extension": ".py",
   "mimetype": "text/x-python",
   "name": "python",
   "nbconvert_exporter": "python",
   "pygments_lexer": "ipython3",
   "version": "3.11.4"
  }
 },
 "nbformat": 4,
 "nbformat_minor": 5
}
