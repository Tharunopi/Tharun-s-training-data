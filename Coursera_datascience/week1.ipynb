{
 "cells": [
  {
   "cell_type": "code",
   "execution_count": 1,
   "id": "a994f90a-8131-4da8-9700-077d16bb8b10",
   "metadata": {},
   "outputs": [
    {
     "data": {
      "text/plain": [
       "5"
      ]
     },
     "execution_count": 1,
     "metadata": {},
     "output_type": "execute_result"
    }
   ],
   "source": [
    "11//2"
   ]
  },
  {
   "cell_type": "code",
   "execution_count": 2,
   "id": "e1a9e8db-b783-49a2-91ed-45e5a50af578",
   "metadata": {},
   "outputs": [
    {
     "data": {
      "text/plain": [
       "10"
      ]
     },
     "execution_count": 2,
     "metadata": {},
     "output_type": "execute_result"
    }
   ],
   "source": [
    "var = 10\n",
    "var"
   ]
  },
  {
   "cell_type": "code",
   "execution_count": 3,
   "id": "fbcd3118-f088-4ffc-85c3-888cb3feaf5b",
   "metadata": {},
   "outputs": [
    {
     "data": {
      "text/plain": [
       "10"
      ]
     },
     "execution_count": 3,
     "metadata": {},
     "output_type": "execute_result"
    }
   ],
   "source": [
    "var : 100\n",
    "var"
   ]
  },
  {
   "cell_type": "code",
   "execution_count": 7,
   "id": "778b698c-f2b7-41b8-ba55-0915aef2d1a2",
   "metadata": {},
   "outputs": [
    {
     "name": "stdout",
     "output_type": "stream",
     "text": [
      "Python 3.11.4\n"
     ]
    }
   ],
   "source": [
    "!python --version"
   ]
  },
  {
   "cell_type": "code",
   "execution_count": 8,
   "id": "165e8bcb-5e0d-43e6-9bd9-545ec46b79fc",
   "metadata": {},
   "outputs": [
    {
     "data": {
      "text/plain": [
       "'3.11.4 (tags/v3.11.4:d2340ef, Jun  7 2023, 05:45:37) [MSC v.1934 64 bit (AMD64)]'"
      ]
     },
     "execution_count": 8,
     "metadata": {},
     "output_type": "execute_result"
    }
   ],
   "source": [
    "import sys\n",
    "sys.version"
   ]
  },
  {
   "cell_type": "markdown",
   "id": "93bbf3b6-5993-4114-9e3e-d5e79719af00",
   "metadata": {},
   "source": [
    "String Stride"
   ]
  },
  {
   "cell_type": "code",
   "execution_count": 11,
   "id": "ecd0ab9f-3e7b-4b2c-bd9d-c6e1194316c8",
   "metadata": {},
   "outputs": [
    {
     "name": "stdout",
     "output_type": "stream",
     "text": [
      "Mce\n"
     ]
    }
   ],
   "source": [
    "name = \"Machel jackson\"\n",
    "print(name[0:6:2])"
   ]
  },
  {
   "cell_type": "code",
   "execution_count": 12,
   "id": "f05b9fae-15d8-4516-a0d7-82969d5a666d",
   "metadata": {},
   "outputs": [
    {
     "data": {
      "text/plain": [
       "14"
      ]
     },
     "execution_count": 12,
     "metadata": {},
     "output_type": "execute_result"
    }
   ],
   "source": [
    "len(name)"
   ]
  },
  {
   "cell_type": "code",
   "execution_count": 14,
   "id": "20bacf3e-0132-4a8c-bce0-e7a7fa9f6255",
   "metadata": {},
   "outputs": [
    {
     "name": "stdout",
     "output_type": "stream",
     "text": [
      "Machel jacksonMachel jacksonMachel jacksonMachel jackson\n"
     ]
    }
   ],
   "source": [
    "print(name * 4)"
   ]
  },
  {
   "cell_type": "code",
   "execution_count": 17,
   "id": "2fb06bfc-e713-41b2-bd09-2bd5b2db313b",
   "metadata": {},
   "outputs": [],
   "source": [
    "name = \"10\""
   ]
  },
  {
   "cell_type": "code",
   "execution_count": 18,
   "id": "d08ac349-a9ff-42c4-b6ba-f3aed977cc78",
   "metadata": {},
   "outputs": [
    {
     "data": {
      "text/plain": [
       "'10'"
      ]
     },
     "execution_count": 18,
     "metadata": {},
     "output_type": "execute_result"
    }
   ],
   "source": [
    "name"
   ]
  },
  {
   "cell_type": "code",
   "execution_count": 20,
   "id": "b52f3b31-75ff-456d-ae90-75d4882f1ac2",
   "metadata": {},
   "outputs": [
    {
     "name": "stdout",
     "output_type": "stream",
     "text": [
      "juice harish\n"
     ]
    }
   ],
   "source": [
    "a = \"bankaiharish\"\n",
    "print(a.replace(\"bankai\", \"juice \"))"
   ]
  },
  {
   "cell_type": "code",
   "execution_count": 21,
   "id": "fb8ff650-c9b6-4321-b0c6-f396dd1a581e",
   "metadata": {},
   "outputs": [
    {
     "name": "stdout",
     "output_type": "stream",
     "text": [
      "['harish', ' naveen', ' joe', ' tharun']\n"
     ]
    }
   ],
   "source": [
    "b = \"harish, naveen, joe, tharun\"\n",
    "print(b.split(\",\"))"
   ]
  },
  {
   "cell_type": "code",
   "execution_count": 22,
   "id": "3947401b-487a-4ed4-aace-8f40e11868bf",
   "metadata": {},
   "outputs": [],
   "source": [
    "import re"
   ]
  },
  {
   "cell_type": "code",
   "execution_count": 25,
   "id": "1c6f4b55-718b-45e9-bfd8-517af58a9612",
   "metadata": {},
   "outputs": [
    {
     "data": {
      "text/plain": [
       "True"
      ]
     },
     "execution_count": 25,
     "metadata": {},
     "output_type": "execute_result"
    }
   ],
   "source": [
    "a = \"Michael Jackson is the best\"\n",
    "pattern = r\"best\"\n",
    "result = re.search(pattern, a)\n",
    "bool(result)"
   ]
  },
  {
   "cell_type": "code",
   "execution_count": 39,
   "id": "66f2a905-99eb-491a-89e6-1e8255766321",
   "metadata": {},
   "outputs": [
    {
     "data": {
      "text/plain": [
       "True"
      ]
     },
     "execution_count": 39,
     "metadata": {},
     "output_type": "execute_result"
    }
   ],
   "source": [
    "phone = \"My Phone number is 1234567890.\"\n",
    "pattern = r\"\\W\"\n",
    "result = re.search(pattern, phone)\n",
    "bool(result)"
   ]
  },
  {
   "cell_type": "code",
   "execution_count": 41,
   "id": "25012bf9-9585-4660-b3c5-b18afb255c67",
   "metadata": {},
   "outputs": [
    {
     "name": "stdout",
     "output_type": "stream",
     "text": [
      " \n"
     ]
    }
   ],
   "source": [
    "print(result.group())"
   ]
  },
  {
   "cell_type": "code",
   "execution_count": 43,
   "id": "29b8ea51-5310-44b5-ad14-81582c3b7bd3",
   "metadata": {},
   "outputs": [
    {
     "data": {
      "text/plain": [
       "'2'"
      ]
     },
     "execution_count": 43,
     "metadata": {},
     "output_type": "execute_result"
    }
   ],
   "source": [
    "str(1+1)"
   ]
  },
  {
   "cell_type": "code",
   "execution_count": 45,
   "id": "17e0218b-5f57-417d-b5a5-2a73c9c0d4a0",
   "metadata": {},
   "outputs": [
    {
     "data": {
      "text/plain": [
       "'ab3'"
      ]
     },
     "execution_count": 45,
     "metadata": {},
     "output_type": "execute_result"
    }
   ],
   "source": [
    "\"123\".replace(\"12\", \"ab\")"
   ]
  },
  {
   "cell_type": "code",
   "execution_count": null,
   "id": "e97de424-67a3-4ccc-9ba7-56251beea076",
   "metadata": {},
   "outputs": [],
   "source": []
  }
 ],
 "metadata": {
  "kernelspec": {
   "display_name": "Python 3 (ipykernel)",
   "language": "python",
   "name": "python3"
  },
  "language_info": {
   "codemirror_mode": {
    "name": "ipython",
    "version": 3
   },
   "file_extension": ".py",
   "mimetype": "text/x-python",
   "name": "python",
   "nbconvert_exporter": "python",
   "pygments_lexer": "ipython3",
   "version": "3.11.4"
  }
 },
 "nbformat": 4,
 "nbformat_minor": 5
}
