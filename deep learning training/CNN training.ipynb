{
 "cells": [
  {
   "cell_type": "code",
   "execution_count": 1,
   "id": "4a3cf004-3782-4763-893e-4677c6aca860",
   "metadata": {},
   "outputs": [
    {
     "name": "stdout",
     "output_type": "stream",
     "text": [
      "WARNING:tensorflow:From C:\\Users\\tharu\\Lib\\site-packages\\keras\\src\\losses.py:2976: The name tf.losses.sparse_softmax_cross_entropy is deprecated. Please use tf.compat.v1.losses.sparse_softmax_cross_entropy instead.\n",
      "\n"
     ]
    }
   ],
   "source": [
    "import tensorflow as tf\n",
    "from keras.preprocessing.image import ImageDataGenerator\n",
    "import numpy as np"
   ]
  },
  {
   "cell_type": "code",
   "execution_count": 2,
   "id": "eeb6abcf-4296-4172-82ca-9367e1943710",
   "metadata": {},
   "outputs": [
    {
     "name": "stdout",
     "output_type": "stream",
     "text": [
      "Found 8000 images belonging to 2 classes.\n"
     ]
    }
   ],
   "source": [
    "train_datagen = ImageDataGenerator(\n",
    "    rescale = 1./255, \n",
    "    shear_range = 0.2,\n",
    "    zoom_range = 0.2,\n",
    "    horizontal_flip = True\n",
    ")\n",
    "training_set = train_datagen.flow_from_directory(\n",
    "    r\"E:\\Zip files\\dataset\\dataset\\training_set\",\n",
    "    target_size = (64, 64),\n",
    "    batch_size = 32,\n",
    "    class_mode = \"binary\"\n",
    ")"
   ]
  },
  {
   "cell_type": "code",
   "execution_count": 3,
   "id": "6e5b5ef6-289d-404a-bf59-f0bb989337ec",
   "metadata": {},
   "outputs": [
    {
     "name": "stdout",
     "output_type": "stream",
     "text": [
      "Found 2000 images belonging to 2 classes.\n"
     ]
    }
   ],
   "source": [
    "test_datagen = ImageDataGenerator(\n",
    "    rescale = (1./255)\n",
    ")\n",
    "test_set = test_datagen.flow_from_directory(\n",
    "    r\"E:\\Zip files\\dataset\\dataset\\test_set\",\n",
    "    target_size = (64, 64),\n",
    "    batch_size = 32,\n",
    "    class_mode = \"binary\"\n",
    ")"
   ]
  },
  {
   "cell_type": "code",
   "execution_count": 4,
   "id": "acab3328-928d-43c2-a241-d6053d8e86ee",
   "metadata": {},
   "outputs": [
    {
     "name": "stdout",
     "output_type": "stream",
     "text": [
      "WARNING:tensorflow:From C:\\Users\\tharu\\Lib\\site-packages\\keras\\src\\backend.py:873: The name tf.get_default_graph is deprecated. Please use tf.compat.v1.get_default_graph instead.\n",
      "\n"
     ]
    }
   ],
   "source": [
    "cnn = tf.keras.models.Sequential()"
   ]
  },
  {
   "cell_type": "code",
   "execution_count": 5,
   "id": "96ff5459-ebcd-4385-9b2e-18b9ac2e921d",
   "metadata": {},
   "outputs": [],
   "source": [
    "cnn.add(tf.keras.layers.Conv2D(filters=32, kernel_size=3, activation=\"relu\", input_shape=[64, 64, 3]))"
   ]
  },
  {
   "cell_type": "code",
   "execution_count": 6,
   "id": "388d918d-eb6c-46dc-9631-a413940eb3c9",
   "metadata": {},
   "outputs": [
    {
     "name": "stdout",
     "output_type": "stream",
     "text": [
      "WARNING:tensorflow:From C:\\Users\\tharu\\Lib\\site-packages\\keras\\src\\layers\\pooling\\max_pooling2d.py:161: The name tf.nn.max_pool is deprecated. Please use tf.nn.max_pool2d instead.\n",
      "\n"
     ]
    }
   ],
   "source": [
    "cnn.add(tf.keras.layers.MaxPooling2D(pool_size=2, strides=2))"
   ]
  },
  {
   "cell_type": "code",
   "execution_count": 7,
   "id": "80cc1b33-b31f-4226-b114-a66bd783369a",
   "metadata": {},
   "outputs": [],
   "source": [
    "cnn.add(tf.keras.layers.Conv2D(filters=32, kernel_size=3, activation=\"relu\"))\n",
    "cnn.add(tf.keras.layers.MaxPooling2D(pool_size=2, strides=2))"
   ]
  },
  {
   "cell_type": "code",
   "execution_count": 8,
   "id": "81ee542d-ed50-4461-85bd-ef1c878726fe",
   "metadata": {},
   "outputs": [],
   "source": [
    "cnn.add(tf.keras.layers.Flatten())"
   ]
  },
  {
   "cell_type": "code",
   "execution_count": 9,
   "id": "c3f8f0c1-61ec-477a-82b4-89c97ed3c934",
   "metadata": {},
   "outputs": [],
   "source": [
    "cnn.add(tf.keras.layers.Dense(units=128, activation=\"relu\"))"
   ]
  },
  {
   "cell_type": "code",
   "execution_count": 10,
   "id": "ecf29b2c-ede2-476b-a4ef-d5c1e23bd5cb",
   "metadata": {},
   "outputs": [],
   "source": [
    "cnn.add(tf.keras.layers.Dense(units=1, activation=\"sigmoid\"))"
   ]
  },
  {
   "cell_type": "code",
   "execution_count": 11,
   "id": "326b6166-1d51-4770-b1f3-ec3f1293305f",
   "metadata": {},
   "outputs": [
    {
     "name": "stdout",
     "output_type": "stream",
     "text": [
      "WARNING:tensorflow:From C:\\Users\\tharu\\Lib\\site-packages\\keras\\src\\optimizers\\__init__.py:309: The name tf.train.Optimizer is deprecated. Please use tf.compat.v1.train.Optimizer instead.\n",
      "\n"
     ]
    }
   ],
   "source": [
    "cnn.compile(optimizer=\"adam\", loss=\"binary_crossentropy\", metrics=\"accuracy\")"
   ]
  },
  {
   "cell_type": "code",
   "execution_count": 13,
   "id": "ff31b3de-86e6-4aad-81f9-571002d2cd23",
   "metadata": {
    "scrolled": true
   },
   "outputs": [
    {
     "name": "stdout",
     "output_type": "stream",
     "text": [
      "Epoch 1/25\n",
      "250/250 [==============================] - 24s 95ms/step - loss: 0.6422 - accuracy: 0.6258 - val_loss: 0.6092 - val_accuracy: 0.6685\n",
      "Epoch 2/25\n",
      "250/250 [==============================] - 24s 95ms/step - loss: 0.5835 - accuracy: 0.6957 - val_loss: 0.5614 - val_accuracy: 0.7185\n",
      "Epoch 3/25\n",
      "250/250 [==============================] - 50s 201ms/step - loss: 0.5465 - accuracy: 0.7283 - val_loss: 0.5120 - val_accuracy: 0.7425\n",
      "Epoch 4/25\n",
      "250/250 [==============================] - 44s 176ms/step - loss: 0.5145 - accuracy: 0.7401 - val_loss: 0.5047 - val_accuracy: 0.7535\n",
      "Epoch 5/25\n",
      "250/250 [==============================] - 42s 170ms/step - loss: 0.4943 - accuracy: 0.7573 - val_loss: 0.4837 - val_accuracy: 0.7740\n",
      "Epoch 6/25\n",
      "250/250 [==============================] - 39s 154ms/step - loss: 0.4713 - accuracy: 0.7710 - val_loss: 0.4827 - val_accuracy: 0.7685\n",
      "Epoch 7/25\n",
      "250/250 [==============================] - 47s 188ms/step - loss: 0.4562 - accuracy: 0.7822 - val_loss: 0.4748 - val_accuracy: 0.7795\n",
      "Epoch 8/25\n",
      "250/250 [==============================] - 34s 137ms/step - loss: 0.4387 - accuracy: 0.7925 - val_loss: 0.4825 - val_accuracy: 0.7810\n",
      "Epoch 9/25\n",
      "250/250 [==============================] - 30s 119ms/step - loss: 0.4240 - accuracy: 0.7962 - val_loss: 0.4739 - val_accuracy: 0.7780\n",
      "Epoch 10/25\n",
      "250/250 [==============================] - 28s 114ms/step - loss: 0.4090 - accuracy: 0.8085 - val_loss: 0.4553 - val_accuracy: 0.7900\n",
      "Epoch 11/25\n",
      "250/250 [==============================] - 29s 115ms/step - loss: 0.4002 - accuracy: 0.8176 - val_loss: 0.4323 - val_accuracy: 0.7985\n",
      "Epoch 12/25\n",
      "250/250 [==============================] - 27s 109ms/step - loss: 0.3823 - accuracy: 0.8239 - val_loss: 0.4729 - val_accuracy: 0.7840\n",
      "Epoch 13/25\n",
      "250/250 [==============================] - 47s 187ms/step - loss: 0.3590 - accuracy: 0.8336 - val_loss: 0.4472 - val_accuracy: 0.8020\n",
      "Epoch 14/25\n",
      "250/250 [==============================] - 35s 139ms/step - loss: 0.3481 - accuracy: 0.8465 - val_loss: 0.4742 - val_accuracy: 0.7845\n",
      "Epoch 15/25\n",
      "250/250 [==============================] - 32s 128ms/step - loss: 0.3342 - accuracy: 0.8505 - val_loss: 0.4700 - val_accuracy: 0.7890\n",
      "Epoch 16/25\n",
      "250/250 [==============================] - 30s 121ms/step - loss: 0.3225 - accuracy: 0.8610 - val_loss: 0.4520 - val_accuracy: 0.8105\n",
      "Epoch 17/25\n",
      "250/250 [==============================] - 29s 116ms/step - loss: 0.3104 - accuracy: 0.8670 - val_loss: 0.4925 - val_accuracy: 0.7890\n",
      "Epoch 18/25\n",
      "250/250 [==============================] - 31s 126ms/step - loss: 0.2899 - accuracy: 0.8770 - val_loss: 0.4688 - val_accuracy: 0.8005\n",
      "Epoch 19/25\n",
      "250/250 [==============================] - 28s 111ms/step - loss: 0.2783 - accuracy: 0.8789 - val_loss: 0.5780 - val_accuracy: 0.7570\n",
      "Epoch 20/25\n",
      "250/250 [==============================] - 35s 141ms/step - loss: 0.2627 - accuracy: 0.8874 - val_loss: 0.5276 - val_accuracy: 0.7900\n",
      "Epoch 21/25\n",
      "250/250 [==============================] - 34s 134ms/step - loss: 0.2486 - accuracy: 0.8976 - val_loss: 0.5072 - val_accuracy: 0.8015\n",
      "Epoch 22/25\n",
      "250/250 [==============================] - 36s 146ms/step - loss: 0.2221 - accuracy: 0.9085 - val_loss: 0.5517 - val_accuracy: 0.7945\n",
      "Epoch 23/25\n",
      "250/250 [==============================] - 44s 176ms/step - loss: 0.2243 - accuracy: 0.9076 - val_loss: 0.5357 - val_accuracy: 0.7975\n",
      "Epoch 24/25\n",
      "250/250 [==============================] - 30s 121ms/step - loss: 0.2116 - accuracy: 0.9151 - val_loss: 0.5764 - val_accuracy: 0.8050\n",
      "Epoch 25/25\n",
      "250/250 [==============================] - 31s 123ms/step - loss: 0.1977 - accuracy: 0.9189 - val_loss: 0.6045 - val_accuracy: 0.8020\n"
     ]
    },
    {
     "data": {
      "text/plain": [
       "<keras.src.callbacks.History at 0x1acfe3206d0>"
      ]
     },
     "execution_count": 13,
     "metadata": {},
     "output_type": "execute_result"
    }
   ],
   "source": [
    "cnn.fit(x = training_set, validation_data = test_set, epochs = 25)"
   ]
  },
  {
   "cell_type": "code",
   "execution_count": null,
   "id": "0405b09e-89b2-4d6e-bdcb-4bd0142ec559",
   "metadata": {},
   "outputs": [],
   "source": [
    "from keras.preprocessing import image\n",
    "test_image = image.load_img(r\"E:\\cute-cat-digital-art_23-2151232347.webp\", target_size=(64, 64))\n",
    "test_image = image.img_to_array(test_image)\n",
    "test_image = np.expand_dims(test_image, axis=0)\n",
    "result = cnn.predict(test_image)"
   ]
  },
  {
   "cell_type": "code",
   "execution_count": null,
   "id": "f9ec2650-6cb8-4074-8be8-32a8df88a72f",
   "metadata": {},
   "outputs": [],
   "source": [
    "training_set.class_indices"
   ]
  },
  {
   "cell_type": "code",
   "execution_count": null,
   "id": "de35da0d-9e3d-4f7f-a6d5-5f6336eb324e",
   "metadata": {},
   "outputs": [],
   "source": [
    "result"
   ]
  },
  {
   "cell_type": "code",
   "execution_count": null,
   "id": "369b468e-331b-4153-84db-814bd4f51a9a",
   "metadata": {},
   "outputs": [],
   "source": []
  },
  {
   "cell_type": "code",
   "execution_count": null,
   "id": "1d7d77b9-0622-4f1f-a53a-ae3116c9dae0",
   "metadata": {},
   "outputs": [],
   "source": []
  }
 ],
 "metadata": {
  "kernelspec": {
   "display_name": "Python 3 (ipykernel)",
   "language": "python",
   "name": "python3"
  },
  "language_info": {
   "codemirror_mode": {
    "name": "ipython",
    "version": 3
   },
   "file_extension": ".py",
   "mimetype": "text/x-python",
   "name": "python",
   "nbconvert_exporter": "python",
   "pygments_lexer": "ipython3",
   "version": "3.11.4"
  }
 },
 "nbformat": 4,
 "nbformat_minor": 5
}
