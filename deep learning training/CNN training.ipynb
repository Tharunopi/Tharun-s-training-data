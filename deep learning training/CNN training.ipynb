{
 "cells": [
  {
   "cell_type": "code",
   "execution_count": 2,
   "id": "4a3cf004-3782-4763-893e-4677c6aca860",
   "metadata": {},
   "outputs": [
    {
     "name": "stdout",
     "output_type": "stream",
     "text": [
      "WARNING:tensorflow:From C:\\Users\\tharu\\Lib\\site-packages\\keras\\src\\losses.py:2976: The name tf.losses.sparse_softmax_cross_entropy is deprecated. Please use tf.compat.v1.losses.sparse_softmax_cross_entropy instead.\n",
      "\n"
     ]
    }
   ],
   "source": [
    "import tensorflow as tf\n",
    "from keras.preprocessing.image import ImageDataGenerator\n",
    "import numpy as np"
   ]
  },
  {
   "cell_type": "code",
   "execution_count": 3,
   "id": "eeb6abcf-4296-4172-82ca-9367e1943710",
   "metadata": {},
   "outputs": [
    {
     "name": "stdout",
     "output_type": "stream",
     "text": [
      "Found 8000 images belonging to 2 classes.\n"
     ]
    }
   ],
   "source": [
    "train_datagen = ImageDataGenerator(\n",
    "    rescale = 1./255, \n",
    "    shear_range = 0.2,\n",
    "    zoom_range = 0.2,\n",
    "    horizontal_flip = True\n",
    ")\n",
    "training_set = train_datagen.flow_from_directory(\n",
    "    r\"E:\\Zip files\\dataset\\dataset\\training_set\",\n",
    "    target_size = (64, 64),\n",
    "    batch_size = 32,\n",
    "    class_mode = \"binary\"\n",
    ")"
   ]
  },
  {
   "cell_type": "code",
   "execution_count": 4,
   "id": "6e5b5ef6-289d-404a-bf59-f0bb989337ec",
   "metadata": {},
   "outputs": [
    {
     "name": "stdout",
     "output_type": "stream",
     "text": [
      "Found 2000 images belonging to 2 classes.\n"
     ]
    }
   ],
   "source": [
    "test_datagen = ImageDataGenerator(\n",
    "    rescale = (1./255)\n",
    ")\n",
    "test_set = test_datagen.flow_from_directory(\n",
    "    r\"E:\\Zip files\\dataset\\dataset\\test_set\",\n",
    "    target_size = (64, 64),\n",
    "    batch_size = 32,\n",
    "    class_mode = \"binary\"\n",
    ")"
   ]
  },
  {
   "cell_type": "code",
   "execution_count": 5,
   "id": "acab3328-928d-43c2-a241-d6053d8e86ee",
   "metadata": {},
   "outputs": [
    {
     "name": "stdout",
     "output_type": "stream",
     "text": [
      "WARNING:tensorflow:From C:\\Users\\tharu\\Lib\\site-packages\\keras\\src\\backend.py:873: The name tf.get_default_graph is deprecated. Please use tf.compat.v1.get_default_graph instead.\n",
      "\n"
     ]
    }
   ],
   "source": [
    "cnn = tf.keras.models.Sequential()"
   ]
  },
  {
   "cell_type": "code",
   "execution_count": 6,
   "id": "96ff5459-ebcd-4385-9b2e-18b9ac2e921d",
   "metadata": {},
   "outputs": [],
   "source": [
    "cnn.add(tf.keras.layers.Conv2D(filters=32, kernel_size=3, activation=\"relu\", input_shape=[64, 64, 3]))"
   ]
  },
  {
   "cell_type": "code",
   "execution_count": 7,
   "id": "388d918d-eb6c-46dc-9631-a413940eb3c9",
   "metadata": {},
   "outputs": [
    {
     "name": "stdout",
     "output_type": "stream",
     "text": [
      "WARNING:tensorflow:From C:\\Users\\tharu\\Lib\\site-packages\\keras\\src\\layers\\pooling\\max_pooling2d.py:161: The name tf.nn.max_pool is deprecated. Please use tf.nn.max_pool2d instead.\n",
      "\n"
     ]
    }
   ],
   "source": [
    "cnn.add(tf.keras.layers.MaxPooling2D(pool_size=2, strides=2))"
   ]
  },
  {
   "cell_type": "code",
   "execution_count": 8,
   "id": "80cc1b33-b31f-4226-b114-a66bd783369a",
   "metadata": {},
   "outputs": [],
   "source": [
    "cnn.add(tf.keras.layers.Conv2D(filters=32, kernel_size=3, activation=\"relu\"))\n",
    "cnn.add(tf.keras.layers.MaxPooling2D(pool_size=2, strides=2))"
   ]
  },
  {
   "cell_type": "code",
   "execution_count": 9,
   "id": "81ee542d-ed50-4461-85bd-ef1c878726fe",
   "metadata": {},
   "outputs": [],
   "source": [
    "cnn.add(tf.keras.layers.Flatten())"
   ]
  },
  {
   "cell_type": "code",
   "execution_count": 10,
   "id": "c3f8f0c1-61ec-477a-82b4-89c97ed3c934",
   "metadata": {},
   "outputs": [],
   "source": [
    "cnn.add(tf.keras.layers.Dense(units=128, activation=\"relu\"))"
   ]
  },
  {
   "cell_type": "code",
   "execution_count": 11,
   "id": "ecf29b2c-ede2-476b-a4ef-d5c1e23bd5cb",
   "metadata": {},
   "outputs": [],
   "source": [
    "cnn.add(tf.keras.layers.Dense(units=1, activation=\"sigmoid\"))"
   ]
  },
  {
   "cell_type": "code",
   "execution_count": 12,
   "id": "326b6166-1d51-4770-b1f3-ec3f1293305f",
   "metadata": {},
   "outputs": [
    {
     "name": "stdout",
     "output_type": "stream",
     "text": [
      "WARNING:tensorflow:From C:\\Users\\tharu\\Lib\\site-packages\\keras\\src\\optimizers\\__init__.py:309: The name tf.train.Optimizer is deprecated. Please use tf.compat.v1.train.Optimizer instead.\n",
      "\n"
     ]
    }
   ],
   "source": [
    "cnn.compile(optimizer=\"adam\", loss=\"binary_crossentropy\", metrics=\"accuracy\")"
   ]
  },
  {
   "cell_type": "code",
   "execution_count": 13,
   "id": "ff31b3de-86e6-4aad-81f9-571002d2cd23",
   "metadata": {
    "scrolled": true
   },
   "outputs": [
    {
     "name": "stdout",
     "output_type": "stream",
     "text": [
      "Epoch 1/25\n",
      "WARNING:tensorflow:From C:\\Users\\tharu\\Lib\\site-packages\\keras\\src\\utils\\tf_utils.py:492: The name tf.ragged.RaggedTensorValue is deprecated. Please use tf.compat.v1.ragged.RaggedTensorValue instead.\n",
      "\n",
      "WARNING:tensorflow:From C:\\Users\\tharu\\Lib\\site-packages\\keras\\src\\engine\\base_layer_utils.py:384: The name tf.executing_eagerly_outside_functions is deprecated. Please use tf.compat.v1.executing_eagerly_outside_functions instead.\n",
      "\n",
      "250/250 [==============================] - 154s 608ms/step - loss: 0.6864 - accuracy: 0.5576 - val_loss: 0.6651 - val_accuracy: 0.6080\n",
      "Epoch 2/25\n",
      "250/250 [==============================] - 39s 155ms/step - loss: 0.6475 - accuracy: 0.6348 - val_loss: 0.6025 - val_accuracy: 0.7030\n",
      "Epoch 3/25\n",
      "250/250 [==============================] - 26s 103ms/step - loss: 0.5994 - accuracy: 0.6821 - val_loss: 0.5804 - val_accuracy: 0.7130\n",
      "Epoch 4/25\n",
      "250/250 [==============================] - 26s 104ms/step - loss: 0.5597 - accuracy: 0.7071 - val_loss: 0.5276 - val_accuracy: 0.7520\n",
      "Epoch 5/25\n",
      "250/250 [==============================] - 28s 113ms/step - loss: 0.5342 - accuracy: 0.7301 - val_loss: 0.5906 - val_accuracy: 0.6970\n",
      "Epoch 6/25\n",
      "250/250 [==============================] - 25s 101ms/step - loss: 0.5106 - accuracy: 0.7491 - val_loss: 0.4909 - val_accuracy: 0.7650\n",
      "Epoch 7/25\n",
      "250/250 [==============================] - 23s 92ms/step - loss: 0.4837 - accuracy: 0.7692 - val_loss: 0.5162 - val_accuracy: 0.7440\n",
      "Epoch 8/25\n",
      "250/250 [==============================] - 23s 91ms/step - loss: 0.4628 - accuracy: 0.7791 - val_loss: 0.4822 - val_accuracy: 0.7695\n",
      "Epoch 9/25\n",
      "250/250 [==============================] - 23s 91ms/step - loss: 0.4499 - accuracy: 0.7840 - val_loss: 0.4707 - val_accuracy: 0.7815\n",
      "Epoch 10/25\n",
      "250/250 [==============================] - 23s 90ms/step - loss: 0.4194 - accuracy: 0.8056 - val_loss: 0.4599 - val_accuracy: 0.7855\n",
      "Epoch 11/25\n",
      "250/250 [==============================] - 26s 104ms/step - loss: 0.3981 - accuracy: 0.8177 - val_loss: 0.4496 - val_accuracy: 0.7930\n",
      "Epoch 12/25\n",
      "250/250 [==============================] - 24s 97ms/step - loss: 0.3845 - accuracy: 0.8246 - val_loss: 0.5778 - val_accuracy: 0.7380\n",
      "Epoch 13/25\n",
      "250/250 [==============================] - 25s 99ms/step - loss: 0.3648 - accuracy: 0.8350 - val_loss: 0.4922 - val_accuracy: 0.7925\n",
      "Epoch 14/25\n",
      "250/250 [==============================] - 25s 98ms/step - loss: 0.3488 - accuracy: 0.8454 - val_loss: 0.4682 - val_accuracy: 0.7985\n",
      "Epoch 15/25\n",
      "250/250 [==============================] - 23s 93ms/step - loss: 0.3334 - accuracy: 0.8556 - val_loss: 0.5154 - val_accuracy: 0.7850\n",
      "Epoch 16/25\n",
      "250/250 [==============================] - 24s 97ms/step - loss: 0.3212 - accuracy: 0.8616 - val_loss: 0.4748 - val_accuracy: 0.7965\n",
      "Epoch 17/25\n",
      "250/250 [==============================] - 24s 98ms/step - loss: 0.3012 - accuracy: 0.8724 - val_loss: 0.4935 - val_accuracy: 0.8045\n",
      "Epoch 18/25\n",
      "250/250 [==============================] - 23s 90ms/step - loss: 0.2793 - accuracy: 0.8832 - val_loss: 0.5618 - val_accuracy: 0.7855\n",
      "Epoch 19/25\n",
      "250/250 [==============================] - 23s 92ms/step - loss: 0.2671 - accuracy: 0.8904 - val_loss: 0.5059 - val_accuracy: 0.8040\n",
      "Epoch 20/25\n",
      "250/250 [==============================] - 25s 100ms/step - loss: 0.2539 - accuracy: 0.8960 - val_loss: 0.5632 - val_accuracy: 0.7935\n",
      "Epoch 21/25\n",
      "250/250 [==============================] - 23s 91ms/step - loss: 0.2355 - accuracy: 0.9028 - val_loss: 0.5321 - val_accuracy: 0.8130\n",
      "Epoch 22/25\n",
      "250/250 [==============================] - 22s 87ms/step - loss: 0.2152 - accuracy: 0.9139 - val_loss: 0.5247 - val_accuracy: 0.8070\n",
      "Epoch 23/25\n",
      "250/250 [==============================] - 25s 99ms/step - loss: 0.2019 - accuracy: 0.9210 - val_loss: 0.5815 - val_accuracy: 0.7900\n",
      "Epoch 24/25\n",
      "250/250 [==============================] - 23s 90ms/step - loss: 0.2006 - accuracy: 0.9199 - val_loss: 0.6288 - val_accuracy: 0.7825\n",
      "Epoch 25/25\n",
      "250/250 [==============================] - 26s 102ms/step - loss: 0.1867 - accuracy: 0.9281 - val_loss: 0.5527 - val_accuracy: 0.8050\n"
     ]
    },
    {
     "data": {
      "text/plain": [
       "<keras.src.callbacks.History at 0x1eee0cee590>"
      ]
     },
     "execution_count": 13,
     "metadata": {},
     "output_type": "execute_result"
    }
   ],
   "source": [
    "cnn.fit(x = training_set, validation_data = test_set, epochs = 25)"
   ]
  },
  {
   "cell_type": "code",
   "execution_count": 16,
   "id": "adfe1532-1701-4213-b8da-b63ab7e2177c",
   "metadata": {},
   "outputs": [
    {
     "name": "stdout",
     "output_type": "stream",
     "text": [
      "INFO:tensorflow:Assets written to: C:\\Stack overflow\\Tharun-s-training-data\\deep learning training\\assets\n"
     ]
    },
    {
     "name": "stderr",
     "output_type": "stream",
     "text": [
      "INFO:tensorflow:Assets written to: C:\\Stack overflow\\Tharun-s-training-data\\deep learning training\\assets\n"
     ]
    }
   ],
   "source": [
    "cnn.save(\"C:\\Stack overflow\\Tharun-s-training-data\\deep learning training\")"
   ]
  },
  {
   "cell_type": "code",
   "execution_count": 25,
   "id": "0405b09e-89b2-4d6e-bdcb-4bd0142ec559",
   "metadata": {},
   "outputs": [
    {
     "name": "stdout",
     "output_type": "stream",
     "text": [
      "1/1 [==============================] - 0s 22ms/step\n"
     ]
    }
   ],
   "source": [
    "from keras.preprocessing import image\n",
    "test_image = image.load_img(r\"E:\\cute-cat-digital-art_23-2151232347.webp\", target_size=(64, 64))\n",
    "test_image = image.img_to_array(test_image)\n",
    "test_image = np.expand_dims(test_image, axis=0)\n",
    "result = cnn.predict(test_image)"
   ]
  },
  {
   "cell_type": "code",
   "execution_count": 26,
   "id": "f9ec2650-6cb8-4074-8be8-32a8df88a72f",
   "metadata": {},
   "outputs": [
    {
     "data": {
      "text/plain": [
       "{'cats': 0, 'dogs': 1}"
      ]
     },
     "execution_count": 26,
     "metadata": {},
     "output_type": "execute_result"
    }
   ],
   "source": [
    "training_set.class_indices"
   ]
  },
  {
   "cell_type": "code",
   "execution_count": 27,
   "id": "de35da0d-9e3d-4f7f-a6d5-5f6336eb324e",
   "metadata": {},
   "outputs": [
    {
     "data": {
      "text/plain": [
       "array([[1.]], dtype=float32)"
      ]
     },
     "execution_count": 27,
     "metadata": {},
     "output_type": "execute_result"
    }
   ],
   "source": [
    "result"
   ]
  },
  {
   "cell_type": "code",
   "execution_count": null,
   "id": "369b468e-331b-4153-84db-814bd4f51a9a",
   "metadata": {},
   "outputs": [],
   "source": []
  }
 ],
 "metadata": {
  "kernelspec": {
   "display_name": "Python 3 (ipykernel)",
   "language": "python",
   "name": "python3"
  },
  "language_info": {
   "codemirror_mode": {
    "name": "ipython",
    "version": 3
   },
   "file_extension": ".py",
   "mimetype": "text/x-python",
   "name": "python",
   "nbconvert_exporter": "python",
   "pygments_lexer": "ipython3",
   "version": "3.11.4"
  }
 },
 "nbformat": 4,
 "nbformat_minor": 5
}
