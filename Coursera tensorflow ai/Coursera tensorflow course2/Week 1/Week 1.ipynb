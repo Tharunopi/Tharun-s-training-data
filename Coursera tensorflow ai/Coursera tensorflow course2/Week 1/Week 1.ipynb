{
 "cells": [
  {
   "cell_type": "code",
   "execution_count": 2,
   "id": "9b916b7c-2ea1-43cf-a190-da564e9d682c",
   "metadata": {},
   "outputs": [],
   "source": [
    "import tensorflow as tf\n",
    "from keras.preprocessing.image import ImageDataGenerator"
   ]
  },
  {
   "cell_type": "code",
   "execution_count": 7,
   "id": "ab5cacbf-e979-4d55-8430-34b477c46c07",
   "metadata": {},
   "outputs": [],
   "source": [
    "def training(path):\n",
    "    train = ImageDataGenerator(\n",
    "    shear_range=0.2,\n",
    "    zoom_range=0.2,\n",
    "    horizontal_flip=True,\n",
    "    rescale=1./255\n",
    "    )\n",
    "\n",
    "    train = train.flow_from_directory(\n",
    "    directory=path,  \n",
    "    target_size=(150, 150),  \n",
    "    batch_size=20,\n",
    "    class_mode='binary'\n",
    "    )\n",
    "\n",
    "    return train"
   ]
  },
  {
   "cell_type": "code",
   "execution_count": 8,
   "id": "01d4e7a0-a461-4415-904a-daeda286dbb5",
   "metadata": {},
   "outputs": [],
   "source": [
    "def testing(path):\n",
    "    test = ImageDataGenerator(\n",
    "    rescale=1./255\n",
    "    )\n",
    "\n",
    "    test = test.flow_from_directory(\n",
    "    directory = path,  \n",
    "    target_size=(150, 150),  \n",
    "    batch_size=20,\n",
    "    class_mode='binary'\n",
    "    )\n",
    "\n",
    "    return test"
   ]
  },
  {
   "cell_type": "code",
   "execution_count": 9,
   "id": "ed1b0103-a6d0-4d29-95ea-1a3b46e73dfb",
   "metadata": {},
   "outputs": [],
   "source": [
    "def model():\n",
    "\n",
    "    cnn = tf.keras.models.Sequential()\n",
    "    cnn.add(tf.keras.layers.Conv2D(\n",
    "        filters = 32,\n",
    "        kernel_size = 3,\n",
    "        strides=(1, 1),\n",
    "        activation=\"relu\",\n",
    "        input_shape = (150, 150, 3)\n",
    "    ))\n",
    "    cnn.add(tf.keras.layers.MaxPool2D(\n",
    "        pool_size=(2, 2),\n",
    "        strides=2\n",
    "    ))\n",
    "\n",
    "    cnn.add(tf.keras.layers.Conv2D(\n",
    "        filters = 32,\n",
    "        kernel_size = 3,\n",
    "        strides=(1, 1),\n",
    "        activation=\"relu\"\n",
    "    ))\n",
    "    cnn.add(tf.keras.layers.MaxPool2D(\n",
    "        pool_size=(2, 2),\n",
    "        strides=2\n",
    "    ))\n",
    "\n",
    "    cnn.add(tf.keras.layers.Conv2D(\n",
    "        filters = 32,\n",
    "        kernel_size = 3,\n",
    "        strides=(1, 1),\n",
    "        activation=\"relu\"\n",
    "    ))\n",
    "    cnn.add(tf.keras.layers.MaxPool2D(\n",
    "        pool_size=(2, 2),\n",
    "        strides=2\n",
    "    ))\n",
    "\n",
    "    cnn.add(tf.keras.layers.Flatten())\n",
    "\n",
    "    cnn.add(tf.keras.layers.Dense(\n",
    "        units=512,\n",
    "        activation=\"relu\"\n",
    "    ))\n",
    "\n",
    "    cnn.add(tf.keras.layers.Dense(\n",
    "        units=1,\n",
    "        activation=\"sigmoid\"\n",
    "    ))\n",
    "\n",
    "    return cnn"
   ]
  },
  {
   "cell_type": "code",
   "execution_count": 18,
   "id": "a1be7bfe-775e-4194-8b57-daac7306f382",
   "metadata": {},
   "outputs": [
    {
     "name": "stdout",
     "output_type": "stream",
     "text": [
      "Found 25000 images belonging to 2 classes.\n"
     ]
    }
   ],
   "source": [
    "train_datagen = training(r\"E:\\Dataset\\dogs-vs-cats\\train\")"
   ]
  },
  {
   "cell_type": "code",
   "execution_count": 19,
   "id": "9f6b15ad-4b4e-461c-9479-e83707a92e47",
   "metadata": {},
   "outputs": [
    {
     "name": "stdout",
     "output_type": "stream",
     "text": [
      "Found 12500 images belonging to 1 classes.\n"
     ]
    }
   ],
   "source": [
    "test_datagen = testing(r\"E:\\Dataset\\dogs-vs-cats\\test1\")"
   ]
  },
  {
   "cell_type": "code",
   "execution_count": 20,
   "id": "e1d6d055-c9e5-464c-a414-00c5cf8adc4e",
   "metadata": {},
   "outputs": [],
   "source": [
    "dp = model()"
   ]
  },
  {
   "cell_type": "code",
   "execution_count": 21,
   "id": "69352bd4-75c0-4b0d-ad48-6b7e21aabd12",
   "metadata": {},
   "outputs": [],
   "source": [
    "dp.compile(\n",
    "    optimizer='rmsprop',\n",
    "    loss=\"binary_crossentropy\",\n",
    "    metrics=[\"accuracy\"]\n",
    ")"
   ]
  },
  {
   "cell_type": "code",
   "execution_count": null,
   "id": "94790dbd-7e5c-4588-bb8e-a45b9ed2f9a8",
   "metadata": {},
   "outputs": [
    {
     "name": "stdout",
     "output_type": "stream",
     "text": [
      "Epoch 1/10\n",
      "1180/1250 [===========================>..] - ETA: 23s - loss: 0.6118 - accuracy: 0.6599"
     ]
    }
   ],
   "source": [
    "dp.fit(x=train_datagen,\n",
    "    batch_size=32,\n",
    "    epochs=10,\n",
    "    )"
   ]
  },
  {
   "cell_type": "code",
   "execution_count": null,
   "id": "154a0bff-bb4d-4423-afd7-a6a2b7fc7a6f",
   "metadata": {},
   "outputs": [],
   "source": []
  },
  {
   "cell_type": "code",
   "execution_count": null,
   "id": "4dd82afd-c110-4e60-9641-0a0904ab2334",
   "metadata": {},
   "outputs": [],
   "source": []
  }
 ],
 "metadata": {
  "kernelspec": {
   "display_name": "Python 3 (ipykernel)",
   "language": "python",
   "name": "python3"
  },
  "language_info": {
   "codemirror_mode": {
    "name": "ipython",
    "version": 3
   },
   "file_extension": ".py",
   "mimetype": "text/x-python",
   "name": "python",
   "nbconvert_exporter": "python",
   "pygments_lexer": "ipython3",
   "version": "3.11.4"
  }
 },
 "nbformat": 4,
 "nbformat_minor": 5
}
