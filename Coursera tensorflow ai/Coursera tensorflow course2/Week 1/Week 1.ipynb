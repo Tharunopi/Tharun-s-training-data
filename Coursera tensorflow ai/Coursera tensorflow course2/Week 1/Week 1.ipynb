{
 "cells": [
  {
   "cell_type": "code",
   "execution_count": 1,
   "id": "9b916b7c-2ea1-43cf-a190-da564e9d682c",
   "metadata": {},
   "outputs": [
    {
     "name": "stdout",
     "output_type": "stream",
     "text": [
      "WARNING:tensorflow:From C:\\Users\\tharu\\Lib\\site-packages\\keras\\src\\losses.py:2976: The name tf.losses.sparse_softmax_cross_entropy is deprecated. Please use tf.compat.v1.losses.sparse_softmax_cross_entropy instead.\n",
      "\n"
     ]
    }
   ],
   "source": [
    "import tensorflow as tf\n",
    "from keras.preprocessing.image import ImageDataGenerator"
   ]
  },
  {
   "cell_type": "code",
   "execution_count": 2,
   "id": "ab5cacbf-e979-4d55-8430-34b477c46c07",
   "metadata": {},
   "outputs": [],
   "source": [
    "def training(path):\n",
    "    train = ImageDataGenerator(\n",
    "    shear_range=0.2,\n",
    "    zoom_range=0.2,\n",
    "    horizontal_flip=True,\n",
    "    rescale=1./255\n",
    "    )\n",
    "\n",
    "    train = train.flow_from_directory(\n",
    "    directory=path,  \n",
    "    target_size=(150, 150),  \n",
    "    batch_size=20,\n",
    "    class_mode='binary'\n",
    "    )\n",
    "\n",
    "    return train"
   ]
  },
  {
   "cell_type": "code",
   "execution_count": 3,
   "id": "01d4e7a0-a461-4415-904a-daeda286dbb5",
   "metadata": {},
   "outputs": [],
   "source": [
    "def testing(path):\n",
    "    test = ImageDataGenerator(\n",
    "    rescale=1./255\n",
    "    )\n",
    "\n",
    "    test = test.flow_from_directory(\n",
    "    directory = path,  \n",
    "    target_size=(150, 150),  \n",
    "    batch_size=20,\n",
    "    class_mode='binary'\n",
    "    )\n",
    "\n",
    "    return test"
   ]
  },
  {
   "cell_type": "code",
   "execution_count": 4,
   "id": "ed1b0103-a6d0-4d29-95ea-1a3b46e73dfb",
   "metadata": {},
   "outputs": [],
   "source": [
    "def model():\n",
    "\n",
    "    cnn = tf.keras.models.Sequential()\n",
    "    cnn.add(tf.keras.layers.Conv2D(\n",
    "        filters = 32,\n",
    "        kernel_size = 3,\n",
    "        strides=(1, 1),\n",
    "        activation=\"relu\",\n",
    "        input_shape = (150, 150, 3)\n",
    "    ))\n",
    "    cnn.add(tf.keras.layers.MaxPool2D(\n",
    "        pool_size=(2, 2),\n",
    "        strides=2\n",
    "    ))\n",
    "\n",
    "    cnn.add(tf.keras.layers.Conv2D(\n",
    "        filters = 32,\n",
    "        kernel_size = 3,\n",
    "        strides=(1, 1),\n",
    "        activation=\"relu\"\n",
    "    ))\n",
    "    cnn.add(tf.keras.layers.MaxPool2D(\n",
    "        pool_size=(2, 2),\n",
    "        strides=2\n",
    "    ))\n",
    "\n",
    "    cnn.add(tf.keras.layers.Conv2D(\n",
    "        filters = 32,\n",
    "        kernel_size = 3,\n",
    "        strides=(1, 1),\n",
    "        activation=\"relu\"\n",
    "    ))\n",
    "    cnn.add(tf.keras.layers.MaxPool2D(\n",
    "        pool_size=(2, 2),\n",
    "        strides=2\n",
    "    ))\n",
    "\n",
    "    cnn.add(tf.keras.layers.Flatten())\n",
    "\n",
    "    cnn.add(tf.keras.layers.Dense(\n",
    "        units=512,\n",
    "        activation=\"relu\"\n",
    "    ))\n",
    "\n",
    "    cnn.add(tf.keras.layers.Dense(\n",
    "        units=1,\n",
    "        activation=\"sigmoid\"\n",
    "    ))\n",
    "\n",
    "    return cnn"
   ]
  },
  {
   "cell_type": "code",
   "execution_count": 5,
   "id": "a1be7bfe-775e-4194-8b57-daac7306f382",
   "metadata": {},
   "outputs": [
    {
     "name": "stdout",
     "output_type": "stream",
     "text": [
      "Found 25000 images belonging to 2 classes.\n"
     ]
    }
   ],
   "source": [
    "train_datagen = training(r\"E:\\Dataset\\dogs-vs-cats\\train\")"
   ]
  },
  {
   "cell_type": "code",
   "execution_count": 6,
   "id": "9f6b15ad-4b4e-461c-9479-e83707a92e47",
   "metadata": {},
   "outputs": [
    {
     "name": "stdout",
     "output_type": "stream",
     "text": [
      "Found 12500 images belonging to 1 classes.\n"
     ]
    }
   ],
   "source": [
    "test_datagen = testing(r\"E:\\Dataset\\dogs-vs-cats\\test1\")"
   ]
  },
  {
   "cell_type": "code",
   "execution_count": 7,
   "id": "e1d6d055-c9e5-464c-a414-00c5cf8adc4e",
   "metadata": {},
   "outputs": [
    {
     "name": "stdout",
     "output_type": "stream",
     "text": [
      "WARNING:tensorflow:From C:\\Users\\tharu\\Lib\\site-packages\\keras\\src\\backend.py:873: The name tf.get_default_graph is deprecated. Please use tf.compat.v1.get_default_graph instead.\n",
      "\n",
      "WARNING:tensorflow:From C:\\Users\\tharu\\Lib\\site-packages\\keras\\src\\layers\\pooling\\max_pooling2d.py:161: The name tf.nn.max_pool is deprecated. Please use tf.nn.max_pool2d instead.\n",
      "\n"
     ]
    }
   ],
   "source": [
    "dp = model()"
   ]
  },
  {
   "cell_type": "code",
   "execution_count": 8,
   "id": "69352bd4-75c0-4b0d-ad48-6b7e21aabd12",
   "metadata": {},
   "outputs": [
    {
     "name": "stdout",
     "output_type": "stream",
     "text": [
      "WARNING:tensorflow:From C:\\Users\\tharu\\Lib\\site-packages\\keras\\src\\optimizers\\__init__.py:309: The name tf.train.Optimizer is deprecated. Please use tf.compat.v1.train.Optimizer instead.\n",
      "\n"
     ]
    }
   ],
   "source": [
    "dp.compile(\n",
    "    optimizer='rmsprop',\n",
    "    loss=\"binary_crossentropy\",\n",
    "    metrics=[\"accuracy\"]\n",
    ")"
   ]
  },
  {
   "cell_type": "code",
   "execution_count": 9,
   "id": "94790dbd-7e5c-4588-bb8e-a45b9ed2f9a8",
   "metadata": {},
   "outputs": [
    {
     "name": "stdout",
     "output_type": "stream",
     "text": [
      "Epoch 1/10\n",
      "WARNING:tensorflow:From C:\\Users\\tharu\\Lib\\site-packages\\keras\\src\\utils\\tf_utils.py:492: The name tf.ragged.RaggedTensorValue is deprecated. Please use tf.compat.v1.ragged.RaggedTensorValue instead.\n",
      "\n",
      "WARNING:tensorflow:From C:\\Users\\tharu\\Lib\\site-packages\\keras\\src\\engine\\base_layer_utils.py:384: The name tf.executing_eagerly_outside_functions is deprecated. Please use tf.compat.v1.executing_eagerly_outside_functions instead.\n",
      "\n",
      "1250/1250 [==============================] - 635s 506ms/step - loss: 0.6128 - accuracy: 0.6637\n",
      "Epoch 2/10\n",
      "1250/1250 [==============================] - 621s 497ms/step - loss: 0.4932 - accuracy: 0.7623\n",
      "Epoch 3/10\n",
      "1250/1250 [==============================] - 430s 344ms/step - loss: 0.4463 - accuracy: 0.7922\n",
      "Epoch 4/10\n",
      "1250/1250 [==============================] - 453s 362ms/step - loss: 0.4092 - accuracy: 0.8166\n",
      "Epoch 5/10\n",
      "1250/1250 [==============================] - 460s 368ms/step - loss: 0.3816 - accuracy: 0.8326\n",
      "Epoch 6/10\n",
      "1250/1250 [==============================] - 483s 386ms/step - loss: 0.3610 - accuracy: 0.8423\n",
      "Epoch 7/10\n",
      "1250/1250 [==============================] - 390s 312ms/step - loss: 0.3414 - accuracy: 0.8531\n",
      "Epoch 8/10\n",
      "1250/1250 [==============================] - 413s 331ms/step - loss: 0.3188 - accuracy: 0.8630\n",
      "Epoch 9/10\n",
      "1250/1250 [==============================] - 282s 225ms/step - loss: 0.3061 - accuracy: 0.8714\n",
      "Epoch 10/10\n",
      "1250/1250 [==============================] - 276s 221ms/step - loss: 0.2911 - accuracy: 0.8810\n"
     ]
    },
    {
     "data": {
      "text/plain": [
       "<keras.src.callbacks.History at 0x14e8bd70d90>"
      ]
     },
     "execution_count": 9,
     "metadata": {},
     "output_type": "execute_result"
    }
   ],
   "source": [
    "dp.fit(\n",
    "    x=train_datagen,\n",
    "    batch_size=32,\n",
    "    epochs=10,\n",
    "    )"
   ]
  },
  {
   "cell_type": "code",
   "execution_count": 10,
   "id": "154a0bff-bb4d-4423-afd7-a6a2b7fc7a6f",
   "metadata": {},
   "outputs": [
    {
     "name": "stdout",
     "output_type": "stream",
     "text": [
      "Model: \"sequential\"\n",
      "_________________________________________________________________\n",
      " Layer (type)                Output Shape              Param #   \n",
      "=================================================================\n",
      " conv2d (Conv2D)             (None, 148, 148, 32)      896       \n",
      "                                                                 \n",
      " max_pooling2d (MaxPooling2  (None, 74, 74, 32)        0         \n",
      " D)                                                              \n",
      "                                                                 \n",
      " conv2d_1 (Conv2D)           (None, 72, 72, 32)        9248      \n",
      "                                                                 \n",
      " max_pooling2d_1 (MaxPoolin  (None, 36, 36, 32)        0         \n",
      " g2D)                                                            \n",
      "                                                                 \n",
      " conv2d_2 (Conv2D)           (None, 34, 34, 32)        9248      \n",
      "                                                                 \n",
      " max_pooling2d_2 (MaxPoolin  (None, 17, 17, 32)        0         \n",
      " g2D)                                                            \n",
      "                                                                 \n",
      " flatten (Flatten)           (None, 9248)              0         \n",
      "                                                                 \n",
      " dense (Dense)               (None, 512)               4735488   \n",
      "                                                                 \n",
      " dense_1 (Dense)             (None, 1)                 513       \n",
      "                                                                 \n",
      "=================================================================\n",
      "Total params: 4755393 (18.14 MB)\n",
      "Trainable params: 4755393 (18.14 MB)\n",
      "Non-trainable params: 0 (0.00 Byte)\n",
      "_________________________________________________________________\n"
     ]
    }
   ],
   "source": [
    "dp.summary()"
   ]
  },
  {
   "cell_type": "code",
   "execution_count": null,
   "id": "c06dffac-9da1-4e64-b384-6a2eda0ad8e7",
   "metadata": {},
   "outputs": [],
   "source": [
    "dp.save(\"catand\")"
   ]
  }
 ],
 "metadata": {
  "kernelspec": {
   "display_name": "Python 3 (ipykernel)",
   "language": "python",
   "name": "python3"
  },
  "language_info": {
   "codemirror_mode": {
    "name": "ipython",
    "version": 3
   },
   "file_extension": ".py",
   "mimetype": "text/x-python",
   "name": "python",
   "nbconvert_exporter": "python",
   "pygments_lexer": "ipython3",
   "version": "3.11.4"
  }
 },
 "nbformat": 4,
 "nbformat_minor": 5
}
