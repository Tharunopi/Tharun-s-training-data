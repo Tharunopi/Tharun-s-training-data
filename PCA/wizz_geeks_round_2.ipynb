{
 "cells": [
  {
   "cell_type": "code",
   "execution_count": 104,
   "id": "822e6342-5b46-4880-91fd-d70c6b98fa9c",
   "metadata": {},
   "outputs": [
    {
     "name": "stdout",
     "output_type": "stream",
     "text": [
      "2\n",
      "3\n",
      "4\n",
      "6\n",
      "7\n",
      "8\n",
      "10\n",
      "11\n",
      "12\n"
     ]
    }
   ],
   "source": [
    "def spiral(a):\n",
    "    # s_row = 0\n",
    "    # e_row = len(a)\n",
    "    # s_col = 0\n",
    "    # e_col = len(a)\n",
    "\n",
    "    # while s_row <= e_row and s_col <= e_col:\n",
    "    #     for i in range(s_col, e_col + 1):\n",
    "    #         print(a[s_row][i], end=\"_\")\n",
    "    #     s_row += 1\n",
    "        \n",
    "    #     for i in range(s_row, e_row + 1):\n",
    "    #         print(a[i][e_col], end=\"_\")\n",
    "    #     e_col -= 1\n",
    "\n",
    "    #     if s_row <= e_row:\n",
    "    #         for i in range(e_col, s_col - 1, -1):\n",
    "    #             print(a[e_row][i], end=\"_\")\n",
    "    #         e_row -= 1\n",
    "    for i in a:\n",
    "        for j in range(len(i)):\n",
    "            if j == len(i)-1:\n",
    "                continue\n",
    "            else:\n",
    "                print(i[j])\n",
    "            \n",
    "matrix = [\n",
    "    [2, 3, 4, 5],\n",
    "    [6, 7, 8, 9],\n",
    "    [10, 11, 12, 13]\n",
    "]\n",
    "print()\n",
    "spiral(matrix)"
   ]
  },
  {
   "cell_type": "code",
   "execution_count": 106,
   "id": "ff3f83cf-16fd-43ba-a775-82a382beca69",
   "metadata": {},
   "outputs": [],
   "source": [
    "def spiral(a):\n",
    "    s_row = 0\n",
    "    e_row = len(a)-1\n",
    "    s_col = 0\n",
    "    e_col = len(a)-1\n",
    "\n",
    "    while s_row <= e_row and s_col <= e_col:\n",
    "        for i in range(s_col, e_col + 1):\n",
    "            print(a[s_row][i], end=\"_\")\n",
    "        s_row += 1\n",
    "        \n",
    "\n",
    "        for i in range(s_row, e_row + 1):\n",
    "            print(a[i][e_col], end=\"_\")\n",
    "        e_col -= 1\n",
    "\n",
    "        if s_row <= e_row:\n",
    "            for i in range(e_col, s_col - 1, -1):\n",
    "                print(a[e_row][i], end=\"_\")\n",
    "            e_row -= 1\n",
    "            \n",
    "        # if s_col <= e_col:\n",
    "        #     for i in range(e_row, s_row - 1, -1):\n",
    "        #         print(a[i][s_col], end=\"_\")\n",
    "        #     s_col += 1"
   ]
  },
  {
   "cell_type": "code",
   "execution_count": 107,
   "id": "7e8d1334-a60f-46ce-ba8b-b16430cb0d97",
   "metadata": {},
   "outputs": [
    {
     "name": "stdout",
     "output_type": "stream",
     "text": [
      "2_3_4_8_12_11_10_6_7_"
     ]
    }
   ],
   "source": [
    "# matrix = [\n",
    "#     [1, 2, 3],\n",
    "#     [4, 5, 6],\n",
    "#     [7, 8, 9]\n",
    "# ]\n",
    "\n",
    "ma = [\n",
    "    [2, 3, 4, 5],\n",
    "    [6, 7, 8, 9],\n",
    "    [10, 11, 12, 13]\n",
    "]\n",
    "spiral(ma)"
   ]
  },
  {
   "cell_type": "code",
   "execution_count": 100,
   "id": "1381f6e1-e453-4ed7-8543-4b8169cf8f74",
   "metadata": {},
   "outputs": [
    {
     "name": "stdout",
     "output_type": "stream",
     "text": [
      "2\n",
      "3\n",
      "4\n",
      "5\n",
      "6\n",
      "7\n",
      "8\n",
      "9\n",
      "10\n",
      "11\n",
      "12\n",
      "13\n"
     ]
    }
   ],
   "source": [
    "for i in matrix:\n",
    "    for j in i:\n",
    "        print(j)"
   ]
  },
  {
   "cell_type": "code",
   "execution_count": null,
   "id": "a4ea5bb1-56b8-497f-a8dd-deb4b4ce6914",
   "metadata": {},
   "outputs": [],
   "source": []
  }
 ],
 "metadata": {
  "kernelspec": {
   "display_name": "Python 3 (ipykernel)",
   "language": "python",
   "name": "python3"
  },
  "language_info": {
   "codemirror_mode": {
    "name": "ipython",
    "version": 3
   },
   "file_extension": ".py",
   "mimetype": "text/x-python",
   "name": "python",
   "nbconvert_exporter": "python",
   "pygments_lexer": "ipython3",
   "version": "3.11.4"
  }
 },
 "nbformat": 4,
 "nbformat_minor": 5
}
