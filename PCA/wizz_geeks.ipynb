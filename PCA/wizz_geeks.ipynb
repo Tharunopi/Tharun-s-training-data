{
 "cells": [
  {
   "cell_type": "code",
   "execution_count": 37,
   "id": "2c0bc506-7a16-466d-adda-3d9ecf65d44e",
   "metadata": {},
   "outputs": [],
   "source": [
    "def bubble_sort(numbers):\n",
    "    for i in range(len(numbers)):\n",
    "        for j in range(len(numbers) - 1):\n",
    "            if numbers[j] > numbers[j + 1]:\n",
    "                numbers[j], numbers[j + 1] = numbers[j + 1], numbers[j]\n",
    "    return numbers"
   ]
  },
  {
   "cell_type": "code",
   "execution_count": 59,
   "id": "77a2443e-1ebb-4844-bc01-ade00e2a6720",
   "metadata": {},
   "outputs": [
    {
     "name": "stdout",
     "output_type": "stream",
     "text": [
      "[1, 10, 100, 500, 200, 200, 1000, 1000, 1000]\n"
     ]
    }
   ],
   "source": [
    "#sorting\n",
    "\n",
    "arr = [1, 10, 100, 200, 200, 500, 1000, 1000, 1000]\n",
    "duplicate = []\n",
    "non_dupe = []\n",
    "count = (Counter(arr))\n",
    "for i,j in count.items():\n",
    "    if j==1:\n",
    "        non_dupe.append(i)\n",
    "    else:\n",
    "        for x in range(j):\n",
    "            duplicate.append(i)\n",
    "duplicate = bubble_sort(duplicate)\n",
    "print(non_dupe + duplicate)"
   ]
  },
  {
   "cell_type": "code",
   "execution_count": 104,
   "id": "414aae97-62cf-4ec7-aa92-ef48c216f7fd",
   "metadata": {},
   "outputs": [
    {
     "name": "stdout",
     "output_type": "stream",
     "text": [
      "200\n",
      "-600\n",
      "-3600\n"
     ]
    },
    {
     "data": {
      "text/plain": [
       "[]"
      ]
     },
     "execution_count": 104,
     "metadata": {},
     "output_type": "execute_result"
    }
   ],
   "source": [
    "#ATM\n",
    "\n",
    "notes = [100, 200, 300]\n",
    "weight = [3, 4, 10]\n",
    "data = []\n",
    "user_amt = 500\n",
    "for i in range(len(notes)):\n",
    "    p = notes[i]\n",
    "    q = weight[i]\n",
    "    user_amt = user_amt - p*q\n",
    "    print(user_amt)\n",
    "        \n",
    "\n",
    "data"
   ]
  },
  {
   "cell_type": "code",
   "execution_count": 1,
   "id": "fd60b582-a9ac-4cdf-859c-0e0fb3427fb3",
   "metadata": {},
   "outputs": [
    {
     "name": "stdin",
     "output_type": "stream",
     "text": [
      "Enter the size of the spiral matrix:  3\n"
     ]
    },
    {
     "name": "stdout",
     "output_type": "stream",
     "text": [
      "1 2 3\n",
      "8 9 4\n",
      "7 6 5\n"
     ]
    }
   ],
   "source": [
    "def generate_spiral_matrix(n):\n",
    "    matrix = [[0 for _ in range(n)] for _ in range(n)]\n",
    "    \n",
    "    top, bottom, left, right = 0, n - 1, 0, n - 1\n",
    "    num = 1\n",
    "    \n",
    "    while top <= bottom and left <= right:\n",
    "        # Fill top row\n",
    "        for i in range(left, right + 1):\n",
    "            matrix[top][i] = num\n",
    "            num += 1\n",
    "        top += 1\n",
    "        \n",
    "        # Fill right column\n",
    "        for i in range(top, bottom + 1):\n",
    "            matrix[i][right] = num\n",
    "            num += 1\n",
    "        right -= 1\n",
    "        \n",
    "        if top <= bottom:\n",
    "            # Fill bottom row\n",
    "            for i in range(right, left - 1, -1):\n",
    "                matrix[bottom][i] = num\n",
    "                num += 1\n",
    "            bottom -= 1\n",
    "        \n",
    "        if left <= right:\n",
    "            # Fill left column\n",
    "            for i in range(bottom, top - 1, -1):\n",
    "                matrix[i][left] = num\n",
    "                num += 1\n",
    "            left += 1\n",
    "    \n",
    "    return matrix\n",
    "\n",
    "def print_matrix(matrix):\n",
    "    for row in matrix:\n",
    "        print(\" \".join(map(str, row)))\n",
    "\n",
    "# Get input from user\n",
    "n = int(input(\"Enter the size of the spiral matrix: \"))\n",
    "\n",
    "# Generate and print the spiral matrix\n",
    "spiral = generate_spiral_matrix(n)\n",
    "print_matrix(spiral)"
   ]
  },
  {
   "cell_type": "code",
   "execution_count": null,
   "id": "3c7c48af-f459-4b4f-84b3-11b11098421c",
   "metadata": {},
   "outputs": [],
   "source": []
  }
 ],
 "metadata": {
  "kernelspec": {
   "display_name": "Python 3 (ipykernel)",
   "language": "python",
   "name": "python3"
  },
  "language_info": {
   "codemirror_mode": {
    "name": "ipython",
    "version": 3
   },
   "file_extension": ".py",
   "mimetype": "text/x-python",
   "name": "python",
   "nbconvert_exporter": "python",
   "pygments_lexer": "ipython3",
   "version": "3.11.4"
  }
 },
 "nbformat": 4,
 "nbformat_minor": 5
}
