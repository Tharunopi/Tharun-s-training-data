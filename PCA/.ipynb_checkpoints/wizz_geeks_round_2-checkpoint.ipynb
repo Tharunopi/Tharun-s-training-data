{
 "cells": [
  {
   "cell_type": "code",
   "execution_count": 70,
   "id": "7e8d1334-a60f-46ce-ba8b-b16430cb0d97",
   "metadata": {},
   "outputs": [
    {
     "name": "stdout",
     "output_type": "stream",
     "text": [
      "1_2_3_6_9_8_7_4_5_"
     ]
    }
   ],
   "source": [
    "m = 3\n",
    "n = 3\n",
    "matrix = [\n",
    "    [1, 2, 3, 10, 12],\n",
    "    [4, 5, 6, 20, 22],\n",
    "    [7, 8, 9, 30, 32]\n",
    "]\n",
    "spiral(matrix)"
   ]
  },
  {
   "cell_type": "code",
   "execution_count": 66,
   "id": "ff3f83cf-16fd-43ba-a775-82a382beca69",
   "metadata": {},
   "outputs": [],
   "source": [
    "def spiral(a):\n",
    "    s_row = 0\n",
    "    e_row = len(a)-1\n",
    "    s_col = 0\n",
    "    e_col = len(a)-1\n",
    "\n",
    "    while s_row <= e_row and s_col <= e_col:\n",
    "        for i in range(s_col, e_col + 1):\n",
    "            # print(\"___\" + str(i) + \"___\")\n",
    "            print(a[s_row][i], end=\"_\")\n",
    "        s_row += 1\n",
    "        \n",
    "\n",
    "        for i in range(s_row, e_row + 1):\n",
    "            # print(\"___\" + str(i) + \"___\")\n",
    "            print(a[i][e_col], end=\"_\")\n",
    "        e_col -= 1\n",
    "\n",
    "        if s_row <= e_row:\n",
    "            for i in range(e_col, s_col - 1, -1):\n",
    "                print(a[e_row][i], end=\"_\")\n",
    "            e_row -= 1\n"
   ]
  },
  {
   "cell_type": "code",
   "execution_count": null,
   "id": "6b1f3825-3c30-4048-ae87-f48007716cb3",
   "metadata": {},
   "outputs": [],
   "source": [
    "\n",
    "        # if start_col <= end_col:\n",
    "        #     for i in range(end_row, start_row - 1, -1):\n",
    "        #         print(a[i][start_col], end=\"_\")\n",
    "        #     start_col += 1"
   ]
  }
 ],
 "metadata": {
  "kernelspec": {
   "display_name": "Python 3 (ipykernel)",
   "language": "python",
   "name": "python3"
  },
  "language_info": {
   "codemirror_mode": {
    "name": "ipython",
    "version": 3
   },
   "file_extension": ".py",
   "mimetype": "text/x-python",
   "name": "python",
   "nbconvert_exporter": "python",
   "pygments_lexer": "ipython3",
   "version": "3.11.4"
  }
 },
 "nbformat": 4,
 "nbformat_minor": 5
}
