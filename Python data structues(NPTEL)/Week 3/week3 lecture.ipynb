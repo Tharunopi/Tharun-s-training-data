{
 "cells": [
  {
   "cell_type": "markdown",
   "id": "80639265-777c-4564-816f-b79aed06c042",
   "metadata": {},
   "source": [
    "About range function"
   ]
  },
  {
   "cell_type": "code",
   "execution_count": 7,
   "id": "85d789db-d77a-4b61-acdc-c3fd998da303",
   "metadata": {},
   "outputs": [
    {
     "name": "stdout",
     "output_type": "stream",
     "text": [
      "[0, 1, 2, 3, 4, 5, 6, 7, 8]\n"
     ]
    }
   ],
   "source": [
    "print(list(range(9)))"
   ]
  },
  {
   "cell_type": "code",
   "execution_count": 8,
   "id": "3fb762f1-b561-41be-bb9b-1468c81a2359",
   "metadata": {},
   "outputs": [
    {
     "name": "stdout",
     "output_type": "stream",
     "text": [
      "10\n",
      "9\n",
      "8\n",
      "7\n",
      "6\n",
      "5\n",
      "4\n",
      "3\n",
      "2\n",
      "1\n"
     ]
    }
   ],
   "source": [
    "for i in range(10, 0, -1):\n",
    "    print(i)"
   ]
  },
  {
   "cell_type": "markdown",
   "id": "08c1bc76-af2d-4c58-85c9-fc9514d53c34",
   "metadata": {},
   "source": [
    "Manipulating lists"
   ]
  },
  {
   "cell_type": "code",
   "execution_count": 14,
   "id": "eea35532-32cc-4874-9f2b-a7f1783c33ec",
   "metadata": {},
   "outputs": [
    {
     "name": "stdout",
     "output_type": "stream",
     "text": [
      "[2, 3, 5, 9, 10]\n",
      "[2, 3, 5, 9, 10]\n"
     ]
    }
   ],
   "source": [
    "list1 = [2, 3, 5, 7]\n",
    "list2 = list1\n",
    "list3 = []\n",
    "list3.extend(list2)\n",
    "list2[3] = 9\n",
    "list2.append(10)\n",
    "print(list1)\n",
    "print(list2)"
   ]
  },
  {
   "cell_type": "code",
   "execution_count": 15,
   "id": "4e44edc4-2fd4-468f-b31f-d8212fa228d5",
   "metadata": {},
   "outputs": [
    {
     "name": "stdout",
     "output_type": "stream",
     "text": [
      "[2, 3, 5, 7]\n"
     ]
    }
   ],
   "source": [
    "print(list3)"
   ]
  },
  {
   "cell_type": "code",
   "execution_count": 19,
   "id": "0db2c5cd-56aa-4da5-91d9-38b097caac91",
   "metadata": {},
   "outputs": [
    {
     "name": "stdout",
     "output_type": "stream",
     "text": [
      "[1, 0]\n",
      "[1, 0]\n"
     ]
    }
   ],
   "source": [
    "l1 = [1, 2, 3]\n",
    "l2 = l1\n",
    "l1[1:] = [0]\n",
    "print(l1)\n",
    "print(l2)"
   ]
  },
  {
   "cell_type": "code",
   "execution_count": 23,
   "id": "d18063c2-535a-491c-b101-db286c8fdaea",
   "metadata": {},
   "outputs": [
    {
     "name": "stdout",
     "output_type": "stream",
     "text": [
      "True\n"
     ]
    }
   ],
   "source": [
    "print(0 in l1)"
   ]
  },
  {
   "cell_type": "markdown",
   "id": "ddbec3e3-67c4-4ed7-9ab3-e0734d79aaa2",
   "metadata": {},
   "source": [
    "Breaking out of a loop"
   ]
  },
  {
   "cell_type": "code",
   "execution_count": 26,
   "id": "bc8a314e-639f-4a4f-ae93-10092dd834da",
   "metadata": {},
   "outputs": [
    {
     "name": "stdout",
     "output_type": "stream",
     "text": [
      "('not found', -1)\n"
     ]
    }
   ],
   "source": [
    "value = [1, 2, 3, 4, 5, 6]\n",
    "\n",
    "def findl(value, x):\n",
    "    i = 0\n",
    "    while i < len(value):\n",
    "        if value[i] == x:\n",
    "            return \"found\", i\n",
    "        i+=1\n",
    "    return \"not found\", -1\n",
    "\n",
    "print(findl(value, 0))"
   ]
  },
  {
   "cell_type": "markdown",
   "id": "3c0b161e-d96e-4a66-8c7e-1d3e0a14384f",
   "metadata": {},
   "source": [
    "Arrays vs List, Binary search"
   ]
  },
  {
   "cell_type": "code",
   "execution_count": 34,
   "id": "827c4a2d-216b-4d9f-962c-caa32a53a9bb",
   "metadata": {},
   "outputs": [],
   "source": [
    "#merge sort\n",
    "def sor(x):\n",
    "    if len(x)<=1:\n",
    "        return x\n",
    "    mid = len(x)//2\n",
    "    left = x[:mid]\n",
    "    right = x[mid:]\n",
    "    return merge(sor(left), sor(right))\n",
    "def merge(left, right):\n",
    "    ans = []\n",
    "    i, j = 0, 0\n",
    "    while i < len(left) and j < len(right):\n",
    "        if left[i] < right[j]:\n",
    "            ans.append(left[i])\n",
    "            i += 1\n",
    "        else:\n",
    "            ans.append(right[j])\n",
    "            j+=1\n",
    "    ans.extend(left[i:])\n",
    "    ans.extend(right[j:])\n",
    "    return ans"
   ]
  },
  {
   "cell_type": "code",
   "execution_count": 55,
   "id": "7bc4b677-fe4d-410c-ab76-48fc56333ca7",
   "metadata": {},
   "outputs": [
    {
     "name": "stdout",
     "output_type": "stream",
     "text": [
      "8\n",
      "[1, 2]\n",
      "[8, 9, 67]\n"
     ]
    }
   ],
   "source": [
    "k = [9, 8, 1, 2, 67]\n",
    "k = sor(k)\n",
    "mid = len(k)//2\n",
    "left = k[:mid]\n",
    "right = k[mid:]\n",
    "print(k[mid])\n",
    "print(left)\n",
    "print(right)"
   ]
  },
  {
   "cell_type": "code",
   "execution_count": 81,
   "id": "c0da7ea0-018e-48bc-b5bb-88c02c569e94",
   "metadata": {},
   "outputs": [
    {
     "name": "stdout",
     "output_type": "stream",
     "text": [
      "left\n"
     ]
    }
   ],
   "source": [
    "x = 1\n",
    "if x == k[mid]:\n",
    "    print(\"mid\")\n",
    "elif x > k[mid]:\n",
    "    print(\"right\")\n",
    "else:\n",
    "    print(\"left\")"
   ]
  },
  {
   "cell_type": "code",
   "execution_count": 100,
   "id": "850c61fd-8891-43f2-990c-0fec9416c9d7",
   "metadata": {},
   "outputs": [
    {
     "data": {
      "text/plain": [
       "-1"
      ]
     },
     "execution_count": 100,
     "metadata": {},
     "output_type": "execute_result"
    }
   ],
   "source": [
    "def binary(k, x, start=0):\n",
    "    if len(k) == 1:\n",
    "        if k[0] == x:\n",
    "            return start\n",
    "        else:\n",
    "            return -1\n",
    "    mid = len(k)//2\n",
    "    left = k[:mid]\n",
    "    right = k[mid:]\n",
    "    if x == k[mid]:\n",
    "        return start + mid\n",
    "    elif x > k[mid]:\n",
    "        return binary(right, x, start+mid)\n",
    "    else:\n",
    "        return binary(left, x, start)\n",
    "\n",
    "binary(sor([1, 2, 3, 4, 5, 6]), 7)"
   ]
  },
  {
   "cell_type": "markdown",
   "id": "31ac7a16-889d-446f-83e6-ac75fd703b6b",
   "metadata": {},
   "source": [
    "Selection sort"
   ]
  },
  {
   "cell_type": "code",
   "execution_count": 10,
   "id": "7418164a-6eed-4669-9f49-e8566330bce8",
   "metadata": {},
   "outputs": [
    {
     "name": "stdout",
     "output_type": "stream",
     "text": [
      "[-3, 4, 5, 6]\n"
     ]
    }
   ],
   "source": [
    "a = [1, 2, -3, 4, 5, 6]\n",
    "print(a[-4:])"
   ]
  },
  {
   "cell_type": "code",
   "execution_count": 20,
   "id": "593c36ed-01a0-4865-af12-3dd43681328e",
   "metadata": {},
   "outputs": [
    {
     "name": "stdout",
     "output_type": "stream",
     "text": [
      "[-3, 1, 2, 4, 5, 6]\n"
     ]
    }
   ],
   "source": [
    "# using new list\n",
    "def minimum(x):\n",
    "    min = x[0]\n",
    "    for i in x:\n",
    "        if i < min:\n",
    "            min = i\n",
    "    return min\n",
    "\n",
    "def selection_sort(x):\n",
    "    ans = []\n",
    "    while len(x) != 0:\n",
    "        mini = minimum(x)\n",
    "        ans.append(mini)\n",
    "        x.remove(mini)\n",
    "    return ans\n",
    "print(selection_sort([1, 2, -3, 4, 5, 6]))"
   ]
  },
  {
   "cell_type": "code",
   "execution_count": 29,
   "id": "8db14499-d096-4b3c-8bf1-0712f1e6d8bc",
   "metadata": {},
   "outputs": [
    {
     "name": "stdout",
     "output_type": "stream",
     "text": [
      "[-3, 1, 2, 4, 5, 6]\n"
     ]
    }
   ],
   "source": [
    "#without using new list\n",
    "def minimum_pos(x):\n",
    "    min = x[0]\n",
    "    for i in x:\n",
    "        if i < min:\n",
    "            min = i\n",
    "    return x.index(min)\n",
    "def selection(x):\n",
    "    for i in range(len(x)):\n",
    "        min_index = minimum_pos(x[i:])+i\n",
    "        x[i], x[min_index] = x[min_index], x[i]\n",
    "    return x\n",
    "print(selection([1, 2, -3, 4, 5, 6]))"
   ]
  },
  {
   "cell_type": "markdown",
   "id": "6c6f0caf-e6d5-4d44-9693-69582994c41e",
   "metadata": {},
   "source": [
    "Recursion"
   ]
  },
  {
   "cell_type": "code",
   "execution_count": null,
   "id": "e766819f-1374-41f7-88d8-764a3709686d",
   "metadata": {},
   "outputs": [],
   "source": []
  }
 ],
 "metadata": {
  "kernelspec": {
   "display_name": "Python 3 (ipykernel)",
   "language": "python",
   "name": "python3"
  },
  "language_info": {
   "codemirror_mode": {
    "name": "ipython",
    "version": 3
   },
   "file_extension": ".py",
   "mimetype": "text/x-python",
   "name": "python",
   "nbconvert_exporter": "python",
   "pygments_lexer": "ipython3",
   "version": "3.11.4"
  }
 },
 "nbformat": 4,
 "nbformat_minor": 5
}
