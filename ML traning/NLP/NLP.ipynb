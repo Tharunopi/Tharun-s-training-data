{
 "cells": [
  {
   "cell_type": "code",
   "execution_count": 1,
   "id": "628b81be-3685-4925-8fa6-ee26a3d0f13c",
   "metadata": {},
   "outputs": [],
   "source": [
    "import pandas as pd\n",
    "import numpy as np\n"
   ]
  },
  {
   "cell_type": "code",
   "execution_count": 3,
   "id": "b3899974-e519-422d-940e-7da251aea21d",
   "metadata": {},
   "outputs": [
    {
     "name": "stderr",
     "output_type": "stream",
     "text": [
      "C:\\Users\\tharu\\AppData\\Local\\Temp\\ipykernel_18308\\3637380504.py:1: ParserWarning: Falling back to the 'python' engine because the 'c' engine does not support regex separators (separators > 1 char and different from '\\s+' are interpreted as regex); you can avoid this warning by specifying engine='python'.\n",
      "  df = pd.read_csv(\"E:\\BlackClover\\Machine Learning-A-Z-Codes-Datasets (1)\\Machine Learning A-Z (Codes and Datasets)\\Part 7 - Natural Language Processing\\Section 36 - Natural Language Processing\\Python\\Restaurant_Reviews.tsv\", delimiter=\"/t\", quoting=3)\n"
     ]
    }
   ],
   "source": [
    "df = pd.read_csv(\"E:\\BlackClover\\Machine Learning-A-Z-Codes-Datasets (1)\\Machine Learning A-Z (Codes and Datasets)\\Part 7 - Natural Language Processing\\Section 36 - Natural Language Processing\\Python\\Restaurant_Reviews.tsv\", delimiter=\"/t\", quoting=3)\n"
   ]
  },
  {
   "cell_type": "code",
   "execution_count": 5,
   "id": "fdd5df93-34b6-427d-9dd7-cef7cd571e4c",
   "metadata": {},
   "outputs": [
    {
     "data": {
      "text/html": [
       "<div>\n",
       "<style scoped>\n",
       "    .dataframe tbody tr th:only-of-type {\n",
       "        vertical-align: middle;\n",
       "    }\n",
       "\n",
       "    .dataframe tbody tr th {\n",
       "        vertical-align: top;\n",
       "    }\n",
       "\n",
       "    .dataframe thead th {\n",
       "        text-align: right;\n",
       "    }\n",
       "</style>\n",
       "<table border=\"1\" class=\"dataframe\">\n",
       "  <thead>\n",
       "    <tr style=\"text-align: right;\">\n",
       "      <th></th>\n",
       "      <th>Review\\tLiked</th>\n",
       "    </tr>\n",
       "  </thead>\n",
       "  <tbody>\n",
       "    <tr>\n",
       "      <th>0</th>\n",
       "      <td>Wow... Loved this place.\\t1</td>\n",
       "    </tr>\n",
       "    <tr>\n",
       "      <th>1</th>\n",
       "      <td>Crust is not good.\\t0</td>\n",
       "    </tr>\n",
       "    <tr>\n",
       "      <th>2</th>\n",
       "      <td>Not tasty and the texture was just nasty.\\t0</td>\n",
       "    </tr>\n",
       "    <tr>\n",
       "      <th>3</th>\n",
       "      <td>Stopped by during the late May bank holiday of...</td>\n",
       "    </tr>\n",
       "    <tr>\n",
       "      <th>4</th>\n",
       "      <td>The selection on the menu was great and so wer...</td>\n",
       "    </tr>\n",
       "  </tbody>\n",
       "</table>\n",
       "</div>"
      ],
      "text/plain": [
       "                                       Review\\tLiked\n",
       "0                        Wow... Loved this place.\\t1\n",
       "1                              Crust is not good.\\t0\n",
       "2       Not tasty and the texture was just nasty.\\t0\n",
       "3  Stopped by during the late May bank holiday of...\n",
       "4  The selection on the menu was great and so wer..."
      ]
     },
     "execution_count": 5,
     "metadata": {},
     "output_type": "execute_result"
    }
   ],
   "source": [
    "df.head()"
   ]
  },
  {
   "cell_type": "code",
   "execution_count": null,
   "id": "7d095405-4314-4291-8753-74a474ea823b",
   "metadata": {},
   "outputs": [],
   "source": []
  }
 ],
 "metadata": {
  "kernelspec": {
   "display_name": "Python 3 (ipykernel)",
   "language": "python",
   "name": "python3"
  },
  "language_info": {
   "codemirror_mode": {
    "name": "ipython",
    "version": 3
   },
   "file_extension": ".py",
   "mimetype": "text/x-python",
   "name": "python",
   "nbconvert_exporter": "python",
   "pygments_lexer": "ipython3",
   "version": "3.11.4"
  }
 },
 "nbformat": 4,
 "nbformat_minor": 5
}
