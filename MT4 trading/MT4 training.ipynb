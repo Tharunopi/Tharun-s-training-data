{
 "cells": [
  {
   "cell_type": "code",
   "execution_count": 5,
   "id": "b8d909ce-1a20-4651-a865-fac1f36e8380",
   "metadata": {},
   "outputs": [],
   "source": [
    "import MetaTrader5 as mt5"
   ]
  },
  {
   "cell_type": "code",
   "execution_count": 15,
   "id": "ab48b46f-65c4-496f-915a-f808e7cde60a",
   "metadata": {},
   "outputs": [
    {
     "name": "stdout",
     "output_type": "stream",
     "text": [
      "MetaTrader5 package author:  MetaQuotes Ltd.\n",
      "MetaTrader5 package version:  5.0.4200\n",
      "TerminalInfo(community_account=False, community_connection=False, connected=True, dlls_allowed=False, trade_allowed=False, tradeapi_disabled=False, email_enabled=False, ftp_enabled=False, notifications_enabled=False, mqid=False, build=4260, maxbars=100000, codepage=0, ping_last=0, community_balance=0.0, retransmission=0.04235044997353097, company='FXOpen Investments Inc.', name='MetaTrader 5 - FXOpen', language='English', path='C:\\\\Program Files\\\\MetaTrader 5 - FXOpen', data_path='C:\\\\Users\\\\tharu\\\\AppData\\\\Roaming\\\\MetaQuotes\\\\Terminal\\\\E5B837F0138DF324D68A7D88E1F3C2C3', commondata_path='C:\\\\Users\\\\tharu\\\\AppData\\\\Roaming\\\\MetaQuotes\\\\Terminal\\\\Common')\n",
      "False\n",
      "Connection error (-2, 'Terminal: Invalid params')\n"
     ]
    },
    {
     "data": {
      "text/plain": [
       "True"
      ]
     },
     "execution_count": 15,
     "metadata": {},
     "output_type": "execute_result"
    }
   ],
   "source": [
    "import MetaTrader5 as mt5\n",
    "print(\"MetaTrader5 package author: \",mt5.__author__)\n",
    "print(\"MetaTrader5 package version: \",mt5.__version__)\n",
    " \n",
    "if not mt5.initialize(login=17011821, password=\"-Dyb$32&\" , server=\"mt5live.fxopen.net \"):\n",
    "    print(\"initialize() failed\")\n",
    "    mt5.shutdown()\n",
    "\n",
    "# print(mt5.terminal_info())\n",
    "# acount = 17011821\n",
    "# authrized = mt5.login(acount, password=\"-Dyb$32&\")\n",
    "# print(authrized)\n",
    "# if authrized:\n",
    "#     print(\"Succes fully connected \")\n",
    "#     print()\n",
    "# else:\n",
    "#     print(f\"Connection error {mt5.last_error()}\")\n",
    "# mt5.shutdown()"
   ]
  },
  {
   "cell_type": "code",
   "execution_count": 7,
   "id": "62ac0b7d-badf-40d8-ae36-12c656f43360",
   "metadata": {},
   "outputs": [
    {
     "name": "stdout",
     "output_type": "stream",
     "text": [
      "MetaTrader5 package author:  MetaQuotes Ltd.\n",
      "MetaTrader5 package version:  5.0.4200\n",
      "(500, 4260, '22 Mar 2024')\n",
      "failed to connect at account #17221085, error code: (-2, 'Terminal: Invalid params')\n",
      "failed to connect at account #25115284, error code: (-2, 'Terminal: Invalid params')\n"
     ]
    },
    {
     "data": {
      "text/plain": [
       "True"
      ]
     },
     "execution_count": 7,
     "metadata": {},
     "output_type": "execute_result"
    }
   ],
   "source": []
  },
  {
   "cell_type": "code",
   "execution_count": null,
   "id": "71ed1b08-b1aa-41e4-9f06-b4661a0f309c",
   "metadata": {},
   "outputs": [],
   "source": []
  }
 ],
 "metadata": {
  "kernelspec": {
   "display_name": "Python 3 (ipykernel)",
   "language": "python",
   "name": "python3"
  },
  "language_info": {
   "codemirror_mode": {
    "name": "ipython",
    "version": 3
   },
   "file_extension": ".py",
   "mimetype": "text/x-python",
   "name": "python",
   "nbconvert_exporter": "python",
   "pygments_lexer": "ipython3",
   "version": "3.11.4"
  }
 },
 "nbformat": 4,
 "nbformat_minor": 5
}
