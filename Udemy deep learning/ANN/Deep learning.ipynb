{
 "cells": [
  {
   "cell_type": "code",
   "execution_count": 48,
   "id": "6e984879-8068-4aa8-95dd-e381bac2fd03",
   "metadata": {
    "editable": true,
    "slideshow": {
     "slide_type": ""
    },
    "tags": []
   },
   "outputs": [],
   "source": [
    "import pandas as pd\n",
    "import numpy as np\n",
    "import tensorflow as tf"
   ]
  },
  {
   "cell_type": "code",
   "execution_count": 49,
   "id": "e697bb71-37b4-4187-8352-6e6f954e70e8",
   "metadata": {},
   "outputs": [],
   "source": [
    "df = pd.read_csv(\"E:\\Deep learning UDEMY\\P16-Artificial-Neural-Networks\\Part 1 - Artificial Neural Networks\\Churn_Modelling.csv\")"
   ]
  },
  {
   "cell_type": "code",
   "execution_count": 50,
   "id": "b81ef0da-d1ee-4f13-8dd1-19e64477a838",
   "metadata": {},
   "outputs": [
    {
     "data": {
      "text/html": [
       "<div>\n",
       "<style scoped>\n",
       "    .dataframe tbody tr th:only-of-type {\n",
       "        vertical-align: middle;\n",
       "    }\n",
       "\n",
       "    .dataframe tbody tr th {\n",
       "        vertical-align: top;\n",
       "    }\n",
       "\n",
       "    .dataframe thead th {\n",
       "        text-align: right;\n",
       "    }\n",
       "</style>\n",
       "<table border=\"1\" class=\"dataframe\">\n",
       "  <thead>\n",
       "    <tr style=\"text-align: right;\">\n",
       "      <th></th>\n",
       "      <th>RowNumber</th>\n",
       "      <th>CustomerId</th>\n",
       "      <th>Surname</th>\n",
       "      <th>CreditScore</th>\n",
       "      <th>Geography</th>\n",
       "      <th>Gender</th>\n",
       "      <th>Age</th>\n",
       "      <th>Tenure</th>\n",
       "      <th>Balance</th>\n",
       "      <th>NumOfProducts</th>\n",
       "      <th>HasCrCard</th>\n",
       "      <th>IsActiveMember</th>\n",
       "      <th>EstimatedSalary</th>\n",
       "      <th>Exited</th>\n",
       "    </tr>\n",
       "  </thead>\n",
       "  <tbody>\n",
       "    <tr>\n",
       "      <th>0</th>\n",
       "      <td>1</td>\n",
       "      <td>15634602</td>\n",
       "      <td>Hargrave</td>\n",
       "      <td>619</td>\n",
       "      <td>France</td>\n",
       "      <td>Female</td>\n",
       "      <td>42</td>\n",
       "      <td>2</td>\n",
       "      <td>0.00</td>\n",
       "      <td>1</td>\n",
       "      <td>1</td>\n",
       "      <td>1</td>\n",
       "      <td>101348.88</td>\n",
       "      <td>1</td>\n",
       "    </tr>\n",
       "    <tr>\n",
       "      <th>1</th>\n",
       "      <td>2</td>\n",
       "      <td>15647311</td>\n",
       "      <td>Hill</td>\n",
       "      <td>608</td>\n",
       "      <td>Spain</td>\n",
       "      <td>Female</td>\n",
       "      <td>41</td>\n",
       "      <td>1</td>\n",
       "      <td>83807.86</td>\n",
       "      <td>1</td>\n",
       "      <td>0</td>\n",
       "      <td>1</td>\n",
       "      <td>112542.58</td>\n",
       "      <td>0</td>\n",
       "    </tr>\n",
       "    <tr>\n",
       "      <th>2</th>\n",
       "      <td>3</td>\n",
       "      <td>15619304</td>\n",
       "      <td>Onio</td>\n",
       "      <td>502</td>\n",
       "      <td>France</td>\n",
       "      <td>Female</td>\n",
       "      <td>42</td>\n",
       "      <td>8</td>\n",
       "      <td>159660.80</td>\n",
       "      <td>3</td>\n",
       "      <td>1</td>\n",
       "      <td>0</td>\n",
       "      <td>113931.57</td>\n",
       "      <td>1</td>\n",
       "    </tr>\n",
       "    <tr>\n",
       "      <th>3</th>\n",
       "      <td>4</td>\n",
       "      <td>15701354</td>\n",
       "      <td>Boni</td>\n",
       "      <td>699</td>\n",
       "      <td>France</td>\n",
       "      <td>Female</td>\n",
       "      <td>39</td>\n",
       "      <td>1</td>\n",
       "      <td>0.00</td>\n",
       "      <td>2</td>\n",
       "      <td>0</td>\n",
       "      <td>0</td>\n",
       "      <td>93826.63</td>\n",
       "      <td>0</td>\n",
       "    </tr>\n",
       "    <tr>\n",
       "      <th>4</th>\n",
       "      <td>5</td>\n",
       "      <td>15737888</td>\n",
       "      <td>Mitchell</td>\n",
       "      <td>850</td>\n",
       "      <td>Spain</td>\n",
       "      <td>Female</td>\n",
       "      <td>43</td>\n",
       "      <td>2</td>\n",
       "      <td>125510.82</td>\n",
       "      <td>1</td>\n",
       "      <td>1</td>\n",
       "      <td>1</td>\n",
       "      <td>79084.10</td>\n",
       "      <td>0</td>\n",
       "    </tr>\n",
       "  </tbody>\n",
       "</table>\n",
       "</div>"
      ],
      "text/plain": [
       "   RowNumber  CustomerId   Surname  CreditScore Geography  Gender  Age  \\\n",
       "0          1    15634602  Hargrave          619    France  Female   42   \n",
       "1          2    15647311      Hill          608     Spain  Female   41   \n",
       "2          3    15619304      Onio          502    France  Female   42   \n",
       "3          4    15701354      Boni          699    France  Female   39   \n",
       "4          5    15737888  Mitchell          850     Spain  Female   43   \n",
       "\n",
       "   Tenure    Balance  NumOfProducts  HasCrCard  IsActiveMember  \\\n",
       "0       2       0.00              1          1               1   \n",
       "1       1   83807.86              1          0               1   \n",
       "2       8  159660.80              3          1               0   \n",
       "3       1       0.00              2          0               0   \n",
       "4       2  125510.82              1          1               1   \n",
       "\n",
       "   EstimatedSalary  Exited  \n",
       "0        101348.88       1  \n",
       "1        112542.58       0  \n",
       "2        113931.57       1  \n",
       "3         93826.63       0  \n",
       "4         79084.10       0  "
      ]
     },
     "execution_count": 50,
     "metadata": {},
     "output_type": "execute_result"
    }
   ],
   "source": [
    "df.head()"
   ]
  },
  {
   "cell_type": "code",
   "execution_count": 51,
   "id": "c80a3435-59d1-4620-adcf-64a74a897fad",
   "metadata": {},
   "outputs": [
    {
     "data": {
      "text/plain": [
       "array([[619, 'France', 'Female', ..., 1, 1, 101348.88],\n",
       "       [608, 'Spain', 'Female', ..., 0, 1, 112542.58],\n",
       "       [502, 'France', 'Female', ..., 1, 0, 113931.57],\n",
       "       ...,\n",
       "       [709, 'France', 'Female', ..., 0, 1, 42085.58],\n",
       "       [772, 'Germany', 'Male', ..., 1, 0, 92888.52],\n",
       "       [792, 'France', 'Female', ..., 1, 0, 38190.78]], dtype=object)"
      ]
     },
     "execution_count": 51,
     "metadata": {},
     "output_type": "execute_result"
    }
   ],
   "source": [
    "X = df.iloc[:, 3:-1].values\n",
    "y = df.iloc[:, -1:].values\n",
    "X"
   ]
  },
  {
   "cell_type": "code",
   "execution_count": 52,
   "id": "20411ebe-f1d7-42c4-bbe3-1d2ede845d3e",
   "metadata": {},
   "outputs": [
    {
     "data": {
      "text/plain": [
       "array([[1.0, 0.0, 0.0, ..., 1, 1, 101348.88],\n",
       "       [0.0, 0.0, 1.0, ..., 0, 1, 112542.58],\n",
       "       [1.0, 0.0, 0.0, ..., 1, 0, 113931.57],\n",
       "       ...,\n",
       "       [1.0, 0.0, 0.0, ..., 0, 1, 42085.58],\n",
       "       [0.0, 1.0, 0.0, ..., 1, 0, 92888.52],\n",
       "       [1.0, 0.0, 0.0, ..., 1, 0, 38190.78]], dtype=object)"
      ]
     },
     "execution_count": 52,
     "metadata": {},
     "output_type": "execute_result"
    }
   ],
   "source": [
    "from sklearn.compose import ColumnTransformer\n",
    "from sklearn.preprocessing import OneHotEncoder\n",
    "ct = ColumnTransformer(transformers=[(\"encoder\", OneHotEncoder(), [1, 2])], remainder=\"passthrough\")\n",
    "X = np.array(ct.fit_transform(X))\n",
    "X\n"
   ]
  },
  {
   "cell_type": "code",
   "execution_count": 53,
   "id": "b4aa1e02-7799-402f-9198-aca5191f879a",
   "metadata": {},
   "outputs": [],
   "source": [
    "from sklearn.model_selection import train_test_split\n",
    "X_train, X_test, y_train, y_test = train_test_split(X, y, test_size=0.2, random_state=42)"
   ]
  },
  {
   "cell_type": "code",
   "execution_count": 54,
   "id": "d249dc28-5a6d-4864-8dd2-11cfed036382",
   "metadata": {},
   "outputs": [],
   "source": [
    "# from sklearn.preprocessing import StandardScaler\n",
    "# sc = StandardScaler()\n",
    "# sc1 = StandardScaler()\n",
    "# X_train = sc.fit_transform(X_train)\n",
    "# # y_train = sc1.fit_transform(y_train)"
   ]
  },
  {
   "cell_type": "code",
   "execution_count": 55,
   "id": "935b3caf-b73c-4a58-a22f-817c17310572",
   "metadata": {},
   "outputs": [],
   "source": [
    "ann = tf.keras.models.Sequential()"
   ]
  },
  {
   "cell_type": "code",
   "execution_count": 56,
   "id": "b3aa8c50-e8cb-4cc5-aadd-077b244e4691",
   "metadata": {},
   "outputs": [],
   "source": [
    "ann.add(tf.keras.layers.Dense(units = 6, activation = \"relu\"))"
   ]
  },
  {
   "cell_type": "code",
   "execution_count": 57,
   "id": "ec9cd5bd-cd9d-4471-a000-938218d71ad7",
   "metadata": {},
   "outputs": [],
   "source": [
    "ann.add(tf.keras.layers.Dense(units = 6, activation = \"relu\"))"
   ]
  },
  {
   "cell_type": "code",
   "execution_count": 58,
   "id": "01dc2daf-01e2-4bdb-a8c1-a9e5d7d7d654",
   "metadata": {},
   "outputs": [],
   "source": [
    "ann.add(tf.keras.layers.Dense(units = 6, activation = \"relu\"))"
   ]
  },
  {
   "cell_type": "code",
   "execution_count": 59,
   "id": "93466275-b3d5-4d88-98de-cc44954d17b1",
   "metadata": {},
   "outputs": [],
   "source": [
    "ann.add(tf.keras.layers.Dense(units = 1, activation = \"sigmoid\"))"
   ]
  },
  {
   "cell_type": "code",
   "execution_count": 60,
   "id": "cc6231ae-c8e6-4c59-948f-97203e3ac7a0",
   "metadata": {},
   "outputs": [],
   "source": [
    "ann.compile(\n",
    "    optimizer=tf.keras.optimizers.Adam(learning_rate=1e-3),\n",
    "    loss=tf.keras.losses.BinaryCrossentropy(),\n",
    "    metrics=[\n",
    "        tf.keras.metrics.BinaryAccuracy(),\n",
    "        tf.keras.metrics.FalseNegatives(),\n",
    "    ],\n",
    ")"
   ]
  },
  {
   "cell_type": "code",
   "execution_count": 61,
   "id": "e398896d-5aa7-45b5-a240-5dc61e7587cf",
   "metadata": {},
   "outputs": [],
   "source": [
    "X_train = X_train.astype(float)\n",
    "y_train = y_train.astype(float)"
   ]
  },
  {
   "cell_type": "code",
   "execution_count": 62,
   "id": "3143ca87-249d-4aee-9858-503785367596",
   "metadata": {},
   "outputs": [
    {
     "name": "stdout",
     "output_type": "stream",
     "text": [
      "Epoch 1/100\n",
      "250/250 [==============================] - 1s 2ms/step - loss: 629.8215 - binary_accuracy: 0.6676 - false_negatives_3: 1246.0000\n",
      "Epoch 2/100\n",
      "250/250 [==============================] - 0s 1ms/step - loss: 36.5158 - binary_accuracy: 0.6875 - false_negatives_3: 1320.0000\n",
      "Epoch 3/100\n",
      "250/250 [==============================] - 0s 2ms/step - loss: 41.0824 - binary_accuracy: 0.6926 - false_negatives_3: 1295.0000\n",
      "Epoch 4/100\n",
      "250/250 [==============================] - 0s 2ms/step - loss: 34.1471 - binary_accuracy: 0.6864 - false_negatives_3: 1302.0000\n",
      "Epoch 5/100\n",
      "250/250 [==============================] - 0s 2ms/step - loss: 44.1866 - binary_accuracy: 0.6930 - false_negatives_3: 1275.0000\n",
      "Epoch 6/100\n",
      "250/250 [==============================] - 0s 2ms/step - loss: 36.8913 - binary_accuracy: 0.6824 - false_negatives_3: 1289.0000\n",
      "Epoch 7/100\n",
      "250/250 [==============================] - 0s 2ms/step - loss: 44.7964 - binary_accuracy: 0.6860 - false_negatives_3: 1282.0000\n",
      "Epoch 8/100\n",
      "250/250 [==============================] - 1s 2ms/step - loss: 26.9585 - binary_accuracy: 0.6825 - false_negatives_3: 1291.0000\n",
      "Epoch 9/100\n",
      "250/250 [==============================] - 0s 2ms/step - loss: 33.6422 - binary_accuracy: 0.6758 - false_negatives_3: 1284.0000\n",
      "Epoch 10/100\n",
      "250/250 [==============================] - 0s 2ms/step - loss: 27.9893 - binary_accuracy: 0.6779 - false_negatives_3: 1271.0000\n",
      "Epoch 11/100\n",
      "250/250 [==============================] - 0s 2ms/step - loss: 22.5323 - binary_accuracy: 0.6820 - false_negatives_3: 1262.0000\n",
      "Epoch 12/100\n",
      "250/250 [==============================] - 0s 1ms/step - loss: 27.7083 - binary_accuracy: 0.6840 - false_negatives_3: 1271.0000\n",
      "Epoch 13/100\n",
      "250/250 [==============================] - 0s 2ms/step - loss: 28.6981 - binary_accuracy: 0.6762 - false_negatives_3: 1273.0000\n",
      "Epoch 14/100\n",
      "250/250 [==============================] - 1s 2ms/step - loss: 31.3602 - binary_accuracy: 0.6787 - false_negatives_3: 1259.0000\n",
      "Epoch 15/100\n",
      "250/250 [==============================] - 1s 2ms/step - loss: 23.9763 - binary_accuracy: 0.6770 - false_negatives_3: 1285.0000\n",
      "Epoch 16/100\n",
      "250/250 [==============================] - 1s 2ms/step - loss: 30.6445 - binary_accuracy: 0.6760 - false_negatives_3: 1285.0000\n",
      "Epoch 17/100\n",
      "250/250 [==============================] - 0s 2ms/step - loss: 23.3725 - binary_accuracy: 0.6710 - false_negatives_3: 1310.0000\n",
      "Epoch 18/100\n",
      "250/250 [==============================] - 0s 2ms/step - loss: 22.6169 - binary_accuracy: 0.6805 - false_negatives_3: 1262.0000\n",
      "Epoch 19/100\n",
      "250/250 [==============================] - 1s 2ms/step - loss: 26.5526 - binary_accuracy: 0.6820 - false_negatives_3: 1270.0000\n",
      "Epoch 20/100\n",
      "250/250 [==============================] - 0s 2ms/step - loss: 34.0741 - binary_accuracy: 0.6812 - false_negatives_3: 1256.0000\n",
      "Epoch 21/100\n",
      "250/250 [==============================] - 0s 2ms/step - loss: 24.9377 - binary_accuracy: 0.6849 - false_negatives_3: 1256.0000\n",
      "Epoch 22/100\n",
      "250/250 [==============================] - 1s 2ms/step - loss: 25.2813 - binary_accuracy: 0.6877 - false_negatives_3: 1252.0000\n",
      "Epoch 23/100\n",
      "250/250 [==============================] - 0s 2ms/step - loss: 22.8293 - binary_accuracy: 0.6785 - false_negatives_3: 1263.0000\n",
      "Epoch 24/100\n",
      "250/250 [==============================] - 0s 2ms/step - loss: 30.4674 - binary_accuracy: 0.6871 - false_negatives_3: 1256.0000\n",
      "Epoch 25/100\n",
      "250/250 [==============================] - 0s 2ms/step - loss: 18.6569 - binary_accuracy: 0.6795 - false_negatives_3: 1259.0000\n",
      "Epoch 26/100\n",
      "250/250 [==============================] - 1s 2ms/step - loss: 32.9403 - binary_accuracy: 0.6834 - false_negatives_3: 1270.0000\n",
      "Epoch 27/100\n",
      "250/250 [==============================] - 1s 2ms/step - loss: 30.0317 - binary_accuracy: 0.6765 - false_negatives_3: 1271.0000\n",
      "Epoch 28/100\n",
      "250/250 [==============================] - 0s 2ms/step - loss: 22.2717 - binary_accuracy: 0.6800 - false_negatives_3: 1266.0000\n",
      "Epoch 29/100\n",
      "250/250 [==============================] - 0s 2ms/step - loss: 25.0634 - binary_accuracy: 0.6867 - false_negatives_3: 1268.0000\n",
      "Epoch 30/100\n",
      "250/250 [==============================] - 1s 2ms/step - loss: 22.5112 - binary_accuracy: 0.6840 - false_negatives_3: 1237.0000\n",
      "Epoch 31/100\n",
      "250/250 [==============================] - 1s 2ms/step - loss: 25.6891 - binary_accuracy: 0.6876 - false_negatives_3: 1245.0000\n",
      "Epoch 32/100\n",
      "250/250 [==============================] - 1s 2ms/step - loss: 26.7762 - binary_accuracy: 0.6831 - false_negatives_3: 1244.0000\n",
      "Epoch 33/100\n",
      "250/250 [==============================] - 1s 2ms/step - loss: 22.7998 - binary_accuracy: 0.6844 - false_negatives_3: 1250.0000\n",
      "Epoch 34/100\n",
      "250/250 [==============================] - 0s 2ms/step - loss: 32.6798 - binary_accuracy: 0.6800 - false_negatives_3: 1271.0000\n",
      "Epoch 35/100\n",
      "250/250 [==============================] - 0s 2ms/step - loss: 27.3000 - binary_accuracy: 0.6816 - false_negatives_3: 1273.0000\n",
      "Epoch 36/100\n",
      "250/250 [==============================] - 0s 2ms/step - loss: 24.8089 - binary_accuracy: 0.6864 - false_negatives_3: 1245.0000\n",
      "Epoch 37/100\n",
      "250/250 [==============================] - 1s 2ms/step - loss: 22.8198 - binary_accuracy: 0.6810 - false_negatives_3: 1246.0000\n",
      "Epoch 38/100\n",
      "250/250 [==============================] - 1s 2ms/step - loss: 23.6424 - binary_accuracy: 0.6910 - false_negatives_3: 1243.0000\n",
      "Epoch 39/100\n",
      "250/250 [==============================] - 0s 2ms/step - loss: 22.5919 - binary_accuracy: 0.6827 - false_negatives_3: 1246.0000\n",
      "Epoch 40/100\n",
      "250/250 [==============================] - 0s 2ms/step - loss: 23.4206 - binary_accuracy: 0.6837 - false_negatives_3: 1264.0000\n",
      "Epoch 41/100\n",
      "250/250 [==============================] - 0s 2ms/step - loss: 23.3586 - binary_accuracy: 0.6883 - false_negatives_3: 1241.0000\n",
      "Epoch 42/100\n",
      "250/250 [==============================] - 0s 2ms/step - loss: 22.6247 - binary_accuracy: 0.6790 - false_negatives_3: 1273.0000\n",
      "Epoch 43/100\n",
      "250/250 [==============================] - 0s 2ms/step - loss: 21.9994 - binary_accuracy: 0.6842 - false_negatives_3: 1230.0000\n",
      "Epoch 44/100\n",
      "250/250 [==============================] - 0s 2ms/step - loss: 19.1191 - binary_accuracy: 0.6896 - false_negatives_3: 1244.0000\n",
      "Epoch 45/100\n",
      "250/250 [==============================] - 0s 2ms/step - loss: 22.3396 - binary_accuracy: 0.6906 - false_negatives_3: 1235.0000\n",
      "Epoch 46/100\n",
      "250/250 [==============================] - 0s 2ms/step - loss: 22.9644 - binary_accuracy: 0.6873 - false_negatives_3: 1232.0000\n",
      "Epoch 47/100\n",
      "250/250 [==============================] - 0s 2ms/step - loss: 18.8384 - binary_accuracy: 0.6865 - false_negatives_3: 1247.0000\n",
      "Epoch 48/100\n",
      "250/250 [==============================] - 0s 2ms/step - loss: 23.5922 - binary_accuracy: 0.6799 - false_negatives_3: 1259.0000\n",
      "Epoch 49/100\n",
      "250/250 [==============================] - 0s 2ms/step - loss: 22.5657 - binary_accuracy: 0.6859 - false_negatives_3: 1263.0000\n",
      "Epoch 50/100\n",
      "250/250 [==============================] - 0s 2ms/step - loss: 27.2014 - binary_accuracy: 0.6783 - false_negatives_3: 1261.0000\n",
      "Epoch 51/100\n",
      "250/250 [==============================] - 0s 2ms/step - loss: 14.6110 - binary_accuracy: 0.6954 - false_negatives_3: 1232.0000\n",
      "Epoch 52/100\n",
      "250/250 [==============================] - 0s 2ms/step - loss: 19.2595 - binary_accuracy: 0.6892 - false_negatives_3: 1235.0000\n",
      "Epoch 53/100\n",
      "250/250 [==============================] - 0s 2ms/step - loss: 24.3596 - binary_accuracy: 0.6786 - false_negatives_3: 1273.0000\n",
      "Epoch 54/100\n",
      "250/250 [==============================] - 0s 2ms/step - loss: 20.0658 - binary_accuracy: 0.6829 - false_negatives_3: 1254.0000\n",
      "Epoch 55/100\n",
      "250/250 [==============================] - 0s 2ms/step - loss: 20.0277 - binary_accuracy: 0.6885 - false_negatives_3: 1260.0000\n",
      "Epoch 56/100\n",
      "250/250 [==============================] - 0s 2ms/step - loss: 21.4142 - binary_accuracy: 0.6871 - false_negatives_3: 1251.0000\n",
      "Epoch 57/100\n",
      "250/250 [==============================] - 0s 2ms/step - loss: 22.6415 - binary_accuracy: 0.6833 - false_negatives_3: 1238.0000\n",
      "Epoch 58/100\n",
      "250/250 [==============================] - 0s 2ms/step - loss: 19.0928 - binary_accuracy: 0.6804 - false_negatives_3: 1262.0000\n",
      "Epoch 59/100\n",
      "250/250 [==============================] - 0s 2ms/step - loss: 22.7503 - binary_accuracy: 0.6901 - false_negatives_3: 1241.0000\n",
      "Epoch 60/100\n",
      "250/250 [==============================] - 0s 2ms/step - loss: 14.7298 - binary_accuracy: 0.6963 - false_negatives_3: 1216.0000\n",
      "Epoch 61/100\n",
      "250/250 [==============================] - 0s 2ms/step - loss: 19.7299 - binary_accuracy: 0.6891 - false_negatives_3: 1229.0000\n",
      "Epoch 62/100\n",
      "250/250 [==============================] - 0s 2ms/step - loss: 19.6803 - binary_accuracy: 0.6905 - false_negatives_3: 1225.0000\n",
      "Epoch 63/100\n",
      "250/250 [==============================] - 0s 2ms/step - loss: 16.7348 - binary_accuracy: 0.6875 - false_negatives_3: 1226.0000\n",
      "Epoch 64/100\n",
      "250/250 [==============================] - 1s 2ms/step - loss: 18.2078 - binary_accuracy: 0.6840 - false_negatives_3: 1254.0000\n",
      "Epoch 65/100\n",
      "250/250 [==============================] - 1s 2ms/step - loss: 24.1284 - binary_accuracy: 0.6839 - false_negatives_3: 1274.0000\n",
      "Epoch 66/100\n",
      "250/250 [==============================] - 0s 2ms/step - loss: 24.9817 - binary_accuracy: 0.6783 - false_negatives_3: 1250.0000\n",
      "Epoch 67/100\n",
      "250/250 [==============================] - 0s 2ms/step - loss: 17.8554 - binary_accuracy: 0.7000 - false_negatives_3: 1219.0000\n",
      "Epoch 68/100\n",
      "250/250 [==============================] - 0s 2ms/step - loss: 21.2525 - binary_accuracy: 0.6840 - false_negatives_3: 1235.0000\n",
      "Epoch 69/100\n",
      "250/250 [==============================] - 0s 1ms/step - loss: 21.3905 - binary_accuracy: 0.6905 - false_negatives_3: 1233.0000\n",
      "Epoch 70/100\n",
      "250/250 [==============================] - 0s 2ms/step - loss: 16.7812 - binary_accuracy: 0.6875 - false_negatives_3: 1224.0000\n",
      "Epoch 71/100\n",
      "250/250 [==============================] - 0s 2ms/step - loss: 13.3097 - binary_accuracy: 0.6979 - false_negatives_3: 1220.0000\n",
      "Epoch 72/100\n",
      "250/250 [==============================] - 0s 2ms/step - loss: 22.8549 - binary_accuracy: 0.6911 - false_negatives_3: 1235.0000\n",
      "Epoch 73/100\n",
      "250/250 [==============================] - 0s 2ms/step - loss: 29.2911 - binary_accuracy: 0.6827 - false_negatives_3: 1246.0000\n",
      "Epoch 74/100\n",
      "250/250 [==============================] - 0s 2ms/step - loss: 16.6821 - binary_accuracy: 0.6931 - false_negatives_3: 1224.0000\n",
      "Epoch 75/100\n",
      "250/250 [==============================] - 0s 2ms/step - loss: 17.1667 - binary_accuracy: 0.6984 - false_negatives_3: 1202.0000\n",
      "Epoch 76/100\n",
      "250/250 [==============================] - 1s 2ms/step - loss: 19.5859 - binary_accuracy: 0.6901 - false_negatives_3: 1226.0000\n",
      "Epoch 77/100\n",
      "250/250 [==============================] - 0s 2ms/step - loss: 23.0036 - binary_accuracy: 0.6800 - false_negatives_3: 1263.0000\n",
      "Epoch 78/100\n",
      "250/250 [==============================] - 0s 2ms/step - loss: 21.6292 - binary_accuracy: 0.6798 - false_negatives_3: 1273.0000\n",
      "Epoch 79/100\n",
      "250/250 [==============================] - 1s 2ms/step - loss: 15.8042 - binary_accuracy: 0.6946 - false_negatives_3: 1203.0000\n",
      "Epoch 80/100\n",
      "250/250 [==============================] - 1s 2ms/step - loss: 21.4626 - binary_accuracy: 0.6924 - false_negatives_3: 1203.0000\n",
      "Epoch 81/100\n",
      "250/250 [==============================] - 0s 2ms/step - loss: 16.7151 - binary_accuracy: 0.6976 - false_negatives_3: 1211.0000\n",
      "Epoch 82/100\n",
      "250/250 [==============================] - 0s 2ms/step - loss: 17.1777 - binary_accuracy: 0.6936 - false_negatives_3: 1219.0000\n",
      "Epoch 83/100\n",
      "250/250 [==============================] - 1s 2ms/step - loss: 18.4301 - binary_accuracy: 0.6854 - false_negatives_3: 1251.0000\n",
      "Epoch 84/100\n",
      "250/250 [==============================] - 1s 2ms/step - loss: 14.3794 - binary_accuracy: 0.6915 - false_negatives_3: 1230.0000\n",
      "Epoch 85/100\n",
      "250/250 [==============================] - 0s 2ms/step - loss: 19.1934 - binary_accuracy: 0.6855 - false_negatives_3: 1225.0000\n",
      "Epoch 86/100\n",
      "250/250 [==============================] - 0s 2ms/step - loss: 20.7671 - binary_accuracy: 0.6890 - false_negatives_3: 1239.0000\n",
      "Epoch 87/100\n",
      "250/250 [==============================] - 0s 2ms/step - loss: 15.3821 - binary_accuracy: 0.6935 - false_negatives_3: 1191.0000\n",
      "Epoch 88/100\n",
      "250/250 [==============================] - 0s 2ms/step - loss: 16.3280 - binary_accuracy: 0.6888 - false_negatives_3: 1241.0000\n",
      "Epoch 89/100\n",
      "250/250 [==============================] - 1s 2ms/step - loss: 11.7039 - binary_accuracy: 0.6990 - false_negatives_3: 1189.0000\n",
      "Epoch 90/100\n",
      "250/250 [==============================] - 1s 2ms/step - loss: 15.4433 - binary_accuracy: 0.6870 - false_negatives_3: 1246.0000\n",
      "Epoch 91/100\n",
      "250/250 [==============================] - 1s 2ms/step - loss: 17.7604 - binary_accuracy: 0.6955 - false_negatives_3: 1225.0000\n",
      "Epoch 92/100\n",
      "250/250 [==============================] - 0s 2ms/step - loss: 14.4037 - binary_accuracy: 0.6921 - false_negatives_3: 1207.0000\n",
      "Epoch 93/100\n",
      "250/250 [==============================] - 0s 2ms/step - loss: 11.2094 - binary_accuracy: 0.6995 - false_negatives_3: 1194.0000\n",
      "Epoch 94/100\n",
      "250/250 [==============================] - 1s 2ms/step - loss: 13.8256 - binary_accuracy: 0.6975 - false_negatives_3: 1194.0000\n",
      "Epoch 95/100\n",
      "250/250 [==============================] - 0s 2ms/step - loss: 21.2758 - binary_accuracy: 0.6924 - false_negatives_3: 1213.0000\n",
      "Epoch 96/100\n",
      "250/250 [==============================] - 0s 2ms/step - loss: 14.9727 - binary_accuracy: 0.6905 - false_negatives_3: 1230.0000\n",
      "Epoch 97/100\n",
      "250/250 [==============================] - 0s 2ms/step - loss: 15.3209 - binary_accuracy: 0.6948 - false_negatives_3: 1217.0000\n",
      "Epoch 98/100\n",
      "250/250 [==============================] - 0s 2ms/step - loss: 17.3572 - binary_accuracy: 0.6891 - false_negatives_3: 1202.0000\n",
      "Epoch 99/100\n",
      "250/250 [==============================] - 0s 2ms/step - loss: 14.6702 - binary_accuracy: 0.6921 - false_negatives_3: 1227.0000\n",
      "Epoch 100/100\n",
      "250/250 [==============================] - 0s 2ms/step - loss: 23.5997 - binary_accuracy: 0.6852 - false_negatives_3: 1242.0000\n"
     ]
    },
    {
     "data": {
      "text/plain": [
       "<keras.src.callbacks.History at 0x1eb76395510>"
      ]
     },
     "execution_count": 62,
     "metadata": {},
     "output_type": "execute_result"
    }
   ],
   "source": [
    "ann.fit(X_train, y_train, batch_size = 32, epochs = 100)"
   ]
  },
  {
   "cell_type": "code",
   "execution_count": 67,
   "id": "ff5eb0c3-2024-43be-8f4a-906f98d159fe",
   "metadata": {},
   "outputs": [
    {
     "name": "stdout",
     "output_type": "stream",
     "text": [
      "1/1 [==============================] - 0s 34ms/step\n"
     ]
    },
    {
     "data": {
      "text/plain": [
       "array([[0.8147604]], dtype=float32)"
      ]
     },
     "execution_count": 67,
     "metadata": {},
     "output_type": "execute_result"
    }
   ],
   "source": [
    "ann.predict(ct.transform([[600, \"France\", \"Male\", 40, 3, 60000, 2, 1, 1, 50000]]).astype(float)) "
   ]
  },
  {
   "cell_type": "code",
   "execution_count": 72,
   "id": "77b713ba-dd45-40a1-87eb-88f506214c5c",
   "metadata": {},
   "outputs": [
    {
     "name": "stdout",
     "output_type": "stream",
     "text": [
      "63/63 [==============================] - 0s 1ms/step\n"
     ]
    }
   ],
   "source": [
    "y_pred = ann.predict(X_test.astype(float))\n",
    "y_pred = y_pred > 0.5"
   ]
  },
  {
   "cell_type": "code",
   "execution_count": 74,
   "id": "3b558d9c-d5c5-4ca1-8c56-130fcfffc178",
   "metadata": {},
   "outputs": [
    {
     "name": "stdout",
     "output_type": "stream",
     "text": [
      "[[689 918]\n",
      " [ 78 315]]\n",
      "0.502\n"
     ]
    }
   ],
   "source": [
    "from sklearn.metrics import confusion_matrix, accuracy_score\n",
    "print(confusion_matrix(y_test, y_pred))\n",
    "print(accuracy_score(y_test, y_pred))"
   ]
  },
  {
   "cell_type": "code",
   "execution_count": 71,
   "id": "48941f77-bd38-4e67-95c9-58509756359e",
   "metadata": {},
   "outputs": [
    {
     "data": {
      "text/plain": [
       "array([[9.9997991e-01],\n",
       "       [1.0648024e-05],\n",
       "       [1.9560504e-01],\n",
       "       ...,\n",
       "       [3.0977451e-03],\n",
       "       [5.2744931e-10],\n",
       "       [9.9999940e-01]], dtype=float32)"
      ]
     },
     "execution_count": 71,
     "metadata": {},
     "output_type": "execute_result"
    }
   ],
   "source": [
    "y_pred"
   ]
  },
  {
   "cell_type": "code",
   "execution_count": null,
   "id": "fff3b7c0-7346-4a39-a13b-387c3c08b2bf",
   "metadata": {},
   "outputs": [],
   "source": []
  }
 ],
 "metadata": {
  "kernelspec": {
   "display_name": "Python 3 (ipykernel)",
   "language": "python",
   "name": "python3"
  },
  "language_info": {
   "codemirror_mode": {
    "name": "ipython",
    "version": 3
   },
   "file_extension": ".py",
   "mimetype": "text/x-python",
   "name": "python",
   "nbconvert_exporter": "python",
   "pygments_lexer": "ipython3",
   "version": "3.11.4"
  }
 },
 "nbformat": 4,
 "nbformat_minor": 5
}
