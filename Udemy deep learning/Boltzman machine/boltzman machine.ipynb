{
 "cells": [
  {
   "cell_type": "code",
   "execution_count": 1,
   "id": "829785e5-3859-404f-92c5-acb185e224aa",
   "metadata": {},
   "outputs": [],
   "source": [
    "import pandas as pd\n",
    "import numpy as np\n",
    "import torch\n",
    "import torch.nn as nn\n",
    "import torch.nn.parallel\n",
    "import torch.utils.data\n",
    "from torch.autograd import Variable"
   ]
  },
  {
   "cell_type": "code",
   "execution_count": 2,
   "id": "133da27c-53f5-4c08-914b-a143eeae0121",
   "metadata": {},
   "outputs": [],
   "source": [
    "movies = pd.read_csv(r\"E:\\Deep learning UDEMY\\P16-Boltzmann-Machines\\Boltzmann_Machines\\ml-1m\\movies.dat\", sep= \"::\", header= None, engine= \"python\", encoding= \"latin-1\")\n",
    "users = pd.read_csv(r\"E:\\Deep learning UDEMY\\P16-Boltzmann-Machines\\Boltzmann_Machines\\ml-1m\\users.dat\", sep= \"::\", header= None, engine= \"python\", encoding= \"latin-1\")\n",
    "ratings = pd.read_csv(r\"E:\\Deep learning UDEMY\\P16-Boltzmann-Machines\\Boltzmann_Machines\\ml-1m\\ratings.dat\", sep= \"::\", header= None, engine= \"python\", encoding= \"latin-1\")"
   ]
  },
  {
   "cell_type": "code",
   "execution_count": 3,
   "id": "e53383f8-8ca4-4c08-9111-76f7df0d66f4",
   "metadata": {},
   "outputs": [],
   "source": [
    "trainig_set = pd.read_csv(r\"E:\\Deep learning UDEMY\\P16-Boltzmann-Machines\\Boltzmann_Machines\\ml-100k\\u1.base\", delimiter=\"\\t\", )\n",
    "trainig_set = np.array(trainig_set, dtype = \"int\")"
   ]
  },
  {
   "cell_type": "code",
   "execution_count": 4,
   "id": "78840355-0137-46ed-bef0-8655318acab4",
   "metadata": {},
   "outputs": [],
   "source": [
    "test_set = pd.read_csv(r\"E:\\Deep learning UDEMY\\P16-Boltzmann-Machines\\Boltzmann_Machines\\ml-100k\\u1.test\", delimiter=\"\\t\", )\n",
    "test_set = np.array(test_set, dtype = \"int\")"
   ]
  },
  {
   "cell_type": "code",
   "execution_count": 7,
   "id": "ee53ca09-edfb-4d02-be7e-6847c0781dfc",
   "metadata": {
    "scrolled": true
   },
   "outputs": [],
   "source": [
    "def movies(train_set, test_set):\n",
    "    total_movies = 0\n",
    "    for i in train_set[:, 1]:\n",
    "        if i > total_movies:\n",
    "            total_movies = i\n",
    "\n",
    "    for i in test_set[:, 1]:\n",
    "        if i > total_movies:\n",
    "            total_movies = i\n",
    "\n",
    "    return total_movies\n",
    "\n",
    "def users(train_set, test_set):\n",
    "    total_users = 0\n",
    "    for i in train_set[:, 0]:\n",
    "        if i > total_users:\n",
    "            total_users = i\n",
    "\n",
    "    for i in test_set[:, 0]:\n",
    "        if i > total_users:\n",
    "            total_users = i\n",
    "\n",
    "    return total_users"
   ]
  },
  {
   "cell_type": "code",
   "execution_count": 8,
   "id": "a93425a3-6a3c-4f2b-8d3e-2a3e0ff8d52d",
   "metadata": {},
   "outputs": [
    {
     "name": "stdout",
     "output_type": "stream",
     "text": [
      "1682\n",
      "943\n"
     ]
    }
   ],
   "source": [
    "total_num_movies = movies(trainig_set, test_set)\n",
    "total_num_users = users(trainig_set, test_set)\n",
    "print(total_num_movies)\n",
    "print(total_num_users)"
   ]
  },
  {
   "cell_type": "code",
   "execution_count": 9,
   "id": "6b24e8e9-bca4-4128-b388-86fd48adaa8c",
   "metadata": {
    "scrolled": true
   },
   "outputs": [],
   "source": [
    "def converter(set):\n",
    "    li = []\n",
    "    for i in range(1, total_num_users + 1):\n",
    "        id_movies = (set[:, 1] [set[:, 0] == i])\n",
    "        id_rating = (set[:, 2] [set[:, 0] == i])\n",
    "        rate = np.zeros(total_num_movies)\n",
    "        rate[id_movies - 1] = id_rating\n",
    "        li.append(list(rate))\n",
    "    return li"
   ]
  },
  {
   "cell_type": "code",
   "execution_count": 10,
   "id": "4c9fc589-0847-4503-8118-6f5cbfbdbb92",
   "metadata": {
    "scrolled": true
   },
   "outputs": [],
   "source": [
    "trainig_set = converter(trainig_set)\n",
    "test_set = converter(test_set)"
   ]
  },
  {
   "cell_type": "code",
   "execution_count": 11,
   "id": "395984dc-68ea-49b4-9e03-ecf5d41a008e",
   "metadata": {},
   "outputs": [],
   "source": [
    "torch_train = torch.FloatTensor(trainig_set)\n",
    "torch_test = torch.FloatTensor(test_set)"
   ]
  },
  {
   "cell_type": "code",
   "execution_count": 12,
   "id": "a6ba092d-83f9-42d2-b3f6-dec45f926136",
   "metadata": {},
   "outputs": [],
   "source": [
    "def binary_converter(data):\n",
    "    data[data == 0] = -1\n",
    "    data[data == 1] = 0\n",
    "    data[data == 2] = 0\n",
    "    data[data >= 3] = 1\n",
    "    return data"
   ]
  },
  {
   "cell_type": "code",
   "execution_count": 13,
   "id": "86625d19-f19b-4691-9d0c-2cec69a44db1",
   "metadata": {},
   "outputs": [],
   "source": [
    "torch_train = binary_converter(torch_train)\n",
    "torch_test = binary_converter(torch_test)"
   ]
  },
  {
   "cell_type": "code",
   "execution_count": 14,
   "id": "a0baf3a5-21e0-4edf-8a56-b7e7e539d500",
   "metadata": {},
   "outputs": [
    {
     "data": {
      "text/plain": [
       "tensor([[-1.,  1.,  1.,  ..., -1., -1., -1.],\n",
       "        [ 1., -1., -1.,  ..., -1., -1., -1.],\n",
       "        [-1., -1., -1.,  ..., -1., -1., -1.],\n",
       "        ...,\n",
       "        [ 1., -1., -1.,  ..., -1., -1., -1.],\n",
       "        [-1., -1., -1.,  ..., -1., -1., -1.],\n",
       "        [-1.,  1., -1.,  ..., -1., -1., -1.]])"
      ]
     },
     "execution_count": 14,
     "metadata": {},
     "output_type": "execute_result"
    }
   ],
   "source": [
    "torch_train"
   ]
  },
  {
   "cell_type": "code",
   "execution_count": 16,
   "id": "e32395d7-5c3b-45d8-b251-363d86b679d9",
   "metadata": {},
   "outputs": [],
   "source": [
    "class RBM():\n",
    "  def __init__(self, nv, nh):\n",
    "    self.W = torch.randn(nh, nv)\n",
    "    self.a = torch.randn(1, nh)\n",
    "    self.b = torch.randn(1, nv)\n",
    "  def sample_h(self, x):\n",
    "    wx = torch.mm(x, self.W.t())\n",
    "    activation = wx + self.a.expand_as(wx)\n",
    "    p_h_given_v = torch.sigmoid(activation)\n",
    "    return p_h_given_v, torch.bernoulli(p_h_given_v)\n",
    "  def sample_v(self, y):\n",
    "    wy = torch.mm(y, self.W)\n",
    "    activation = wy + self.b.expand_as(wy)\n",
    "    p_v_given_h = torch.sigmoid(activation)\n",
    "    return p_v_given_h, torch.bernoulli(p_v_given_h)\n",
    "  def train(self, v0, vk, ph0, phk):\n",
    "    self.W += (torch.mm(v0.t(), ph0) - torch.mm(vk.t(), phk)).t()\n",
    "    self.b += torch.sum((v0 - vk), 0)\n",
    "    self.a += torch.sum((ph0 - phk), 0)\n",
    "nv = len(torch_train[0])\n",
    "nh = 100\n",
    "batch_size = 100\n",
    "rbm = RBM(nv, nh)"
   ]
  },
  {
   "cell_type": "code",
   "execution_count": 18,
   "id": "cdf245bf-5ff5-46a7-93f7-9fc7ee544988",
   "metadata": {},
   "outputs": [
    {
     "name": "stdout",
     "output_type": "stream",
     "text": [
      "epoch: 1 loss: tensor(0.3560)\n",
      "epoch: 2 loss: tensor(0.2440)\n",
      "epoch: 3 loss: tensor(0.2501)\n",
      "epoch: 4 loss: tensor(0.2465)\n",
      "epoch: 5 loss: tensor(0.2500)\n",
      "epoch: 6 loss: tensor(0.2523)\n",
      "epoch: 7 loss: tensor(0.2491)\n",
      "epoch: 8 loss: tensor(0.2496)\n",
      "epoch: 9 loss: tensor(0.2454)\n",
      "epoch: 10 loss: tensor(0.2490)\n"
     ]
    }
   ],
   "source": [
    "nb_epoch = 10\n",
    "for epoch in range(1, nb_epoch + 1):\n",
    "  train_loss = 0\n",
    "  s = 0.\n",
    "  for id_user in range(0, total_num_users - batch_size, batch_size):\n",
    "    vk = torch_train[id_user : id_user + batch_size]\n",
    "    v0 = torch_train[id_user : id_user + batch_size]\n",
    "    ph0,_ = rbm.sample_h(v0)\n",
    "    for k in range(10):\n",
    "      _,hk = rbm.sample_h(vk)\n",
    "      _,vk = rbm.sample_v(hk)\n",
    "      vk[v0<0] = v0[v0<0]\n",
    "    phk,_ = rbm.sample_h(vk)\n",
    "    rbm.train(v0, vk, ph0, phk)\n",
    "    train_loss += torch.mean(torch.abs(v0[v0 >= 0] - vk[v0 >= 0]))\n",
    "    s += 1.\n",
    "  print('epoch: '+str(epoch)+' loss: '+str(train_loss/s))"
   ]
  },
  {
   "cell_type": "code",
   "execution_count": 19,
   "id": "06c29122-0488-4d82-acf6-e359c2b2ccda",
   "metadata": {},
   "outputs": [
    {
     "name": "stdout",
     "output_type": "stream",
     "text": [
      "test loss: tensor(0.2474)\n"
     ]
    }
   ],
   "source": [
    "test_loss = 0\n",
    "s = 0.\n",
    "for id_user in range(total_num_users):\n",
    "    v = torch_train[id_user:id_user+1]\n",
    "    vt = torch_test[id_user:id_user+1]\n",
    "    if len(vt[vt>=0]) > 0:\n",
    "        _,h = rbm.sample_h(v)\n",
    "        _,v = rbm.sample_v(h)\n",
    "        test_loss += torch.mean(torch.abs(vt[vt>=0] - v[vt>=0]))\n",
    "        s += 1.\n",
    "print('test loss: '+str(test_loss/s))"
   ]
  },
  {
   "cell_type": "code",
   "execution_count": null,
   "id": "3edbb7dd-a649-407e-86ab-038c7fea4d5b",
   "metadata": {},
   "outputs": [],
   "source": []
  }
 ],
 "metadata": {
  "kernelspec": {
   "display_name": "Python 3 (ipykernel)",
   "language": "python",
   "name": "python3"
  },
  "language_info": {
   "codemirror_mode": {
    "name": "ipython",
    "version": 3
   },
   "file_extension": ".py",
   "mimetype": "text/x-python",
   "name": "python",
   "nbconvert_exporter": "python",
   "pygments_lexer": "ipython3",
   "version": "3.11.4"
  }
 },
 "nbformat": 4,
 "nbformat_minor": 5
}
