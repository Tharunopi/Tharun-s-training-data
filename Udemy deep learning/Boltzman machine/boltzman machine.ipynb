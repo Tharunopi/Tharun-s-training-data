{
 "cells": [
  {
   "cell_type": "code",
   "execution_count": 2,
   "id": "829785e5-3859-404f-92c5-acb185e224aa",
   "metadata": {},
   "outputs": [],
   "source": [
    "import pandas as pd\n",
    "import numpy as np\n",
    "import torch\n",
    "import torch.nn as nn\n",
    "import torch.nn.parallel\n",
    "import torch.utils.data\n",
    "from torch.autograd import Variable"
   ]
  },
  {
   "cell_type": "code",
   "execution_count": 5,
   "id": "133da27c-53f5-4c08-914b-a143eeae0121",
   "metadata": {},
   "outputs": [],
   "source": [
    "movies = pd.read_csv(r\"E:\\Deep learning UDEMY\\P16-Boltzmann-Machines\\Boltzmann_Machines\\ml-1m\\movies.dat\", sep= \"::\", header= None, engine= \"python\", encoding= \"latin-1\")\n",
    "users = pd.read_csv(r\"E:\\Deep learning UDEMY\\P16-Boltzmann-Machines\\Boltzmann_Machines\\ml-1m\\users.dat\", sep= \"::\", header= None, engine= \"python\", encoding= \"latin-1\")\n",
    "ratings = pd.read_csv(r\"E:\\Deep learning UDEMY\\P16-Boltzmann-Machines\\Boltzmann_Machines\\ml-1m\\ratings.dat\", sep= \"::\", header= None, engine= \"python\", encoding= \"latin-1\")"
   ]
  },
  {
   "cell_type": "code",
   "execution_count": 10,
   "id": "e53383f8-8ca4-4c08-9111-76f7df0d66f4",
   "metadata": {},
   "outputs": [],
   "source": [
    "trainig_set = pd.read_csv(r\"E:\\Deep learning UDEMY\\P16-Boltzmann-Machines\\Boltzmann_Machines\\ml-100k\\u1.base\", delimiter=\"\\t\", )\n",
    "trainig_set = np.array(trainig_set, dtype = \"int\")"
   ]
  },
  {
   "cell_type": "code",
   "execution_count": 13,
   "id": "78840355-0137-46ed-bef0-8655318acab4",
   "metadata": {},
   "outputs": [],
   "source": [
    "test_set = pd.read_csv(r\"E:\\Deep learning UDEMY\\P16-Boltzmann-Machines\\Boltzmann_Machines\\ml-100k\\u1.test\", delimiter=\"\\t\", )\n",
    "test_set = np.array(test_set, dtype = \"int\")"
   ]
  },
  {
   "cell_type": "code",
   "execution_count": 14,
   "id": "cf334f4e-0f2d-435f-b421-a8994cb445bd",
   "metadata": {},
   "outputs": [
    {
     "data": {
      "text/plain": [
       "array([[        1,        10,         3, 875693118],\n",
       "       [        1,        12,         5, 878542960],\n",
       "       [        1,        14,         5, 874965706],\n",
       "       ...,\n",
       "       [      459,       934,         3, 879563639],\n",
       "       [      460,        10,         3, 882912371],\n",
       "       [      462,       682,         5, 886365231]])"
      ]
     },
     "execution_count": 14,
     "metadata": {},
     "output_type": "execute_result"
    }
   ],
   "source": [
    "test_set"
   ]
  },
  {
   "cell_type": "code",
   "execution_count": 15,
   "id": "a7494b75-f973-4eb4-aafd-74784f301aa8",
   "metadata": {},
   "outputs": [
    {
     "data": {
      "text/plain": [
       "array([[        1,         2,         3, 876893171],\n",
       "       [        1,         3,         4, 878542960],\n",
       "       [        1,         4,         3, 876893119],\n",
       "       ...,\n",
       "       [      943,      1188,         3, 888640250],\n",
       "       [      943,      1228,         3, 888640275],\n",
       "       [      943,      1330,         3, 888692465]])"
      ]
     },
     "execution_count": 15,
     "metadata": {},
     "output_type": "execute_result"
    }
   ],
   "source": [
    "trainig_set"
   ]
  },
  {
   "cell_type": "code",
   "execution_count": null,
   "id": "154dc9b3-f764-4aee-8869-627f00e1259f",
   "metadata": {},
   "outputs": [],
   "source": []
  },
  {
   "cell_type": "code",
   "execution_count": 23,
   "id": "ee53ca09-edfb-4d02-be7e-6847c0781dfc",
   "metadata": {
    "scrolled": true
   },
   "outputs": [],
   "source": [
    "def movies(train_set, test_set):\n",
    "    total_movies = 0\n",
    "    for i in train_set[:, 1]:\n",
    "        if i > total_movies:\n",
    "            total_movies = i\n",
    "\n",
    "    for i in test_set[:, 1]:\n",
    "        if i > total_movies:\n",
    "            total_movies = i\n",
    "\n",
    "    return total_movies\n",
    "\n",
    "def users(train_set, test_set):\n",
    "    total_users = 0\n",
    "    for i in train_set[:, 0]:\n",
    "        if i > total_users:\n",
    "            total_users = i\n",
    "\n",
    "    for i in test_set[:, 0]:\n",
    "        if i > total_users:\n",
    "            total_users = i\n",
    "\n",
    "    return total_users"
   ]
  },
  {
   "cell_type": "code",
   "execution_count": 24,
   "id": "a93425a3-6a3c-4f2b-8d3e-2a3e0ff8d52d",
   "metadata": {},
   "outputs": [
    {
     "name": "stdout",
     "output_type": "stream",
     "text": [
      "1682\n",
      "943\n"
     ]
    }
   ],
   "source": [
    "total_num_movies = movies(trainig_set, test_set)\n",
    "total_num_users = users(trainig_set, test_set)\n",
    "print(total_num_movies)\n",
    "print(total_num_users)"
   ]
  },
  {
   "cell_type": "code",
   "execution_count": null,
   "id": "6b24e8e9-bca4-4128-b388-86fd48adaa8c",
   "metadata": {},
   "outputs": [],
   "source": []
  }
 ],
 "metadata": {
  "kernelspec": {
   "display_name": "Python 3 (ipykernel)",
   "language": "python",
   "name": "python3"
  },
  "language_info": {
   "codemirror_mode": {
    "name": "ipython",
    "version": 3
   },
   "file_extension": ".py",
   "mimetype": "text/x-python",
   "name": "python",
   "nbconvert_exporter": "python",
   "pygments_lexer": "ipython3",
   "version": "3.11.4"
  }
 },
 "nbformat": 4,
 "nbformat_minor": 5
}
