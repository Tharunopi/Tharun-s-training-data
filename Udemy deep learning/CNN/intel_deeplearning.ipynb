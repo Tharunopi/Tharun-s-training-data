{
 "cells": [
  {
   "cell_type": "code",
   "execution_count": 1,
   "id": "fcf666e1-1182-4821-9650-b81614303055",
   "metadata": {},
   "outputs": [
    {
     "name": "stdout",
     "output_type": "stream",
     "text": [
      "WARNING:tensorflow:From C:\\Users\\tharu\\Lib\\site-packages\\keras\\src\\losses.py:2976: The name tf.losses.sparse_softmax_cross_entropy is deprecated. Please use tf.compat.v1.losses.sparse_softmax_cross_entropy instead.\n",
      "\n"
     ]
    }
   ],
   "source": [
    "import numpy as np\n",
    "import tensorflow as tf\n",
    "from keras.preprocessing.image import ImageDataGenerator\n",
    "from keras.preprocessing import image"
   ]
  },
  {
   "cell_type": "code",
   "execution_count": 2,
   "id": "1272ccd0-5af2-4f1e-a83f-20ca29971613",
   "metadata": {},
   "outputs": [
    {
     "name": "stdout",
     "output_type": "stream",
     "text": [
      "Found 14034 images belonging to 6 classes.\n"
     ]
    }
   ],
   "source": [
    "train_datagen = ImageDataGenerator(\n",
    "        rescale=1./255,\n",
    "        shear_range=0.2,\n",
    "        zoom_range=0.2,\n",
    "        horizontal_flip=True)\n",
    "\n",
    "training_set = train_datagen.flow_from_directory(\n",
    "        r\"E:\\Zip files\\intel image classification\\seg_train\\seg_train\",\n",
    "        batch_size=32,\n",
    "        target_size=(64, 64),\n",
    "        class_mode = \"categorical\"\n",
    "    \n",
    ")"
   ]
  },
  {
   "cell_type": "code",
   "execution_count": 3,
   "id": "f29edcee-128d-4310-9cda-66815188a524",
   "metadata": {},
   "outputs": [
    {
     "name": "stdout",
     "output_type": "stream",
     "text": [
      "Found 3000 images belonging to 6 classes.\n"
     ]
    }
   ],
   "source": [
    "test_datagen = ImageDataGenerator(\n",
    "    rescale=1./255\n",
    ")\n",
    "\n",
    "test_set = test_datagen.flow_from_directory(\n",
    "    r\"E:\\Zip files\\intel image classification\\seg_test\\seg_test\",\n",
    "    batch_size=32,\n",
    "    target_size=(64, 64),\n",
    "    class_mode = \"categorical\"\n",
    ")"
   ]
  },
  {
   "cell_type": "code",
   "execution_count": 4,
   "id": "52a99e70-098c-41d4-b44e-f196e837fba8",
   "metadata": {},
   "outputs": [
    {
     "data": {
      "text/plain": [
       "{'buildings': 0,\n",
       " 'forest': 1,\n",
       " 'glacier': 2,\n",
       " 'mountain': 3,\n",
       " 'sea': 4,\n",
       " 'street': 5}"
      ]
     },
     "execution_count": 4,
     "metadata": {},
     "output_type": "execute_result"
    }
   ],
   "source": [
    "val = training_set.class_indices\n",
    "val"
   ]
  },
  {
   "cell_type": "code",
   "execution_count": 5,
   "id": "1e797629-e2c6-49b6-8924-77f0b8fd2330",
   "metadata": {},
   "outputs": [
    {
     "name": "stdout",
     "output_type": "stream",
     "text": [
      "WARNING:tensorflow:From C:\\Users\\tharu\\Lib\\site-packages\\keras\\src\\backend.py:873: The name tf.get_default_graph is deprecated. Please use tf.compat.v1.get_default_graph instead.\n",
      "\n"
     ]
    }
   ],
   "source": [
    "model = tf.keras.models.Sequential()"
   ]
  },
  {
   "cell_type": "code",
   "execution_count": 6,
   "id": "a3c2a4b4-348f-4f7b-b46d-fef5e65cf716",
   "metadata": {},
   "outputs": [],
   "source": [
    "model.add(tf.keras.layers.Conv2D(\n",
    "    filters = 32,\n",
    "    kernel_size = 3,\n",
    "    padding='valid',\n",
    "    activation=\"relu\",\n",
    "    input_shape = [64, 64, 3]\n",
    "))"
   ]
  },
  {
   "cell_type": "code",
   "execution_count": 7,
   "id": "3823677a-6e00-4d98-9f8b-12dff6532622",
   "metadata": {},
   "outputs": [
    {
     "name": "stdout",
     "output_type": "stream",
     "text": [
      "WARNING:tensorflow:From C:\\Users\\tharu\\Lib\\site-packages\\keras\\src\\layers\\pooling\\max_pooling2d.py:161: The name tf.nn.max_pool is deprecated. Please use tf.nn.max_pool2d instead.\n",
      "\n"
     ]
    }
   ],
   "source": [
    "model.add(tf.keras.layers.MaxPool2D(\n",
    "    pool_size=2,\n",
    "    strides=2\n",
    "))\n"
   ]
  },
  {
   "cell_type": "code",
   "execution_count": 8,
   "id": "e6cf2e96-0dea-42a4-9924-7414db9dd119",
   "metadata": {},
   "outputs": [],
   "source": [
    "model.add(tf.keras.layers.Dropout(\n",
    "    rate = 0.3\n",
    "))"
   ]
  },
  {
   "cell_type": "code",
   "execution_count": 9,
   "id": "d53091c4-c153-4210-bda4-391c3dce834f",
   "metadata": {},
   "outputs": [],
   "source": [
    "model.add(tf.keras.layers.Conv2D(\n",
    "    filters = 32,\n",
    "    kernel_size = 3,\n",
    "    activation=\"relu\"\n",
    "))"
   ]
  },
  {
   "cell_type": "code",
   "execution_count": 10,
   "id": "74a1c8e3-d899-4a55-afb9-87efd341a3f6",
   "metadata": {},
   "outputs": [],
   "source": [
    "model.add(tf.keras.layers.MaxPool2D(\n",
    "    pool_size=2,\n",
    "    strides=2\n",
    "))"
   ]
  },
  {
   "cell_type": "code",
   "execution_count": 11,
   "id": "aacf75ba-1a28-4d08-b105-20d29c231c8f",
   "metadata": {},
   "outputs": [],
   "source": [
    "model.add(tf.keras.layers.Dropout(\n",
    "    rate = 0.4\n",
    "))"
   ]
  },
  {
   "cell_type": "code",
   "execution_count": 12,
   "id": "0b94f9cf-bacd-44fd-9414-0a02a7729faf",
   "metadata": {},
   "outputs": [],
   "source": [
    "model.add(tf.keras.layers.Flatten())"
   ]
  },
  {
   "cell_type": "code",
   "execution_count": 13,
   "id": "dabcfc78-0fba-439b-9574-de9eacf6e8c1",
   "metadata": {},
   "outputs": [],
   "source": [
    "model.add(tf.keras.layers.Dense(\n",
    "    units = 128,\n",
    "    activation=\"relu\"\n",
    "))"
   ]
  },
  {
   "cell_type": "code",
   "execution_count": 14,
   "id": "994690e4-1691-483e-ba72-7fabc687421e",
   "metadata": {},
   "outputs": [],
   "source": [
    "model.add(tf.keras.layers.Dropout(\n",
    "    rate = 0.5\n",
    "))"
   ]
  },
  {
   "cell_type": "code",
   "execution_count": 15,
   "id": "a656d345-d7e4-45e7-b0ce-0b6f9760c5a2",
   "metadata": {},
   "outputs": [],
   "source": [
    "model.add(tf.keras.layers.Dense(\n",
    "    units = 6,\n",
    "    activation=\"sigmoid\"\n",
    "))"
   ]
  },
  {
   "cell_type": "code",
   "execution_count": 16,
   "id": "a4105d5f-889b-4c81-96cd-7797142b090a",
   "metadata": {},
   "outputs": [
    {
     "name": "stdout",
     "output_type": "stream",
     "text": [
      "WARNING:tensorflow:From C:\\Users\\tharu\\Lib\\site-packages\\keras\\src\\optimizers\\__init__.py:309: The name tf.train.Optimizer is deprecated. Please use tf.compat.v1.train.Optimizer instead.\n",
      "\n"
     ]
    }
   ],
   "source": [
    "model.compile(\n",
    "    optimizer='adam',\n",
    "    loss=\"binary_crossentropy\",\n",
    "    metrics=\"accuracy\"\n",
    ")"
   ]
  },
  {
   "cell_type": "code",
   "execution_count": 17,
   "id": "bf625130-6885-4198-b7ec-9934b3691d27",
   "metadata": {},
   "outputs": [
    {
     "name": "stdout",
     "output_type": "stream",
     "text": [
      "Epoch 1/50\n",
      "WARNING:tensorflow:From C:\\Users\\tharu\\Lib\\site-packages\\keras\\src\\utils\\tf_utils.py:492: The name tf.ragged.RaggedTensorValue is deprecated. Please use tf.compat.v1.ragged.RaggedTensorValue instead.\n",
      "\n",
      "WARNING:tensorflow:From C:\\Users\\tharu\\Lib\\site-packages\\keras\\src\\engine\\base_layer_utils.py:384: The name tf.executing_eagerly_outside_functions is deprecated. Please use tf.compat.v1.executing_eagerly_outside_functions instead.\n",
      "\n",
      "439/439 [==============================] - 158s 357ms/step - loss: 0.3366 - accuracy: 0.5166 - val_loss: 0.2683 - val_accuracy: 0.6400\n",
      "Epoch 2/50\n",
      "439/439 [==============================] - 63s 143ms/step - loss: 0.2707 - accuracy: 0.6449 - val_loss: 0.2260 - val_accuracy: 0.7233\n",
      "Epoch 3/50\n",
      "439/439 [==============================] - 67s 153ms/step - loss: 0.2462 - accuracy: 0.6880 - val_loss: 0.2077 - val_accuracy: 0.7523\n",
      "Epoch 4/50\n",
      "439/439 [==============================] - 61s 140ms/step - loss: 0.2288 - accuracy: 0.7122 - val_loss: 0.1906 - val_accuracy: 0.7700\n",
      "Epoch 5/50\n",
      "439/439 [==============================] - 64s 145ms/step - loss: 0.2193 - accuracy: 0.7278 - val_loss: 0.1855 - val_accuracy: 0.7733\n",
      "Epoch 6/50\n",
      "439/439 [==============================] - 71s 161ms/step - loss: 0.2099 - accuracy: 0.7466 - val_loss: 0.1944 - val_accuracy: 0.7547\n",
      "Epoch 7/50\n",
      "439/439 [==============================] - 76s 173ms/step - loss: 0.2030 - accuracy: 0.7569 - val_loss: 0.1798 - val_accuracy: 0.7853\n",
      "Epoch 8/50\n",
      "439/439 [==============================] - 70s 159ms/step - loss: 0.2012 - accuracy: 0.7576 - val_loss: 0.1765 - val_accuracy: 0.7913\n",
      "Epoch 9/50\n",
      "439/439 [==============================] - 61s 139ms/step - loss: 0.1986 - accuracy: 0.7633 - val_loss: 0.1696 - val_accuracy: 0.8057\n",
      "Epoch 10/50\n",
      "439/439 [==============================] - 69s 157ms/step - loss: 0.1940 - accuracy: 0.7694 - val_loss: 0.1645 - val_accuracy: 0.8123\n",
      "Epoch 11/50\n",
      "439/439 [==============================] - 54s 122ms/step - loss: 0.1908 - accuracy: 0.7755 - val_loss: 0.1641 - val_accuracy: 0.8120\n",
      "Epoch 12/50\n",
      "439/439 [==============================] - 56s 127ms/step - loss: 0.1837 - accuracy: 0.7848 - val_loss: 0.1637 - val_accuracy: 0.8060\n",
      "Epoch 13/50\n",
      "439/439 [==============================] - 60s 136ms/step - loss: 0.1813 - accuracy: 0.7818 - val_loss: 0.1712 - val_accuracy: 0.7997\n",
      "Epoch 14/50\n",
      "439/439 [==============================] - 68s 155ms/step - loss: 0.1804 - accuracy: 0.7869 - val_loss: 0.1718 - val_accuracy: 0.7960\n",
      "Epoch 15/50\n",
      "439/439 [==============================] - 89s 204ms/step - loss: 0.1800 - accuracy: 0.7897 - val_loss: 0.1584 - val_accuracy: 0.8223\n",
      "Epoch 16/50\n",
      "439/439 [==============================] - 99s 226ms/step - loss: 0.1740 - accuracy: 0.7958 - val_loss: 0.1667 - val_accuracy: 0.8053\n",
      "Epoch 17/50\n",
      "439/439 [==============================] - 54s 123ms/step - loss: 0.1739 - accuracy: 0.7938 - val_loss: 0.1570 - val_accuracy: 0.8177\n",
      "Epoch 18/50\n",
      "439/439 [==============================] - 61s 138ms/step - loss: 0.1722 - accuracy: 0.7988 - val_loss: 0.1676 - val_accuracy: 0.8087\n",
      "Epoch 19/50\n",
      "439/439 [==============================] - 56s 129ms/step - loss: 0.1702 - accuracy: 0.7997 - val_loss: 0.1544 - val_accuracy: 0.8270\n",
      "Epoch 20/50\n",
      "439/439 [==============================] - 57s 129ms/step - loss: 0.1701 - accuracy: 0.8002 - val_loss: 0.1632 - val_accuracy: 0.8130\n",
      "Epoch 21/50\n",
      "439/439 [==============================] - 57s 130ms/step - loss: 0.1677 - accuracy: 0.8030 - val_loss: 0.1553 - val_accuracy: 0.8240\n",
      "Epoch 22/50\n",
      "439/439 [==============================] - 58s 131ms/step - loss: 0.1684 - accuracy: 0.8005 - val_loss: 0.1622 - val_accuracy: 0.8223\n",
      "Epoch 23/50\n",
      "439/439 [==============================] - 61s 139ms/step - loss: 0.1640 - accuracy: 0.8110 - val_loss: 0.1572 - val_accuracy: 0.8263\n",
      "Epoch 24/50\n",
      "439/439 [==============================] - 59s 134ms/step - loss: 0.1640 - accuracy: 0.8080 - val_loss: 0.1532 - val_accuracy: 0.8280\n",
      "Epoch 25/50\n",
      "439/439 [==============================] - 53s 120ms/step - loss: 0.1636 - accuracy: 0.8078 - val_loss: 0.1528 - val_accuracy: 0.8217\n",
      "Epoch 26/50\n",
      "439/439 [==============================] - 59s 133ms/step - loss: 0.1627 - accuracy: 0.8130 - val_loss: 0.1477 - val_accuracy: 0.8310\n",
      "Epoch 27/50\n",
      "439/439 [==============================] - 56s 128ms/step - loss: 0.1620 - accuracy: 0.8117 - val_loss: 0.1500 - val_accuracy: 0.8330\n",
      "Epoch 28/50\n",
      "439/439 [==============================] - 52s 119ms/step - loss: 0.1601 - accuracy: 0.8172 - val_loss: 0.1502 - val_accuracy: 0.8290\n",
      "Epoch 29/50\n",
      "439/439 [==============================] - 65s 148ms/step - loss: 0.1568 - accuracy: 0.8199 - val_loss: 0.1613 - val_accuracy: 0.8137\n",
      "Epoch 30/50\n",
      "439/439 [==============================] - 68s 155ms/step - loss: 0.1589 - accuracy: 0.8154 - val_loss: 0.1581 - val_accuracy: 0.8250\n",
      "Epoch 31/50\n",
      "439/439 [==============================] - 90s 206ms/step - loss: 0.1578 - accuracy: 0.8172 - val_loss: 0.1754 - val_accuracy: 0.7947\n",
      "Epoch 32/50\n",
      "439/439 [==============================] - 76s 173ms/step - loss: 0.1563 - accuracy: 0.8145 - val_loss: 0.1459 - val_accuracy: 0.8380\n",
      "Epoch 33/50\n",
      "439/439 [==============================] - 85s 194ms/step - loss: 0.1543 - accuracy: 0.8176 - val_loss: 0.1529 - val_accuracy: 0.8227\n",
      "Epoch 34/50\n",
      "439/439 [==============================] - 73s 167ms/step - loss: 0.1560 - accuracy: 0.8192 - val_loss: 0.1641 - val_accuracy: 0.8137\n",
      "Epoch 35/50\n",
      "439/439 [==============================] - 80s 183ms/step - loss: 0.1563 - accuracy: 0.8174 - val_loss: 0.1555 - val_accuracy: 0.8250\n",
      "Epoch 36/50\n",
      "439/439 [==============================] - 67s 153ms/step - loss: 0.1507 - accuracy: 0.8266 - val_loss: 0.1485 - val_accuracy: 0.8300\n",
      "Epoch 37/50\n",
      "439/439 [==============================] - 59s 134ms/step - loss: 0.1523 - accuracy: 0.8224 - val_loss: 0.1636 - val_accuracy: 0.8133\n",
      "Epoch 38/50\n",
      "439/439 [==============================] - 62s 140ms/step - loss: 0.1523 - accuracy: 0.8242 - val_loss: 0.1588 - val_accuracy: 0.8107\n",
      "Epoch 39/50\n",
      "439/439 [==============================] - 51s 116ms/step - loss: 0.1526 - accuracy: 0.8212 - val_loss: 0.1504 - val_accuracy: 0.8353\n",
      "Epoch 40/50\n",
      "439/439 [==============================] - 49s 112ms/step - loss: 0.1492 - accuracy: 0.8281 - val_loss: 0.1394 - val_accuracy: 0.8480\n",
      "Epoch 41/50\n",
      "439/439 [==============================] - 57s 131ms/step - loss: 0.1478 - accuracy: 0.8294 - val_loss: 0.1529 - val_accuracy: 0.8287\n",
      "Epoch 42/50\n",
      "439/439 [==============================] - 75s 171ms/step - loss: 0.1494 - accuracy: 0.8283 - val_loss: 0.1688 - val_accuracy: 0.8017\n",
      "Epoch 43/50\n",
      "439/439 [==============================] - 94s 213ms/step - loss: 0.1494 - accuracy: 0.8310 - val_loss: 0.1754 - val_accuracy: 0.7970\n",
      "Epoch 44/50\n",
      "439/439 [==============================] - 68s 154ms/step - loss: 0.1470 - accuracy: 0.8291 - val_loss: 0.1571 - val_accuracy: 0.8170\n",
      "Epoch 45/50\n",
      "439/439 [==============================] - 57s 129ms/step - loss: 0.1462 - accuracy: 0.8322 - val_loss: 0.1558 - val_accuracy: 0.8257\n",
      "Epoch 46/50\n",
      "439/439 [==============================] - 58s 133ms/step - loss: 0.1491 - accuracy: 0.8268 - val_loss: 0.1588 - val_accuracy: 0.8190\n",
      "Epoch 47/50\n",
      "439/439 [==============================] - 68s 154ms/step - loss: 0.1462 - accuracy: 0.8318 - val_loss: 0.1424 - val_accuracy: 0.8360\n",
      "Epoch 48/50\n",
      "439/439 [==============================] - 62s 142ms/step - loss: 0.1447 - accuracy: 0.8293 - val_loss: 0.1469 - val_accuracy: 0.8297\n",
      "Epoch 49/50\n",
      "439/439 [==============================] - 60s 137ms/step - loss: 0.1427 - accuracy: 0.8362 - val_loss: 0.1486 - val_accuracy: 0.8297\n",
      "Epoch 50/50\n",
      "439/439 [==============================] - 75s 170ms/step - loss: 0.1433 - accuracy: 0.8363 - val_loss: 0.1542 - val_accuracy: 0.8250\n"
     ]
    },
    {
     "data": {
      "text/plain": [
       "<keras.src.callbacks.History at 0x1f85b2f2f10>"
      ]
     },
     "execution_count": 17,
     "metadata": {},
     "output_type": "execute_result"
    }
   ],
   "source": [
    "model.fit(\n",
    "    x=training_set,\n",
    "    epochs=50,\n",
    "    validation_data=test_set\n",
    ")"
   ]
  },
  {
   "cell_type": "code",
   "execution_count": 18,
   "id": "94a0b222-add1-442e-8311-fdc7b1f4a975",
   "metadata": {},
   "outputs": [
    {
     "name": "stdout",
     "output_type": "stream",
     "text": [
      "(1, 64, 64, 3)\n",
      "1/1 [==============================] - 1s 996ms/step\n",
      "[[1. 0. 0. 0. 0. 0.]]\n"
     ]
    }
   ],
   "source": [
    "test_image =image.load_img(r\"E:\\Zip files\\intel image classification\\seg_pred\\seg_pred\\761.jpg\", target_size = (64, 64))\n",
    "test_image = image.img_to_array(test_image)\n",
    "test_image = np.expand_dims(test_image, axis = 0)\n",
    "print(test_image.shape)\n",
    "result = model.predict(test_image)\n",
    "print(result)"
   ]
  },
  {
   "cell_type": "code",
   "execution_count": 19,
   "id": "a2fbe16f-8e08-427c-879a-44a2683c6b53",
   "metadata": {},
   "outputs": [
    {
     "name": "stdout",
     "output_type": "stream",
     "text": [
      "buildings\n"
     ]
    }
   ],
   "source": [
    "count = 0\n",
    "for i in (result):\n",
    "    for j in enumerate(i):\n",
    "        if j[1] == 1.0:\n",
    "            count = j[0]\n",
    "for i, j in val.items():\n",
    "    if j == count:\n",
    "        print(i)"
   ]
  },
  {
   "cell_type": "code",
   "execution_count": 20,
   "id": "bf920992-73de-43f3-9b81-e02dccea62c8",
   "metadata": {},
   "outputs": [
    {
     "name": "stdout",
     "output_type": "stream",
     "text": [
      "0\n"
     ]
    }
   ],
   "source": [
    "print(count)"
   ]
  },
  {
   "cell_type": "code",
   "execution_count": 21,
   "id": "a468299d-a298-4c1f-b2a5-5a0aeac7ac42",
   "metadata": {},
   "outputs": [
    {
     "name": "stderr",
     "output_type": "stream",
     "text": [
      "C:\\Users\\tharu\\Lib\\site-packages\\keras\\src\\engine\\training.py:3103: UserWarning: You are saving your model as an HDF5 file via `model.save()`. This file format is considered legacy. We recommend using instead the native Keras format, e.g. `model.save('my_model.keras')`.\n",
      "  saving_api.save_model(\n"
     ]
    }
   ],
   "source": [
    "model.save(r\"Tharun-s-training-data/Udemy deep learning/intel_imageclassification.h5\")"
   ]
  },
  {
   "cell_type": "code",
   "execution_count": null,
   "id": "e6a5ef21-e504-410b-8efa-a1c931be891b",
   "metadata": {},
   "outputs": [],
   "source": []
  }
 ],
 "metadata": {
  "kernelspec": {
   "display_name": "Python 3 (ipykernel)",
   "language": "python",
   "name": "python3"
  },
  "language_info": {
   "codemirror_mode": {
    "name": "ipython",
    "version": 3
   },
   "file_extension": ".py",
   "mimetype": "text/x-python",
   "name": "python",
   "nbconvert_exporter": "python",
   "pygments_lexer": "ipython3",
   "version": "3.11.4"
  }
 },
 "nbformat": 4,
 "nbformat_minor": 5
}
