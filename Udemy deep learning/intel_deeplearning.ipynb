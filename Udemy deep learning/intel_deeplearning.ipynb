{
 "cells": [
  {
   "cell_type": "code",
   "execution_count": 24,
   "id": "fcf666e1-1182-4821-9650-b81614303055",
   "metadata": {},
   "outputs": [],
   "source": [
    "import numpy as np\n",
    "import tensorflow as tf\n",
    "from keras.preprocessing.image import ImageDataGenerator\n",
    "from keras.preprocessing import image"
   ]
  },
  {
   "cell_type": "code",
   "execution_count": 4,
   "id": "1272ccd0-5af2-4f1e-a83f-20ca29971613",
   "metadata": {},
   "outputs": [
    {
     "name": "stdout",
     "output_type": "stream",
     "text": [
      "Found 14034 images belonging to 6 classes.\n"
     ]
    }
   ],
   "source": [
    "train_datagen = ImageDataGenerator(\n",
    "        rescale=1./255,\n",
    "        shear_range=0.2,\n",
    "        zoom_range=0.2,\n",
    "        horizontal_flip=True)\n",
    "\n",
    "training_set = train_datagen.flow_from_directory(\n",
    "        r\"E:\\Zip files\\intel image classification\\seg_train\\seg_train\",\n",
    "        batch_size=32,\n",
    "        target_size=(64, 64),\n",
    "        class_mode = \"categorical\"\n",
    "    \n",
    ")"
   ]
  },
  {
   "cell_type": "code",
   "execution_count": 7,
   "id": "f29edcee-128d-4310-9cda-66815188a524",
   "metadata": {},
   "outputs": [
    {
     "name": "stdout",
     "output_type": "stream",
     "text": [
      "Found 3000 images belonging to 6 classes.\n"
     ]
    }
   ],
   "source": [
    "test_datagen = ImageDataGenerator(\n",
    "    rescale=1./255\n",
    ")\n",
    "\n",
    "test_set = test_datagen.flow_from_directory(\n",
    "    r\"E:\\Zip files\\intel image classification\\seg_test\\seg_test\",\n",
    "    batch_size=32,\n",
    "    target_size=(64, 64),\n",
    "    class_mode = \"categorical\"\n",
    ")"
   ]
  },
  {
   "cell_type": "code",
   "execution_count": 8,
   "id": "52a99e70-098c-41d4-b44e-f196e837fba8",
   "metadata": {},
   "outputs": [
    {
     "data": {
      "text/plain": [
       "{'buildings': 0,\n",
       " 'forest': 1,\n",
       " 'glacier': 2,\n",
       " 'mountain': 3,\n",
       " 'sea': 4,\n",
       " 'street': 5}"
      ]
     },
     "execution_count": 8,
     "metadata": {},
     "output_type": "execute_result"
    }
   ],
   "source": [
    "training_set.class_indices"
   ]
  },
  {
   "cell_type": "code",
   "execution_count": 32,
   "id": "1e797629-e2c6-49b6-8924-77f0b8fd2330",
   "metadata": {},
   "outputs": [],
   "source": [
    "model = tf.keras.models.Sequential()"
   ]
  },
  {
   "cell_type": "code",
   "execution_count": 33,
   "id": "a3c2a4b4-348f-4f7b-b46d-fef5e65cf716",
   "metadata": {},
   "outputs": [],
   "source": [
    "model.add(tf.keras.layers.Conv2D(\n",
    "    filters = 32,\n",
    "    kernel_size = 3,\n",
    "    padding='valid',\n",
    "    activation=\"relu\",\n",
    "    input_shape = [64, 64, 3]\n",
    "))"
   ]
  },
  {
   "cell_type": "code",
   "execution_count": 34,
   "id": "3823677a-6e00-4d98-9f8b-12dff6532622",
   "metadata": {},
   "outputs": [],
   "source": [
    "model.add(tf.keras.layers.MaxPool2D(\n",
    "    pool_size=(2, 2),\n",
    "    strides=(2, 2)\n",
    "))"
   ]
  },
  {
   "cell_type": "code",
   "execution_count": 35,
   "id": "d53091c4-c153-4210-bda4-391c3dce834f",
   "metadata": {},
   "outputs": [],
   "source": [
    "model.add(tf.keras.layers.Conv2D(\n",
    "    filters = 32,\n",
    "    kernel_size = 3,\n",
    "    padding='valid',\n",
    "    activation=\"relu\"\n",
    "))"
   ]
  },
  {
   "cell_type": "code",
   "execution_count": 36,
   "id": "74a1c8e3-d899-4a55-afb9-87efd341a3f6",
   "metadata": {},
   "outputs": [],
   "source": [
    "model.add(tf.keras.layers.MaxPool2D(\n",
    "    pool_size=(2, 2),\n",
    "    strides=(2, 2)\n",
    "))"
   ]
  },
  {
   "cell_type": "code",
   "execution_count": 37,
   "id": "9e890cdc-b3b8-4b86-9048-841cf734aaa2",
   "metadata": {},
   "outputs": [],
   "source": [
    "model.add(tf.keras.layers.Flatten())"
   ]
  },
  {
   "cell_type": "code",
   "execution_count": 38,
   "id": "dabcfc78-0fba-439b-9574-de9eacf6e8c1",
   "metadata": {},
   "outputs": [],
   "source": [
    "model.add(tf.keras.layers.Dense(\n",
    "    units = 128,\n",
    "    activation=\"relu\"\n",
    "))"
   ]
  },
  {
   "cell_type": "code",
   "execution_count": 39,
   "id": "a656d345-d7e4-45e7-b0ce-0b6f9760c5a2",
   "metadata": {},
   "outputs": [],
   "source": [
    "model.add(tf.keras.layers.Dense(\n",
    "    units = 1,\n",
    "    activation=\"sigmoid\"\n",
    "))"
   ]
  },
  {
   "cell_type": "code",
   "execution_count": 40,
   "id": "a4105d5f-889b-4c81-96cd-7797142b090a",
   "metadata": {},
   "outputs": [],
   "source": [
    "model.compile(\n",
    "    optimizer='adam',\n",
    "    loss=\"binary_crossentropy\",\n",
    "    metrics=\"accuracy\"\n",
    ")"
   ]
  },
  {
   "cell_type": "code",
   "execution_count": 41,
   "id": "bf625130-6885-4198-b7ec-9934b3691d27",
   "metadata": {},
   "outputs": [
    {
     "name": "stdout",
     "output_type": "stream",
     "text": [
      "Epoch 1/10\n",
      "439/439 [==============================] - 49s 109ms/step - loss: 0.4539 - accuracy: 0.8318 - val_loss: 0.4507 - val_accuracy: 0.8333\n",
      "Epoch 2/10\n",
      "439/439 [==============================] - 31s 71ms/step - loss: 0.4507 - accuracy: 0.8333 - val_loss: 0.4506 - val_accuracy: 0.8333\n",
      "Epoch 3/10\n",
      "439/439 [==============================] - 33s 75ms/step - loss: 0.4506 - accuracy: 0.8333 - val_loss: 0.4506 - val_accuracy: 0.8333\n",
      "Epoch 4/10\n",
      "439/439 [==============================] - 33s 75ms/step - loss: 0.4506 - accuracy: 0.8333 - val_loss: 0.4506 - val_accuracy: 0.8333\n",
      "Epoch 5/10\n",
      "439/439 [==============================] - 33s 75ms/step - loss: 0.4506 - accuracy: 0.8333 - val_loss: 0.4506 - val_accuracy: 0.8333\n",
      "Epoch 6/10\n",
      "439/439 [==============================] - 33s 74ms/step - loss: 0.4506 - accuracy: 0.8333 - val_loss: 0.4506 - val_accuracy: 0.8333\n",
      "Epoch 7/10\n",
      "439/439 [==============================] - 32s 74ms/step - loss: 0.4506 - accuracy: 0.8333 - val_loss: 0.4506 - val_accuracy: 0.8333\n",
      "Epoch 8/10\n",
      "439/439 [==============================] - 35s 79ms/step - loss: 0.4506 - accuracy: 0.8333 - val_loss: 0.4506 - val_accuracy: 0.8333\n",
      "Epoch 9/10\n",
      "439/439 [==============================] - 44s 99ms/step - loss: 0.4506 - accuracy: 0.8333 - val_loss: 0.4506 - val_accuracy: 0.8333\n",
      "Epoch 10/10\n",
      "439/439 [==============================] - 49s 111ms/step - loss: 0.4506 - accuracy: 0.8333 - val_loss: 0.4506 - val_accuracy: 0.8333\n"
     ]
    },
    {
     "data": {
      "text/plain": [
       "<keras.src.callbacks.History at 0x18819b27250>"
      ]
     },
     "execution_count": 41,
     "metadata": {},
     "output_type": "execute_result"
    }
   ],
   "source": [
    "model.fit(\n",
    "    x=training_set,\n",
    "    batch_size=32,\n",
    "    epochs=10,\n",
    "    validation_data=test_set\n",
    ")"
   ]
  },
  {
   "cell_type": "code",
   "execution_count": 42,
   "id": "94a0b222-add1-442e-8311-fdc7b1f4a975",
   "metadata": {},
   "outputs": [
    {
     "name": "stdout",
     "output_type": "stream",
     "text": [
      "1/1 [==============================] - 0s 108ms/step\n"
     ]
    },
    {
     "data": {
      "text/plain": [
       "array([[0.]], dtype=float32)"
      ]
     },
     "execution_count": 42,
     "metadata": {},
     "output_type": "execute_result"
    }
   ],
   "source": [
    "test_image =image.load_img(r\"E:\\Zip files\\intel image classification\\seg_test\\seg_test\\forest\\20151.jpg\", target_size = (64, 64))\n",
    "test_image = image.img_to_array(test_image)\n",
    "test_image = np.expand_dims(test_image, axis = 0)\n",
    "result = model.predict(test_image)\n",
    "result"
   ]
  },
  {
   "cell_type": "code",
   "execution_count": null,
   "id": "a2fbe16f-8e08-427c-879a-44a2683c6b53",
   "metadata": {},
   "outputs": [],
   "source": []
  }
 ],
 "metadata": {
  "kernelspec": {
   "display_name": "Python 3 (ipykernel)",
   "language": "python",
   "name": "python3"
  },
  "language_info": {
   "codemirror_mode": {
    "name": "ipython",
    "version": 3
   },
   "file_extension": ".py",
   "mimetype": "text/x-python",
   "name": "python",
   "nbconvert_exporter": "python",
   "pygments_lexer": "ipython3",
   "version": "3.11.4"
  }
 },
 "nbformat": 4,
 "nbformat_minor": 5
}
