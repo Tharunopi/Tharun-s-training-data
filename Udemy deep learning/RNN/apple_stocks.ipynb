{
 "cells": [
  {
   "cell_type": "code",
   "execution_count": 1,
   "id": "bf93f2b5-181e-4c7e-9040-ac90af7a20c8",
   "metadata": {},
   "outputs": [
    {
     "name": "stdout",
     "output_type": "stream",
     "text": [
      "WARNING:tensorflow:From C:\\Users\\tharu\\Lib\\site-packages\\keras\\src\\losses.py:2976: The name tf.losses.sparse_softmax_cross_entropy is deprecated. Please use tf.compat.v1.losses.sparse_softmax_cross_entropy instead.\n",
      "\n"
     ]
    }
   ],
   "source": [
    "import tensorflow as tf\n",
    "import numpy as np\n",
    "import pandas as pd"
   ]
  },
  {
   "cell_type": "code",
   "execution_count": 2,
   "id": "4db5e338-3b30-43f3-8249-ad25577fb1bd",
   "metadata": {},
   "outputs": [],
   "source": [
    "df = pd.read_csv(r\"E:\\apple\\apple-stockprice-2014-2024.csv\")\n",
    "df = df.dropna()"
   ]
  },
  {
   "cell_type": "code",
   "execution_count": 3,
   "id": "4711e059-992d-4a7b-a6d8-d48c4b6e0eef",
   "metadata": {},
   "outputs": [
    {
     "data": {
      "text/plain": [
       "array([[ 27.7823658 ],\n",
       "       [ 27.77090836],\n",
       "       [ 27.72134399],\n",
       "       ...,\n",
       "       [142.1300049 ],\n",
       "       [142.9799957 ],\n",
       "       [142.8300018 ]])"
      ]
     },
     "execution_count": 3,
     "metadata": {},
     "output_type": "execute_result"
    }
   ],
   "source": [
    "training_set = np.array(df.iloc[:, 1 : 2].values)\n",
    "# training_set[\"volume\"] = df.iloc[:, -1]\n",
    "training_set"
   ]
  },
  {
   "cell_type": "code",
   "execution_count": 4,
   "id": "4500c8ff-9b30-42c8-8ed3-2c3cf760163a",
   "metadata": {},
   "outputs": [
    {
     "data": {
      "text/plain": [
       "(2514, 1)"
      ]
     },
     "execution_count": 4,
     "metadata": {},
     "output_type": "execute_result"
    }
   ],
   "source": [
    "training_set.shape"
   ]
  },
  {
   "cell_type": "code",
   "execution_count": 5,
   "id": "85fd3e6e-387b-46e8-b178-d5317ce3032d",
   "metadata": {},
   "outputs": [
    {
     "data": {
      "text/plain": [
       "2514"
      ]
     },
     "execution_count": 5,
     "metadata": {},
     "output_type": "execute_result"
    }
   ],
   "source": [
    "from sklearn.preprocessing import MinMaxScaler\n",
    "sc = MinMaxScaler()\n",
    "# training_set.reshape(-1, 1)\n",
    "scaled_train = sc.fit_transform(training_set)\n",
    "len(scaled_train)"
   ]
  },
  {
   "cell_type": "code",
   "execution_count": 6,
   "id": "7826a9ff-d513-4e91-9136-90d00ff84755",
   "metadata": {
    "scrolled": true
   },
   "outputs": [
    {
     "data": {
      "text/plain": [
       "2494"
      ]
     },
     "execution_count": 6,
     "metadata": {},
     "output_type": "execute_result"
    }
   ],
   "source": [
    "train = []\n",
    "test = []\n",
    "\n",
    "for i in range(20, len(scaled_train)):\n",
    "    train.append(scaled_train[i-20 : i, 0])\n",
    "    test.append(scaled_train[i, 0])\n",
    "\n",
    "len(train)"
   ]
  },
  {
   "cell_type": "code",
   "execution_count": 7,
   "id": "f2e0ff7d-0a93-41a3-bcf0-846df437aaec",
   "metadata": {
    "scrolled": true
   },
   "outputs": [
    {
     "data": {
      "text/plain": [
       "(2494, 20, 1)"
      ]
     },
     "execution_count": 7,
     "metadata": {},
     "output_type": "execute_result"
    }
   ],
   "source": [
    "train, test = np.array(train), np.array(test)\n",
    "train = np.reshape(train, (train.shape[0], train.shape[1], 1))\n",
    "train.shape"
   ]
  },
  {
   "cell_type": "code",
   "execution_count": 8,
   "id": "8162c064-7edc-4d48-a10e-b43d548e6e56",
   "metadata": {},
   "outputs": [
    {
     "data": {
      "text/plain": [
       "(2494, 20, 1)"
      ]
     },
     "execution_count": 8,
     "metadata": {},
     "output_type": "execute_result"
    }
   ],
   "source": [
    "train.shape"
   ]
  },
  {
   "cell_type": "code",
   "execution_count": 9,
   "id": "0889a6c6-fc5f-4bd8-ac4c-31fbab351230",
   "metadata": {},
   "outputs": [
    {
     "name": "stdout",
     "output_type": "stream",
     "text": [
      "WARNING:tensorflow:From C:\\Users\\tharu\\Lib\\site-packages\\keras\\src\\backend.py:873: The name tf.get_default_graph is deprecated. Please use tf.compat.v1.get_default_graph instead.\n",
      "\n"
     ]
    }
   ],
   "source": [
    "model = tf.keras.models.Sequential()"
   ]
  },
  {
   "cell_type": "code",
   "execution_count": 10,
   "id": "659e8825-71ab-4b27-ae4e-4eafef5a6475",
   "metadata": {},
   "outputs": [],
   "source": [
    "model.add(tf.keras.layers.LSTM(\n",
    "    units = 50,\n",
    "    return_sequences=True,\n",
    "    input_shape = (train.shape[1], train.shape[2])\n",
    "))\n",
    "\n",
    "model.add(tf.keras.layers.Dropout(\n",
    "    rate = 0.2\n",
    "))"
   ]
  },
  {
   "cell_type": "code",
   "execution_count": 11,
   "id": "940b7f60-f203-4d67-8051-b33be24c93ae",
   "metadata": {},
   "outputs": [],
   "source": [
    "model.add(tf.keras.layers.LSTM(\n",
    "    units = 50,\n",
    "    return_sequences=True\n",
    "))\n",
    "\n",
    "model.add(tf.keras.layers.Dropout(\n",
    "    rate = 0.2\n",
    "))"
   ]
  },
  {
   "cell_type": "code",
   "execution_count": 12,
   "id": "664afa04-b647-4453-ab71-ae078a833208",
   "metadata": {},
   "outputs": [],
   "source": [
    "model.add(tf.keras.layers.LSTM(\n",
    "    units = 50,\n",
    "    return_sequences=True\n",
    "))\n",
    "\n",
    "model.add(tf.keras.layers.Dropout(\n",
    "    rate = 0.2\n",
    "))"
   ]
  },
  {
   "cell_type": "code",
   "execution_count": 13,
   "id": "24ecdb26-b377-42a3-9d47-3fee440c000d",
   "metadata": {},
   "outputs": [],
   "source": [
    "model.add(tf.keras.layers.LSTM(\n",
    "    units = 50,\n",
    "    return_sequences=False\n",
    "))\n",
    "\n",
    "model.add(tf.keras.layers.Dropout(\n",
    "    rate = 0.2\n",
    "))"
   ]
  },
  {
   "cell_type": "code",
   "execution_count": 14,
   "id": "fcf10a72-f11c-4d8b-beaa-421f1f7da1f8",
   "metadata": {},
   "outputs": [],
   "source": [
    "model.add(tf.keras.layers.Dense(\n",
    "    units = 1\n",
    "))"
   ]
  },
  {
   "cell_type": "code",
   "execution_count": 15,
   "id": "24e4c4b8-53d7-4f33-8a87-40d1c297bdb5",
   "metadata": {},
   "outputs": [
    {
     "name": "stdout",
     "output_type": "stream",
     "text": [
      "WARNING:tensorflow:From C:\\Users\\tharu\\Lib\\site-packages\\keras\\src\\optimizers\\__init__.py:309: The name tf.train.Optimizer is deprecated. Please use tf.compat.v1.train.Optimizer instead.\n",
      "\n"
     ]
    }
   ],
   "source": [
    "model.compile(\n",
    "    optimizer ='adam',\n",
    "    loss =\"mean_squared_error\"\n",
    ")"
   ]
  },
  {
   "cell_type": "code",
   "execution_count": 16,
   "id": "074b5214-b81d-46e2-b397-49861bbdbb8e",
   "metadata": {},
   "outputs": [
    {
     "name": "stdout",
     "output_type": "stream",
     "text": [
      "Epoch 1/20\n",
      "WARNING:tensorflow:From C:\\Users\\tharu\\Lib\\site-packages\\keras\\src\\utils\\tf_utils.py:492: The name tf.ragged.RaggedTensorValue is deprecated. Please use tf.compat.v1.ragged.RaggedTensorValue instead.\n",
      "\n",
      "78/78 [==============================] - 6s 21ms/step - loss: 0.0156\n",
      "Epoch 2/20\n",
      "78/78 [==============================] - 1s 18ms/step - loss: 0.0034\n",
      "Epoch 3/20\n",
      "78/78 [==============================] - 2s 21ms/step - loss: 0.0030\n",
      "Epoch 4/20\n",
      "78/78 [==============================] - 1s 19ms/step - loss: 0.0028\n",
      "Epoch 5/20\n",
      "78/78 [==============================] - 1s 18ms/step - loss: 0.0030\n",
      "Epoch 6/20\n",
      "78/78 [==============================] - 2s 19ms/step - loss: 0.0025\n",
      "Epoch 7/20\n",
      "78/78 [==============================] - 1s 18ms/step - loss: 0.0026\n",
      "Epoch 8/20\n",
      "78/78 [==============================] - 2s 22ms/step - loss: 0.0028\n",
      "Epoch 9/20\n",
      "78/78 [==============================] - 1s 18ms/step - loss: 0.0023\n",
      "Epoch 10/20\n",
      "78/78 [==============================] - 1s 19ms/step - loss: 0.0023\n",
      "Epoch 11/20\n",
      "78/78 [==============================] - 2s 20ms/step - loss: 0.0022\n",
      "Epoch 12/20\n",
      "78/78 [==============================] - 1s 18ms/step - loss: 0.0022\n",
      "Epoch 13/20\n",
      "78/78 [==============================] - 2s 19ms/step - loss: 0.0022\n",
      "Epoch 14/20\n",
      "78/78 [==============================] - 1s 18ms/step - loss: 0.0019\n",
      "Epoch 15/20\n",
      "78/78 [==============================] - 2s 27ms/step - loss: 0.0021\n",
      "Epoch 16/20\n",
      "78/78 [==============================] - 2s 23ms/step - loss: 0.0020\n",
      "Epoch 17/20\n",
      "78/78 [==============================] - 2s 25ms/step - loss: 0.0027\n",
      "Epoch 18/20\n",
      "78/78 [==============================] - 2s 24ms/step - loss: 0.0020\n",
      "Epoch 19/20\n",
      "78/78 [==============================] - 2s 24ms/step - loss: 0.0020\n",
      "Epoch 20/20\n",
      "78/78 [==============================] - 2s 24ms/step - loss: 0.0018\n"
     ]
    },
    {
     "data": {
      "text/plain": [
       "<keras.src.callbacks.History at 0x2366552ea10>"
      ]
     },
     "execution_count": 16,
     "metadata": {},
     "output_type": "execute_result"
    }
   ],
   "source": [
    "model.fit(\n",
    "    x = train,\n",
    "    y = test,\n",
    "    batch_size = 32,\n",
    "    epochs = 20\n",
    ")"
   ]
  },
  {
   "cell_type": "code",
   "execution_count": 17,
   "id": "015ac9bf-fe5f-4165-8962-543587b58c3a",
   "metadata": {},
   "outputs": [
    {
     "data": {
      "text/html": [
       "<div>\n",
       "<style scoped>\n",
       "    .dataframe tbody tr th:only-of-type {\n",
       "        vertical-align: middle;\n",
       "    }\n",
       "\n",
       "    .dataframe tbody tr th {\n",
       "        vertical-align: top;\n",
       "    }\n",
       "\n",
       "    .dataframe thead th {\n",
       "        text-align: right;\n",
       "    }\n",
       "</style>\n",
       "<table border=\"1\" class=\"dataframe\">\n",
       "  <thead>\n",
       "    <tr style=\"text-align: right;\">\n",
       "      <th></th>\n",
       "      <th>12/28/2023</th>\n",
       "      <th>141.850006103515</th>\n",
       "      <th>142.27000427246</th>\n",
       "      <th>140.828002929687</th>\n",
       "      <th>141.279998779296</th>\n",
       "      <th>141.279998779296.1</th>\n",
       "      <th>12192500</th>\n",
       "    </tr>\n",
       "  </thead>\n",
       "  <tbody>\n",
       "    <tr>\n",
       "      <th>0</th>\n",
       "      <td>12/29/2023</td>\n",
       "      <td>140.679993</td>\n",
       "      <td>141.434998</td>\n",
       "      <td>139.899994</td>\n",
       "      <td>140.929993</td>\n",
       "      <td>140.929993</td>\n",
       "      <td>14872700</td>\n",
       "    </tr>\n",
       "    <tr>\n",
       "      <th>1</th>\n",
       "      <td>1/2/2024</td>\n",
       "      <td>139.600006</td>\n",
       "      <td>140.615005</td>\n",
       "      <td>137.740005</td>\n",
       "      <td>139.559998</td>\n",
       "      <td>139.559998</td>\n",
       "      <td>20071900</td>\n",
       "    </tr>\n",
       "    <tr>\n",
       "      <th>2</th>\n",
       "      <td>1/3/2024</td>\n",
       "      <td>138.600006</td>\n",
       "      <td>141.089996</td>\n",
       "      <td>138.429993</td>\n",
       "      <td>140.360001</td>\n",
       "      <td>140.360001</td>\n",
       "      <td>18974300</td>\n",
       "    </tr>\n",
       "    <tr>\n",
       "      <th>3</th>\n",
       "      <td>1/4/2024</td>\n",
       "      <td>139.850006</td>\n",
       "      <td>140.634995</td>\n",
       "      <td>138.009995</td>\n",
       "      <td>138.039993</td>\n",
       "      <td>138.039993</td>\n",
       "      <td>18253300</td>\n",
       "    </tr>\n",
       "    <tr>\n",
       "      <th>4</th>\n",
       "      <td>1/5/2024</td>\n",
       "      <td>138.352005</td>\n",
       "      <td>138.809998</td>\n",
       "      <td>136.850006</td>\n",
       "      <td>137.389999</td>\n",
       "      <td>137.389999</td>\n",
       "      <td>15433200</td>\n",
       "    </tr>\n",
       "  </tbody>\n",
       "</table>\n",
       "</div>"
      ],
      "text/plain": [
       "   12/28/2023  141.850006103515  142.27000427246  140.828002929687  \\\n",
       "0  12/29/2023        140.679993       141.434998        139.899994   \n",
       "1    1/2/2024        139.600006       140.615005        137.740005   \n",
       "2    1/3/2024        138.600006       141.089996        138.429993   \n",
       "3    1/4/2024        139.850006       140.634995        138.009995   \n",
       "4    1/5/2024        138.352005       138.809998        136.850006   \n",
       "\n",
       "   141.279998779296  141.279998779296.1  12192500  \n",
       "0        140.929993          140.929993  14872700  \n",
       "1        139.559998          139.559998  20071900  \n",
       "2        140.360001          140.360001  18974300  \n",
       "3        138.039993          138.039993  18253300  \n",
       "4        137.389999          137.389999  15433200  "
      ]
     },
     "execution_count": 17,
     "metadata": {},
     "output_type": "execute_result"
    }
   ],
   "source": [
    "df2 = pd.read_csv(r\"E:\\test.csv\")\n",
    "df2.head()"
   ]
  },
  {
   "cell_type": "code",
   "execution_count": 18,
   "id": "caf9ea87-c096-4559-afeb-b7cc9b867fa1",
   "metadata": {},
   "outputs": [
    {
     "data": {
      "text/plain": [
       "array([[140.67999268],\n",
       "       [139.6000061 ],\n",
       "       [138.6000061 ],\n",
       "       [139.8500061 ],\n",
       "       [138.352005  ],\n",
       "       [138.        ],\n",
       "       [140.05999756],\n",
       "       [142.52000427],\n",
       "       [144.89500427],\n",
       "       [144.33999634],\n",
       "       [143.42999268],\n",
       "       [142.91000366],\n",
       "       [143.44000244],\n",
       "       [146.30499268],\n",
       "       [148.71000671],\n",
       "       [147.72000122],\n",
       "       [150.28999329],\n",
       "       [151.74000549],\n",
       "       [152.86999512]])"
      ]
     },
     "execution_count": 18,
     "metadata": {},
     "output_type": "execute_result"
    }
   ],
   "source": [
    "real = df2.iloc[: , 1:2, ].values\n",
    "real"
   ]
  },
  {
   "cell_type": "code",
   "execution_count": 19,
   "id": "61ed9515-afcc-4440-9b13-bd06d3aab0f8",
   "metadata": {},
   "outputs": [
    {
     "data": {
      "text/plain": [
       "[<matplotlib.lines.Line2D at 0x2366bc7a810>]"
      ]
     },
     "execution_count": 19,
     "metadata": {},
     "output_type": "execute_result"
    },
    {
     "data": {
      "image/png": "[encoded data removed]",
      "text/plain": [
       "<Figure size 640x480 with 1 Axes>"
      ]
     },
     "metadata": {},
     "output_type": "display_data"
    }
   ],
   "source": [
    "import matplotlib.pyplot as plt\n",
    "plt.plot(real)"
   ]
  },
  {
   "cell_type": "code",
   "execution_count": 20,
   "id": "2538ba81-3a64-4373-8cfa-f33277d3380e",
   "metadata": {},
   "outputs": [],
   "source": [
    "last60 = training_set[2454 : 2534]\n",
    "val = np.concatenate((last60, real))"
   ]
  },
  {
   "cell_type": "code",
   "execution_count": 21,
   "id": "c557c06b-1803-4144-8205-7055cecac9fd",
   "metadata": {},
   "outputs": [],
   "source": [
    "val1 = sc.transform(val)"
   ]
  },
  {
   "cell_type": "code",
   "execution_count": 22,
   "id": "84894e50-efce-47f1-a8e4-6c40d38abef1",
   "metadata": {},
   "outputs": [
    {
     "data": {
      "text/plain": [
       "(59, 20)"
      ]
     },
     "execution_count": 22,
     "metadata": {},
     "output_type": "execute_result"
    }
   ],
   "source": [
    "pre = []\n",
    "\n",
    "for i in range(20, 79):\n",
    "    pre.append(val[i - 20 : i, 0])\n",
    "pre = np.array(pre)\n",
    "pre.shape"
   ]
  },
  {
   "cell_type": "code",
   "execution_count": 23,
   "id": "a96cba0b-f769-4842-a05e-bf66d9510d53",
   "metadata": {
    "scrolled": true
   },
   "outputs": [
    {
     "name": "stdout",
     "output_type": "stream",
     "text": [
      "2/2 [==============================] - 1s 15ms/step\n"
     ]
    }
   ],
   "source": [
    "pred = model.predict(pre)"
   ]
  },
  {
   "cell_type": "code",
   "execution_count": 24,
   "id": "bc5e2d10-0c68-48ea-9f70-6e347f60622d",
   "metadata": {},
   "outputs": [
    {
     "data": {
      "text/plain": [
       "[<matplotlib.lines.Line2D at 0x2367181b110>]"
      ]
     },
     "execution_count": 24,
     "metadata": {},
     "output_type": "execute_result"
    },
    {
     "data": {
      "image/png": "[encoded data removed]",
      "text/plain": [
       "<Figure size 640x480 with 1 Axes>"
      ]
     },
     "metadata": {},
     "output_type": "display_data"
    }
   ],
   "source": [
    "plt.plot(sc.inverse_transform(pred))"
   ]
  },
  {
   "cell_type": "code",
   "execution_count": null,
   "id": "2bd61118-2bae-4038-8d56-de2f2e2539df",
   "metadata": {},
   "outputs": [],
   "source": []
  }
 ],
 "metadata": {
  "kernelspec": {
   "display_name": "Python 3 (ipykernel)",
   "language": "python",
   "name": "python3"
  },
  "language_info": {
   "codemirror_mode": {
    "name": "ipython",
    "version": 3
   },
   "file_extension": ".py",
   "mimetype": "text/x-python",
   "name": "python",
   "nbconvert_exporter": "python",
   "pygments_lexer": "ipython3",
   "version": "3.11.4"
  }
 },
 "nbformat": 4,
 "nbformat_minor": 5
}
