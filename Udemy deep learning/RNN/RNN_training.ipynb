{
 "cells": [
  {
   "cell_type": "code",
   "execution_count": 75,
   "id": "1c98ac92-cd16-4db8-a72e-0636326f753b",
   "metadata": {},
   "outputs": [],
   "source": [
    "import pandas as pd \n",
    "import numpy as np\n",
    "import tensorflow as tf\n",
    "from sklearn.preprocessing import MinMaxScaler"
   ]
  },
  {
   "cell_type": "code",
   "execution_count": 76,
   "id": "6e6529b3-70af-4b3b-b88a-54b4d22ad48b",
   "metadata": {},
   "outputs": [],
   "source": [
    "df = pd.read_csv(r\"C:\\Stack overflow\\Tharun-s-training-data\\Udemy deep learning\\RNN\\Part+3+-+Recurrent+Neural+Networks\\Part 3 - Recurrent Neural Networks\\Google_Stock_Price_Train.csv\")"
   ]
  },
  {
   "cell_type": "code",
   "execution_count": 77,
   "id": "f19c0975-6d9d-43a9-bb56-eee484993829",
   "metadata": {},
   "outputs": [
    {
     "data": {
      "text/html": [
       "<div>\n",
       "<style scoped>\n",
       "    .dataframe tbody tr th:only-of-type {\n",
       "        vertical-align: middle;\n",
       "    }\n",
       "\n",
       "    .dataframe tbody tr th {\n",
       "        vertical-align: top;\n",
       "    }\n",
       "\n",
       "    .dataframe thead th {\n",
       "        text-align: right;\n",
       "    }\n",
       "</style>\n",
       "<table border=\"1\" class=\"dataframe\">\n",
       "  <thead>\n",
       "    <tr style=\"text-align: right;\">\n",
       "      <th></th>\n",
       "      <th>Date</th>\n",
       "      <th>Open</th>\n",
       "      <th>High</th>\n",
       "      <th>Low</th>\n",
       "      <th>Close</th>\n",
       "      <th>Volume</th>\n",
       "    </tr>\n",
       "  </thead>\n",
       "  <tbody>\n",
       "    <tr>\n",
       "      <th>0</th>\n",
       "      <td>1/3/2012</td>\n",
       "      <td>325.25</td>\n",
       "      <td>332.83</td>\n",
       "      <td>324.97</td>\n",
       "      <td>663.59</td>\n",
       "      <td>7,380,500</td>\n",
       "    </tr>\n",
       "    <tr>\n",
       "      <th>1</th>\n",
       "      <td>1/4/2012</td>\n",
       "      <td>331.27</td>\n",
       "      <td>333.87</td>\n",
       "      <td>329.08</td>\n",
       "      <td>666.45</td>\n",
       "      <td>5,749,400</td>\n",
       "    </tr>\n",
       "    <tr>\n",
       "      <th>2</th>\n",
       "      <td>1/5/2012</td>\n",
       "      <td>329.83</td>\n",
       "      <td>330.75</td>\n",
       "      <td>326.89</td>\n",
       "      <td>657.21</td>\n",
       "      <td>6,590,300</td>\n",
       "    </tr>\n",
       "    <tr>\n",
       "      <th>3</th>\n",
       "      <td>1/6/2012</td>\n",
       "      <td>328.34</td>\n",
       "      <td>328.77</td>\n",
       "      <td>323.68</td>\n",
       "      <td>648.24</td>\n",
       "      <td>5,405,900</td>\n",
       "    </tr>\n",
       "    <tr>\n",
       "      <th>4</th>\n",
       "      <td>1/9/2012</td>\n",
       "      <td>322.04</td>\n",
       "      <td>322.29</td>\n",
       "      <td>309.46</td>\n",
       "      <td>620.76</td>\n",
       "      <td>11,688,800</td>\n",
       "    </tr>\n",
       "    <tr>\n",
       "      <th>...</th>\n",
       "      <td>...</td>\n",
       "      <td>...</td>\n",
       "      <td>...</td>\n",
       "      <td>...</td>\n",
       "      <td>...</td>\n",
       "      <td>...</td>\n",
       "    </tr>\n",
       "    <tr>\n",
       "      <th>56</th>\n",
       "      <td>3/23/2012</td>\n",
       "      <td>322.09</td>\n",
       "      <td>323.04</td>\n",
       "      <td>319.25</td>\n",
       "      <td>640.83</td>\n",
       "      <td>3,894,800</td>\n",
       "    </tr>\n",
       "    <tr>\n",
       "      <th>57</th>\n",
       "      <td>3/26/2012</td>\n",
       "      <td>321.30</td>\n",
       "      <td>323.53</td>\n",
       "      <td>318.58</td>\n",
       "      <td>647.55</td>\n",
       "      <td>3,651,900</td>\n",
       "    </tr>\n",
       "    <tr>\n",
       "      <th>58</th>\n",
       "      <td>3/27/2012</td>\n",
       "      <td>322.31</td>\n",
       "      <td>325.53</td>\n",
       "      <td>321.20</td>\n",
       "      <td>645.25</td>\n",
       "      <td>4,029,400</td>\n",
       "    </tr>\n",
       "    <tr>\n",
       "      <th>59</th>\n",
       "      <td>3/28/2012</td>\n",
       "      <td>324.80</td>\n",
       "      <td>328.07</td>\n",
       "      <td>324.32</td>\n",
       "      <td>653.96</td>\n",
       "      <td>5,096,700</td>\n",
       "    </tr>\n",
       "    <tr>\n",
       "      <th>60</th>\n",
       "      <td>3/29/2012</td>\n",
       "      <td>325.50</td>\n",
       "      <td>327.07</td>\n",
       "      <td>320.95</td>\n",
       "      <td>646.63</td>\n",
       "      <td>3,862,900</td>\n",
       "    </tr>\n",
       "  </tbody>\n",
       "</table>\n",
       "<p>61 rows × 6 columns</p>\n",
       "</div>"
      ],
      "text/plain": [
       "         Date    Open    High     Low   Close      Volume\n",
       "0    1/3/2012  325.25  332.83  324.97  663.59   7,380,500\n",
       "1    1/4/2012  331.27  333.87  329.08  666.45   5,749,400\n",
       "2    1/5/2012  329.83  330.75  326.89  657.21   6,590,300\n",
       "3    1/6/2012  328.34  328.77  323.68  648.24   5,405,900\n",
       "4    1/9/2012  322.04  322.29  309.46  620.76  11,688,800\n",
       "..        ...     ...     ...     ...     ...         ...\n",
       "56  3/23/2012  322.09  323.04  319.25  640.83   3,894,800\n",
       "57  3/26/2012  321.30  323.53  318.58  647.55   3,651,900\n",
       "58  3/27/2012  322.31  325.53  321.20  645.25   4,029,400\n",
       "59  3/28/2012  324.80  328.07  324.32  653.96   5,096,700\n",
       "60  3/29/2012  325.50  327.07  320.95  646.63   3,862,900\n",
       "\n",
       "[61 rows x 6 columns]"
      ]
     },
     "execution_count": 77,
     "metadata": {},
     "output_type": "execute_result"
    }
   ],
   "source": [
    "df.head(61)"
   ]
  },
  {
   "cell_type": "code",
   "execution_count": 78,
   "id": "7334956f-d8c9-460c-948b-ca38e134e372",
   "metadata": {},
   "outputs": [
    {
     "data": {
      "text/plain": [
       "array([[325.25],\n",
       "       [331.27],\n",
       "       [329.83],\n",
       "       ...,\n",
       "       [793.7 ],\n",
       "       [783.33],\n",
       "       [782.75]])"
      ]
     },
     "execution_count": 78,
     "metadata": {},
     "output_type": "execute_result"
    }
   ],
   "source": [
    "train = np.array(df.iloc[:, 1:2].values)\n",
    "train"
   ]
  },
  {
   "cell_type": "code",
   "execution_count": 98,
   "id": "b2a7ce3d-b7c0-42cf-866a-7c6be7b4701e",
   "metadata": {},
   "outputs": [
    {
     "data": {
      "text/plain": [
       "array([0.08627874])"
      ]
     },
     "execution_count": 98,
     "metadata": {},
     "output_type": "execute_result"
    }
   ],
   "source": [
    "sc = MinMaxScaler()\n",
    "X = sc.fit_transform(train)\n",
    "X[60]"
   ]
  },
  {
   "cell_type": "code",
   "execution_count": 102,
   "id": "adca2a63-4b90-4f9c-ad4f-94aaba271348",
   "metadata": {
    "scrolled": true
   },
   "outputs": [],
   "source": [
    "X_train = []\n",
    "y_train = []\n",
    "\n",
    "for i in range(60, 1258):\n",
    "    X_train.append(X[i -60 : i, 0])\n",
    "    y_train.append(X[i, 0])\n",
    "\n",
    "X_train, y_train = np.array(X_train), np.array(y_train)"
   ]
  },
  {
   "cell_type": "code",
   "execution_count": 103,
   "id": "6ee59043-3049-4570-9f74-ffed4d1e4ee6",
   "metadata": {
    "scrolled": true
   },
   "outputs": [
    {
     "data": {
      "text/plain": [
       "array([0.09701243, 0.09433366, 0.09156187, 0.07984225, 0.0643277 ,\n",
       "       0.0585423 , 0.06568569, 0.06109085, 0.06639259, 0.0614257 ,\n",
       "       0.07474514, 0.02797827, 0.02379269, 0.02409033, 0.0159238 ,\n",
       "       0.01078949, 0.00967334, 0.01642607, 0.02100231, 0.02280676,\n",
       "       0.02273235, 0.02810849, 0.03212665, 0.0433812 , 0.04475779,\n",
       "       0.04790163, 0.0440695 , 0.04648783, 0.04745517, 0.04873875,\n",
       "       0.03936305, 0.04137213, 0.04034898, 0.04784582, 0.04325099,\n",
       "       0.04356723, 0.04286033, 0.04602277, 0.05398467, 0.05738894,\n",
       "       0.05714711, 0.05569611, 0.04421832, 0.04514845, 0.04605997,\n",
       "       0.04412531, 0.03675869, 0.04486941, 0.05065481, 0.05214302,\n",
       "       0.05612397, 0.05818885, 0.06540665, 0.06882953, 0.07243843,\n",
       "       0.07993526, 0.07846566, 0.08034452, 0.08497656, 0.08627874])"
      ]
     },
     "execution_count": 103,
     "metadata": {},
     "output_type": "execute_result"
    }
   ],
   "source": [
    "(X_train[1])"
   ]
  },
  {
   "cell_type": "code",
   "execution_count": 104,
   "id": "476d198b-9aad-4c39-a11a-c2bcd452f146",
   "metadata": {},
   "outputs": [
    {
     "data": {
      "text/plain": [
       "(1198, 60)"
      ]
     },
     "execution_count": 104,
     "metadata": {},
     "output_type": "execute_result"
    }
   ],
   "source": [
    "X_train.shape"
   ]
  },
  {
   "cell_type": "code",
   "execution_count": 105,
   "id": "63c4b124-3a82-453c-b20d-7ecaea88efb0",
   "metadata": {},
   "outputs": [],
   "source": [
    "X_train = np.reshape(X_train, (X_train.shape[0], X_train.shape[1], 1))"
   ]
  },
  {
   "cell_type": "code",
   "execution_count": 106,
   "id": "365fc5f2-3931-4cac-a5fe-35e9bedb09c7",
   "metadata": {
    "scrolled": true
   },
   "outputs": [
    {
     "data": {
      "text/plain": [
       "array([[0.08581368],\n",
       "       [0.09701243],\n",
       "       [0.09433366],\n",
       "       [0.09156187],\n",
       "       [0.07984225],\n",
       "       [0.0643277 ],\n",
       "       [0.0585423 ],\n",
       "       [0.06568569],\n",
       "       [0.06109085],\n",
       "       [0.06639259],\n",
       "       [0.0614257 ],\n",
       "       [0.07474514],\n",
       "       [0.02797827],\n",
       "       [0.02379269],\n",
       "       [0.02409033],\n",
       "       [0.0159238 ],\n",
       "       [0.01078949],\n",
       "       [0.00967334],\n",
       "       [0.01642607],\n",
       "       [0.02100231],\n",
       "       [0.02280676],\n",
       "       [0.02273235],\n",
       "       [0.02810849],\n",
       "       [0.03212665],\n",
       "       [0.0433812 ],\n",
       "       [0.04475779],\n",
       "       [0.04790163],\n",
       "       [0.0440695 ],\n",
       "       [0.04648783],\n",
       "       [0.04745517],\n",
       "       [0.04873875],\n",
       "       [0.03936305],\n",
       "       [0.04137213],\n",
       "       [0.04034898],\n",
       "       [0.04784582],\n",
       "       [0.04325099],\n",
       "       [0.04356723],\n",
       "       [0.04286033],\n",
       "       [0.04602277],\n",
       "       [0.05398467],\n",
       "       [0.05738894],\n",
       "       [0.05714711],\n",
       "       [0.05569611],\n",
       "       [0.04421832],\n",
       "       [0.04514845],\n",
       "       [0.04605997],\n",
       "       [0.04412531],\n",
       "       [0.03675869],\n",
       "       [0.04486941],\n",
       "       [0.05065481],\n",
       "       [0.05214302],\n",
       "       [0.05612397],\n",
       "       [0.05818885],\n",
       "       [0.06540665],\n",
       "       [0.06882953],\n",
       "       [0.07243843],\n",
       "       [0.07993526],\n",
       "       [0.07846566],\n",
       "       [0.08034452],\n",
       "       [0.08497656]])"
      ]
     },
     "execution_count": 106,
     "metadata": {},
     "output_type": "execute_result"
    }
   ],
   "source": [
    "X_train[0]"
   ]
  },
  {
   "cell_type": "code",
   "execution_count": 85,
   "id": "7d9af2f4-e9a0-4d5b-9aa7-a801b4132994",
   "metadata": {},
   "outputs": [],
   "source": [
    "import tensorflow as tf\n",
    "from keras.layers import Dense\n",
    "from keras.models import Sequential\n",
    "from keras.layers import LSTM\n",
    "from keras.layers import Dropout"
   ]
  },
  {
   "cell_type": "code",
   "execution_count": 86,
   "id": "b0c20302-8318-4e0c-8206-41fe2dd29b83",
   "metadata": {},
   "outputs": [],
   "source": [
    "model = Sequential()"
   ]
  },
  {
   "cell_type": "code",
   "execution_count": 87,
   "id": "ee236faa-ebd6-4aab-be61-19377dea41cd",
   "metadata": {},
   "outputs": [],
   "source": [
    "model.add(LSTM(\n",
    "    units = 50,\n",
    "    return_sequences=True,\n",
    "    input_shape = (X_train.shape[1], X_train.shape[2])\n",
    "))\n",
    "\n",
    "model.add(Dropout(\n",
    "    rate = 0.2\n",
    "))"
   ]
  },
  {
   "cell_type": "code",
   "execution_count": 88,
   "id": "ad2d489d-ba8c-4edf-a8f8-d1aa942c460c",
   "metadata": {},
   "outputs": [],
   "source": [
    "model.add(LSTM(\n",
    "    units = 50,\n",
    "    return_sequences=True\n",
    "))\n",
    "\n",
    "model.add(Dropout(\n",
    "    rate = 0.2\n",
    "))"
   ]
  },
  {
   "cell_type": "code",
   "execution_count": 89,
   "id": "5f7c09d7-e601-44fb-a3f4-8f8c38ce8d3d",
   "metadata": {},
   "outputs": [],
   "source": [
    "model.add(LSTM(\n",
    "    units = 50,\n",
    "    return_sequences=True\n",
    "))\n",
    "\n",
    "model.add(Dropout(\n",
    "    rate = 0.2\n",
    "))"
   ]
  },
  {
   "cell_type": "code",
   "execution_count": 90,
   "id": "9508b9e1-b790-4c66-8af8-787fc4b68bfd",
   "metadata": {},
   "outputs": [],
   "source": [
    "model.add(LSTM(\n",
    "    units = 50,\n",
    "    return_sequences=False\n",
    "))\n",
    "\n",
    "model.add(Dropout(\n",
    "    rate = 0.2\n",
    "))"
   ]
  },
  {
   "cell_type": "code",
   "execution_count": 92,
   "id": "d60f935e-20ae-48f2-b5b5-578117661138",
   "metadata": {},
   "outputs": [],
   "source": [
    "model.add(Dense(\n",
    "    units = 1\n",
    "))"
   ]
  },
  {
   "cell_type": "code",
   "execution_count": 93,
   "id": "9d60f88c-6971-4e1c-bd9f-a6bcc5c85ab7",
   "metadata": {},
   "outputs": [
    {
     "name": "stdout",
     "output_type": "stream",
     "text": [
      "WARNING:tensorflow:From C:\\Users\\tharu\\Lib\\site-packages\\keras\\src\\optimizers\\__init__.py:309: The name tf.train.Optimizer is deprecated. Please use tf.compat.v1.train.Optimizer instead.\n",
      "\n"
     ]
    }
   ],
   "source": [
    "model.compile(\n",
    "    optimizer='adam',\n",
    "    loss=\"mean_squared_error\"\n",
    ")"
   ]
  },
  {
   "cell_type": "code",
   "execution_count": 107,
   "id": "e5a7a2f4-fa87-42a3-b28c-464616327a3a",
   "metadata": {
    "scrolled": true
   },
   "outputs": [
    {
     "name": "stdout",
     "output_type": "stream",
     "text": [
      "Epoch 1/100\n",
      "38/38 [==============================] - 2s 58ms/step - loss: 0.0016\n",
      "Epoch 2/100\n",
      "38/38 [==============================] - 2s 57ms/step - loss: 0.0016\n",
      "Epoch 3/100\n",
      "38/38 [==============================] - 3s 67ms/step - loss: 0.0017\n",
      "Epoch 4/100\n",
      "38/38 [==============================] - 2s 62ms/step - loss: 0.0015\n",
      "Epoch 5/100\n",
      "38/38 [==============================] - 2s 60ms/step - loss: 0.0017\n",
      "Epoch 6/100\n",
      "38/38 [==============================] - 3s 68ms/step - loss: 0.0016\n",
      "Epoch 7/100\n",
      "38/38 [==============================] - 2s 60ms/step - loss: 0.0015\n",
      "Epoch 8/100\n",
      "38/38 [==============================] - 2s 54ms/step - loss: 0.0016\n",
      "Epoch 9/100\n",
      "38/38 [==============================] - 2s 61ms/step - loss: 0.0018\n",
      "Epoch 10/100\n",
      "38/38 [==============================] - 3s 66ms/step - loss: 0.0016\n",
      "Epoch 11/100\n",
      "38/38 [==============================] - 2s 57ms/step - loss: 0.0019\n",
      "Epoch 12/100\n",
      "38/38 [==============================] - 3s 66ms/step - loss: 0.0017\n",
      "Epoch 13/100\n",
      "38/38 [==============================] - 3s 73ms/step - loss: 0.0015\n",
      "Epoch 14/100\n",
      "38/38 [==============================] - 3s 76ms/step - loss: 0.0015\n",
      "Epoch 15/100\n",
      "38/38 [==============================] - 3s 87ms/step - loss: 0.0015\n",
      "Epoch 16/100\n",
      "38/38 [==============================] - 3s 74ms/step - loss: 0.0015\n",
      "Epoch 17/100\n",
      "38/38 [==============================] - 3s 72ms/step - loss: 0.0014\n",
      "Epoch 18/100\n",
      "38/38 [==============================] - 3s 78ms/step - loss: 0.0015\n",
      "Epoch 19/100\n",
      "38/38 [==============================] - 3s 80ms/step - loss: 0.0014\n",
      "Epoch 20/100\n",
      "38/38 [==============================] - 3s 76ms/step - loss: 0.0014\n",
      "Epoch 21/100\n",
      "38/38 [==============================] - 3s 75ms/step - loss: 0.0013\n",
      "Epoch 22/100\n",
      "38/38 [==============================] - 3s 76ms/step - loss: 0.0014\n",
      "Epoch 23/100\n",
      "38/38 [==============================] - 3s 69ms/step - loss: 0.0013\n",
      "Epoch 24/100\n",
      "38/38 [==============================] - 3s 69ms/step - loss: 0.0014\n",
      "Epoch 25/100\n",
      "38/38 [==============================] - 3s 73ms/step - loss: 0.0013\n",
      "Epoch 26/100\n",
      "38/38 [==============================] - 3s 71ms/step - loss: 0.0013\n",
      "Epoch 27/100\n",
      "38/38 [==============================] - 3s 68ms/step - loss: 0.0015\n",
      "Epoch 28/100\n",
      "38/38 [==============================] - 2s 66ms/step - loss: 0.0013\n",
      "Epoch 29/100\n",
      "38/38 [==============================] - 2s 65ms/step - loss: 0.0013\n",
      "Epoch 30/100\n",
      "38/38 [==============================] - 3s 67ms/step - loss: 0.0013\n",
      "Epoch 31/100\n",
      "38/38 [==============================] - 3s 69ms/step - loss: 0.0013\n",
      "Epoch 32/100\n",
      "38/38 [==============================] - 3s 68ms/step - loss: 0.0013\n",
      "Epoch 33/100\n",
      "38/38 [==============================] - 3s 84ms/step - loss: 0.0014\n",
      "Epoch 34/100\n",
      "38/38 [==============================] - 3s 81ms/step - loss: 0.0013\n",
      "Epoch 35/100\n",
      "38/38 [==============================] - 3s 79ms/step - loss: 0.0014\n",
      "Epoch 36/100\n",
      "38/38 [==============================] - 3s 81ms/step - loss: 0.0013\n",
      "Epoch 37/100\n",
      "38/38 [==============================] - 3s 72ms/step - loss: 0.0013\n",
      "Epoch 38/100\n",
      "38/38 [==============================] - 3s 74ms/step - loss: 0.0011\n",
      "Epoch 39/100\n",
      "38/38 [==============================] - 3s 74ms/step - loss: 0.0012\n",
      "Epoch 40/100\n",
      "38/38 [==============================] - 3s 75ms/step - loss: 0.0013\n",
      "Epoch 41/100\n",
      "38/38 [==============================] - 3s 73ms/step - loss: 0.0013\n",
      "Epoch 42/100\n",
      "38/38 [==============================] - 3s 77ms/step - loss: 0.0012\n",
      "Epoch 43/100\n",
      "38/38 [==============================] - 3s 71ms/step - loss: 0.0013\n",
      "Epoch 44/100\n",
      "38/38 [==============================] - 3s 71ms/step - loss: 0.0012\n",
      "Epoch 45/100\n",
      "38/38 [==============================] - 3s 71ms/step - loss: 0.0012\n",
      "Epoch 46/100\n",
      "38/38 [==============================] - 3s 76ms/step - loss: 0.0014\n",
      "Epoch 47/100\n",
      "38/38 [==============================] - 3s 72ms/step - loss: 0.0012\n",
      "Epoch 48/100\n",
      "38/38 [==============================] - 3s 72ms/step - loss: 0.0012\n",
      "Epoch 49/100\n",
      "38/38 [==============================] - 3s 70ms/step - loss: 0.0012\n",
      "Epoch 50/100\n",
      "38/38 [==============================] - 3s 85ms/step - loss: 0.0013\n",
      "Epoch 51/100\n",
      "38/38 [==============================] - 3s 79ms/step - loss: 0.0012\n",
      "Epoch 52/100\n",
      "38/38 [==============================] - 3s 73ms/step - loss: 0.0012\n",
      "Epoch 53/100\n",
      "38/38 [==============================] - 3s 79ms/step - loss: 0.0011\n",
      "Epoch 54/100\n",
      "38/38 [==============================] - 3s 86ms/step - loss: 0.0011\n",
      "Epoch 55/100\n",
      "38/38 [==============================] - 3s 83ms/step - loss: 0.0013\n",
      "Epoch 56/100\n",
      "38/38 [==============================] - 3s 81ms/step - loss: 0.0011\n",
      "Epoch 57/100\n",
      "38/38 [==============================] - 3s 73ms/step - loss: 0.0012\n",
      "Epoch 58/100\n",
      "38/38 [==============================] - 3s 79ms/step - loss: 0.0013\n",
      "Epoch 59/100\n",
      "38/38 [==============================] - 3s 72ms/step - loss: 0.0012\n",
      "Epoch 60/100\n",
      "38/38 [==============================] - 3s 74ms/step - loss: 0.0013\n",
      "Epoch 61/100\n",
      "38/38 [==============================] - 3s 71ms/step - loss: 0.0012\n",
      "Epoch 62/100\n",
      "38/38 [==============================] - 3s 84ms/step - loss: 0.0013\n",
      "Epoch 63/100\n",
      "38/38 [==============================] - 3s 72ms/step - loss: 0.0012\n",
      "Epoch 64/100\n",
      "38/38 [==============================] - 3s 72ms/step - loss: 0.0011\n",
      "Epoch 65/100\n",
      "38/38 [==============================] - 3s 80ms/step - loss: 0.0012\n",
      "Epoch 66/100\n",
      "38/38 [==============================] - 3s 73ms/step - loss: 0.0011\n",
      "Epoch 67/100\n",
      "38/38 [==============================] - 3s 70ms/step - loss: 0.0011\n",
      "Epoch 68/100\n",
      "38/38 [==============================] - 3s 76ms/step - loss: 0.0011\n",
      "Epoch 69/100\n",
      "38/38 [==============================] - 3s 73ms/step - loss: 0.0010\n",
      "Epoch 70/100\n",
      "38/38 [==============================] - 3s 69ms/step - loss: 0.0012\n",
      "Epoch 71/100\n",
      "38/38 [==============================] - 3s 69ms/step - loss: 0.0010\n",
      "Epoch 72/100\n",
      "38/38 [==============================] - 3s 67ms/step - loss: 0.0011\n",
      "Epoch 73/100\n",
      "38/38 [==============================] - 3s 71ms/step - loss: 0.0012\n",
      "Epoch 74/100\n",
      "38/38 [==============================] - 3s 70ms/step - loss: 0.0012\n",
      "Epoch 75/100\n",
      "38/38 [==============================] - 3s 68ms/step - loss: 0.0011\n",
      "Epoch 76/100\n",
      "38/38 [==============================] - 3s 67ms/step - loss: 0.0011\n",
      "Epoch 77/100\n",
      "38/38 [==============================] - 3s 68ms/step - loss: 0.0011\n",
      "Epoch 78/100\n",
      "38/38 [==============================] - 3s 75ms/step - loss: 0.0011\n",
      "Epoch 79/100\n",
      "38/38 [==============================] - 3s 68ms/step - loss: 0.0011\n",
      "Epoch 80/100\n",
      "38/38 [==============================] - 3s 68ms/step - loss: 0.0010\n",
      "Epoch 81/100\n",
      "38/38 [==============================] - 3s 81ms/step - loss: 0.0011\n",
      "Epoch 82/100\n",
      "38/38 [==============================] - 3s 89ms/step - loss: 0.0013\n",
      "Epoch 83/100\n",
      "38/38 [==============================] - 3s 78ms/step - loss: 0.0012\n",
      "Epoch 84/100\n",
      "38/38 [==============================] - 3s 75ms/step - loss: 0.0011\n",
      "Epoch 85/100\n",
      "38/38 [==============================] - 3s 83ms/step - loss: 0.0010\n",
      "Epoch 86/100\n",
      "38/38 [==============================] - 3s 82ms/step - loss: 0.0012\n",
      "Epoch 87/100\n",
      "38/38 [==============================] - 3s 69ms/step - loss: 0.0012\n",
      "Epoch 88/100\n",
      "38/38 [==============================] - 3s 68ms/step - loss: 0.0012\n",
      "Epoch 89/100\n",
      "38/38 [==============================] - 3s 80ms/step - loss: 0.0010\n",
      "Epoch 90/100\n",
      "38/38 [==============================] - 3s 82ms/step - loss: 0.0012\n",
      "Epoch 91/100\n",
      "38/38 [==============================] - 3s 75ms/step - loss: 0.0012\n",
      "Epoch 92/100\n",
      "38/38 [==============================] - 3s 72ms/step - loss: 0.0011\n",
      "Epoch 93/100\n",
      "38/38 [==============================] - 4s 95ms/step - loss: 0.0011\n",
      "Epoch 94/100\n",
      "38/38 [==============================] - 3s 75ms/step - loss: 9.8247e-04\n",
      "Epoch 95/100\n",
      "38/38 [==============================] - 3s 76ms/step - loss: 0.0010\n",
      "Epoch 96/100\n",
      "38/38 [==============================] - 3s 74ms/step - loss: 0.0011\n",
      "Epoch 97/100\n",
      "38/38 [==============================] - 3s 88ms/step - loss: 0.0010\n",
      "Epoch 98/100\n",
      "38/38 [==============================] - 3s 78ms/step - loss: 0.0011\n",
      "Epoch 99/100\n",
      "38/38 [==============================] - 3s 75ms/step - loss: 9.3228e-04\n",
      "Epoch 100/100\n",
      "38/38 [==============================] - 3s 74ms/step - loss: 0.0010\n"
     ]
    },
    {
     "data": {
      "text/plain": [
       "<keras.src.callbacks.History at 0x25b27e62d50>"
      ]
     },
     "execution_count": 107,
     "metadata": {},
     "output_type": "execute_result"
    }
   ],
   "source": [
    "model.fit(\n",
    "    x= X_train,\n",
    "    y= y_train,\n",
    "    batch_size= 32,\n",
    "    epochs= 100\n",
    ")"
   ]
  },
  {
   "cell_type": "code",
   "execution_count": 108,
   "id": "7334ab9f-1b74-4960-a499-30511c444f9a",
   "metadata": {},
   "outputs": [],
   "source": [
    "import matplotlib.pyplot as plt"
   ]
  },
  {
   "cell_type": "code",
   "execution_count": 111,
   "id": "48e2aea2-5f3a-42bf-9cb3-f9c62a8a5827",
   "metadata": {},
   "outputs": [],
   "source": [
    "test = pd.read_csv(r\"C:\\Stack overflow\\Tharun-s-training-data\\Udemy deep learning\\RNN\\Part+3+-+Recurrent+Neural+Networks\\Part 3 - Recurrent Neural Networks\\Google_Stock_Price_Test.csv\")"
   ]
  },
  {
   "cell_type": "code",
   "execution_count": 118,
   "id": "2b1cdc82-ea6d-49e0-a063-9566c9cd74ff",
   "metadata": {},
   "outputs": [
    {
     "data": {
      "text/html": [
       "<div>\n",
       "<style scoped>\n",
       "    .dataframe tbody tr th:only-of-type {\n",
       "        vertical-align: middle;\n",
       "    }\n",
       "\n",
       "    .dataframe tbody tr th {\n",
       "        vertical-align: top;\n",
       "    }\n",
       "\n",
       "    .dataframe thead th {\n",
       "        text-align: right;\n",
       "    }\n",
       "</style>\n",
       "<table border=\"1\" class=\"dataframe\">\n",
       "  <thead>\n",
       "    <tr style=\"text-align: right;\">\n",
       "      <th></th>\n",
       "      <th>Date</th>\n",
       "      <th>Open</th>\n",
       "      <th>High</th>\n",
       "      <th>Low</th>\n",
       "      <th>Close</th>\n",
       "      <th>Volume</th>\n",
       "    </tr>\n",
       "  </thead>\n",
       "  <tbody>\n",
       "    <tr>\n",
       "      <th>0</th>\n",
       "      <td>1/3/2017</td>\n",
       "      <td>778.81</td>\n",
       "      <td>789.63</td>\n",
       "      <td>775.80</td>\n",
       "      <td>786.14</td>\n",
       "      <td>1,657,300</td>\n",
       "    </tr>\n",
       "    <tr>\n",
       "      <th>1</th>\n",
       "      <td>1/4/2017</td>\n",
       "      <td>788.36</td>\n",
       "      <td>791.34</td>\n",
       "      <td>783.16</td>\n",
       "      <td>786.90</td>\n",
       "      <td>1,073,000</td>\n",
       "    </tr>\n",
       "    <tr>\n",
       "      <th>2</th>\n",
       "      <td>1/5/2017</td>\n",
       "      <td>786.08</td>\n",
       "      <td>794.48</td>\n",
       "      <td>785.02</td>\n",
       "      <td>794.02</td>\n",
       "      <td>1,335,200</td>\n",
       "    </tr>\n",
       "    <tr>\n",
       "      <th>3</th>\n",
       "      <td>1/6/2017</td>\n",
       "      <td>795.26</td>\n",
       "      <td>807.90</td>\n",
       "      <td>792.20</td>\n",
       "      <td>806.15</td>\n",
       "      <td>1,640,200</td>\n",
       "    </tr>\n",
       "    <tr>\n",
       "      <th>4</th>\n",
       "      <td>1/9/2017</td>\n",
       "      <td>806.40</td>\n",
       "      <td>809.97</td>\n",
       "      <td>802.83</td>\n",
       "      <td>806.65</td>\n",
       "      <td>1,272,400</td>\n",
       "    </tr>\n",
       "    <tr>\n",
       "      <th>5</th>\n",
       "      <td>1/10/2017</td>\n",
       "      <td>807.86</td>\n",
       "      <td>809.13</td>\n",
       "      <td>803.51</td>\n",
       "      <td>804.79</td>\n",
       "      <td>1,176,800</td>\n",
       "    </tr>\n",
       "    <tr>\n",
       "      <th>6</th>\n",
       "      <td>1/11/2017</td>\n",
       "      <td>805.00</td>\n",
       "      <td>808.15</td>\n",
       "      <td>801.37</td>\n",
       "      <td>807.91</td>\n",
       "      <td>1,065,900</td>\n",
       "    </tr>\n",
       "    <tr>\n",
       "      <th>7</th>\n",
       "      <td>1/12/2017</td>\n",
       "      <td>807.14</td>\n",
       "      <td>807.39</td>\n",
       "      <td>799.17</td>\n",
       "      <td>806.36</td>\n",
       "      <td>1,353,100</td>\n",
       "    </tr>\n",
       "    <tr>\n",
       "      <th>8</th>\n",
       "      <td>1/13/2017</td>\n",
       "      <td>807.48</td>\n",
       "      <td>811.22</td>\n",
       "      <td>806.69</td>\n",
       "      <td>807.88</td>\n",
       "      <td>1,099,200</td>\n",
       "    </tr>\n",
       "    <tr>\n",
       "      <th>9</th>\n",
       "      <td>1/17/2017</td>\n",
       "      <td>807.08</td>\n",
       "      <td>807.14</td>\n",
       "      <td>800.37</td>\n",
       "      <td>804.61</td>\n",
       "      <td>1,362,100</td>\n",
       "    </tr>\n",
       "  </tbody>\n",
       "</table>\n",
       "</div>"
      ],
      "text/plain": [
       "        Date    Open    High     Low   Close     Volume\n",
       "0   1/3/2017  778.81  789.63  775.80  786.14  1,657,300\n",
       "1   1/4/2017  788.36  791.34  783.16  786.90  1,073,000\n",
       "2   1/5/2017  786.08  794.48  785.02  794.02  1,335,200\n",
       "3   1/6/2017  795.26  807.90  792.20  806.15  1,640,200\n",
       "4   1/9/2017  806.40  809.97  802.83  806.65  1,272,400\n",
       "5  1/10/2017  807.86  809.13  803.51  804.79  1,176,800\n",
       "6  1/11/2017  805.00  808.15  801.37  807.91  1,065,900\n",
       "7  1/12/2017  807.14  807.39  799.17  806.36  1,353,100\n",
       "8  1/13/2017  807.48  811.22  806.69  807.88  1,099,200\n",
       "9  1/17/2017  807.08  807.14  800.37  804.61  1,362,100"
      ]
     },
     "execution_count": 118,
     "metadata": {},
     "output_type": "execute_result"
    }
   ],
   "source": [
    "test.head(-10)"
   ]
  },
  {
   "cell_type": "code",
   "execution_count": 117,
   "id": "15150c17-8c76-4527-84f2-a47c853d193a",
   "metadata": {},
   "outputs": [
    {
     "data": {
      "text/plain": [
       "20"
      ]
     },
     "execution_count": 117,
     "metadata": {},
     "output_type": "execute_result"
    }
   ],
   "source": [
    "real = np.array(test.iloc[:, 1:2].values)\n",
    "len(real)"
   ]
  },
  {
   "cell_type": "code",
   "execution_count": 120,
   "id": "f0a83831-7616-4db6-af2d-3c21335b7fb6",
   "metadata": {},
   "outputs": [
    {
     "data": {
      "image/png": "[encoded data removed]",
      "text/plain": [
       "<Figure size 640x480 with 1 Axes>"
      ]
     },
     "metadata": {},
     "output_type": "display_data"
    }
   ],
   "source": [
    "plt.plot(real)\n",
    "plt.show()"
   ]
  },
  {
   "cell_type": "code",
   "execution_count": 136,
   "id": "9878ceb9-a935-4227-9ab3-5080eddce12a",
   "metadata": {},
   "outputs": [],
   "source": [
    "val = train[1198: 1258]"
   ]
  },
  {
   "cell_type": "code",
   "execution_count": 137,
   "id": "3c8dd419-8269-4913-80b5-2029173c4a80",
   "metadata": {
    "scrolled": true
   },
   "outputs": [
    {
     "data": {
      "text/plain": [
       "array([[779.  ],\n",
       "       [779.66],\n",
       "       [777.71],\n",
       "       [786.66],\n",
       "       [783.76],\n",
       "       [781.22],\n",
       "       [781.65],\n",
       "       [779.8 ],\n",
       "       [787.85],\n",
       "       [798.24],\n",
       "       [803.3 ],\n",
       "       [795.  ],\n",
       "       [804.9 ],\n",
       "       [816.68],\n",
       "       [806.34],\n",
       "       [801.  ],\n",
       "       [808.35],\n",
       "       [795.47],\n",
       "       [782.89],\n",
       "       [778.2 ],\n",
       "       [767.25],\n",
       "       [750.66],\n",
       "       [774.5 ],\n",
       "       [783.4 ],\n",
       "       [779.94],\n",
       "       [791.17],\n",
       "       [756.54],\n",
       "       [755.6 ],\n",
       "       [746.97],\n",
       "       [755.2 ],\n",
       "       [766.92],\n",
       "       [771.37],\n",
       "       [762.61],\n",
       "       [772.63],\n",
       "       [767.73],\n",
       "       [764.26],\n",
       "       [760.  ],\n",
       "       [771.53],\n",
       "       [770.07],\n",
       "       [757.44],\n",
       "       [744.59],\n",
       "       [757.71],\n",
       "       [764.73],\n",
       "       [761.  ],\n",
       "       [772.48],\n",
       "       [780.  ],\n",
       "       [785.04],\n",
       "       [793.9 ],\n",
       "       [797.4 ],\n",
       "       [797.34],\n",
       "       [800.4 ],\n",
       "       [790.22],\n",
       "       [796.76],\n",
       "       [795.84],\n",
       "       [792.36],\n",
       "       [790.9 ],\n",
       "       [790.68],\n",
       "       [793.7 ],\n",
       "       [783.33],\n",
       "       [782.75]])"
      ]
     },
     "execution_count": 137,
     "metadata": {},
     "output_type": "execute_result"
    }
   ],
   "source": [
    "val"
   ]
  },
  {
   "cell_type": "code",
   "execution_count": 160,
   "id": "427f9a2f-5ed9-4a1b-bbe0-7627f2dbc57e",
   "metadata": {},
   "outputs": [],
   "source": [
    "val = np.concatenate((val, real))\n",
    "val[79]\n",
    "val1 = sc.transform(val)"
   ]
  },
  {
   "cell_type": "code",
   "execution_count": 161,
   "id": "a8b453be-84d2-4d0c-8857-527782c04df0",
   "metadata": {},
   "outputs": [],
   "source": [
    "pre = []\n",
    "for i in range(60, 80):\n",
    "    pre.append(val1[i - 60: i, ])"
   ]
  },
  {
   "cell_type": "code",
   "execution_count": 162,
   "id": "420e26f9-c473-43a4-a10d-b334d1890ab2",
   "metadata": {
    "scrolled": true
   },
   "outputs": [
    {
     "data": {
      "text/plain": [
       "(20, 60, 1)"
      ]
     },
     "execution_count": 162,
     "metadata": {},
     "output_type": "execute_result"
    }
   ],
   "source": [
    "pre = np.array(pre)\n",
    "pre.shape"
   ]
  },
  {
   "cell_type": "code",
   "execution_count": 163,
   "id": "cd9e9225-3d19-41b8-8c1f-51c277a0b619",
   "metadata": {},
   "outputs": [
    {
     "name": "stdout",
     "output_type": "stream",
     "text": [
      "1/1 [==============================] - 0s 28ms/step\n"
     ]
    }
   ],
   "source": [
    "pred = model.predict(pre)"
   ]
  },
  {
   "cell_type": "code",
   "execution_count": 166,
   "id": "008fee28-4dc3-44aa-9e95-9450f036d92d",
   "metadata": {},
   "outputs": [
    {
     "data": {
      "image/png": "[encoded data removed]",
      "text/plain": [
       "<Figure size 640x480 with 1 Axes>"
      ]
     },
     "metadata": {},
     "output_type": "display_data"
    }
   ],
   "source": [
    "plt.plot(real)\n",
    "plt.plot(sc.inverse_transform(pred))\n",
    "plt.show()"
   ]
  },
  {
   "cell_type": "code",
   "execution_count": 169,
   "id": "888dfd01-b380-463e-8608-3517a4679b22",
   "metadata": {},
   "outputs": [
    {
     "data": {
      "image/png": "[encoded data removed]",
      "text/plain": [
       "<Figure size 640x480 with 1 Axes>"
      ]
     },
     "metadata": {},
     "output_type": "display_data"
    }
   ],
   "source": [
    "plt.plot(real, color = 'red', label = 'Real Google Stock Price')\n",
    "plt.plot(sc.inverse_transform(pred), color = 'blue', label = 'Predicted Google Stock Price')\n",
    "plt.title('Google Stock Price Prediction')\n",
    "plt.xlabel('Time')\n",
    "plt.ylabel('Google Stock Price')\n",
    "plt.legend()\n",
    "plt.show()"
   ]
  },
  {
   "cell_type": "code",
   "execution_count": null,
   "id": "d334101a-ec7d-4e96-9033-cce8493304e9",
   "metadata": {},
   "outputs": [],
   "source": []
  }
 ],
 "metadata": {
  "kernelspec": {
   "display_name": "Python 3 (ipykernel)",
   "language": "python",
   "name": "python3"
  },
  "language_info": {
   "codemirror_mode": {
    "name": "ipython",
    "version": 3
   },
   "file_extension": ".py",
   "mimetype": "text/x-python",
   "name": "python",
   "nbconvert_exporter": "python",
   "pygments_lexer": "ipython3",
   "version": "3.11.4"
  }
 },
 "nbformat": 4,
 "nbformat_minor": 5
}
