{
 "cells": [
  {
   "cell_type": "code",
   "execution_count": 10,
   "id": "955ae283-b9ef-4206-bafd-78f03f9613df",
   "metadata": {},
   "outputs": [],
   "source": [
    "import tensorflow as tf\n",
    "from keras.preprocessing.image import ImageDataGenerator"
   ]
  },
  {
   "cell_type": "code",
   "execution_count": 11,
   "id": "45e8d7ff-9ef7-4407-9f25-154bdf5bd508",
   "metadata": {},
   "outputs": [
    {
     "name": "stdout",
     "output_type": "stream",
     "text": [
      "2.15.0\n"
     ]
    }
   ],
   "source": [
    "print(tf.__version__)"
   ]
  },
  {
   "cell_type": "markdown",
   "id": "8773bd3d-3d1a-4da6-b047-7097b752fb1e",
   "metadata": {},
   "source": [
    "Convolutional\n",
    "\n",
    "Relu\n",
    "\n",
    "Max pooling \n",
    "\n",
    "Flattening\n",
    "\n",
    "Fully connected"
   ]
  },
  {
   "cell_type": "code",
   "execution_count": 12,
   "id": "7af56d65-5c0f-4241-9930-2e33df1a1e94",
   "metadata": {},
   "outputs": [
    {
     "name": "stdout",
     "output_type": "stream",
     "text": [
      "Found 8000 images belonging to 2 classes.\n"
     ]
    }
   ],
   "source": [
    "train_datagen = ImageDataGenerator(\n",
    "        rescale=1./255,\n",
    "        shear_range=0.2,\n",
    "        zoom_range=0.2,\n",
    "        horizontal_flip=True)\n",
    "\n",
    "training_set = train_datagen.flow_from_directory(\n",
    "        \"E:/Zip files/dataset/dataset/training_set\", \n",
    "        target_size=(64, 64),  \n",
    "        batch_size=32,\n",
    "        class_mode='binary')"
   ]
  },
  {
   "cell_type": "code",
   "execution_count": 13,
   "id": "40025d3b-ad53-42ef-964c-5a0797019569",
   "metadata": {},
   "outputs": [
    {
     "name": "stdout",
     "output_type": "stream",
     "text": [
      "Found 2000 images belonging to 2 classes.\n"
     ]
    }
   ],
   "source": [
    "test_datagen = ImageDataGenerator(rescale=1./255)\n",
    "\n",
    "test_set = test_datagen.flow_from_directory(\n",
    "        \"E:/Zip files/dataset/dataset/test_set\",\n",
    "        target_size = (64, 64),\n",
    "        batch_size = 32,\n",
    "        class_mode = \"binary\"\n",
    ")"
   ]
  },
  {
   "cell_type": "code",
   "execution_count": 14,
   "id": "54b675e6-e654-4911-a4d6-b94e91cb0686",
   "metadata": {},
   "outputs": [],
   "source": [
    "model = tf.keras.models.Sequential()"
   ]
  },
  {
   "cell_type": "code",
   "execution_count": 15,
   "id": "d90ab2c9-d933-4f74-830f-191ea95d7746",
   "metadata": {},
   "outputs": [],
   "source": [
    "model.add(tf.keras.layers.Conv2D(\n",
    "    filters = 32,\n",
    "    kernel_size = 3,\n",
    "    activation=\"relu\",\n",
    "    input_shape = [64, 64, 3]\n",
    "))"
   ]
  },
  {
   "cell_type": "code",
   "execution_count": 16,
   "id": "e1ce76b8-209f-4ae8-9e50-634b8bd52391",
   "metadata": {},
   "outputs": [],
   "source": [
    "model.add(tf.keras.layers.MaxPool2D(\n",
    "    pool_size=(2, 2),\n",
    "    strides=(2, 2),\n",
    "    padding='valid'\n",
    "))"
   ]
  },
  {
   "cell_type": "code",
   "execution_count": 17,
   "id": "8923ac4a-9b23-42c6-91fc-37040f189091",
   "metadata": {},
   "outputs": [],
   "source": [
    "model.add(tf.keras.layers.Conv2D(\n",
    "    filters = 32,\n",
    "    kernel_size = 3,\n",
    "    strides=(1, 1),\n",
    "    activation=\"relu\"\n",
    "))"
   ]
  },
  {
   "cell_type": "code",
   "execution_count": 18,
   "id": "f0d5bfb1-bcf6-469c-ba1e-992446c34010",
   "metadata": {},
   "outputs": [],
   "source": [
    "model.add(tf.keras.layers.MaxPool2D(\n",
    "    pool_size=(2, 2),\n",
    "    strides=(2, 2)\n",
    "))"
   ]
  },
  {
   "cell_type": "code",
   "execution_count": 19,
   "id": "cd3a1606-1dd5-4306-b6e7-ea0330307913",
   "metadata": {},
   "outputs": [],
   "source": [
    "model.add(tf.keras.layers.Flatten())"
   ]
  },
  {
   "cell_type": "code",
   "execution_count": 20,
   "id": "572b4d90-cd1e-473f-922e-1c3c1469519b",
   "metadata": {},
   "outputs": [],
   "source": [
    "model.add(tf.keras.layers.Dense(\n",
    "    units = 128,\n",
    "    activation=\"relu\"))"
   ]
  },
  {
   "cell_type": "code",
   "execution_count": 21,
   "id": "421e23a2-3363-4080-b509-927a84615f76",
   "metadata": {},
   "outputs": [],
   "source": [
    "model.add(tf.keras.layers.Dense(\n",
    "    units = 1,\n",
    "    activation=\"relu\"))"
   ]
  },
  {
   "cell_type": "code",
   "execution_count": 24,
   "id": "7b0d2601-0322-4771-89d8-2c8daf90e3b2",
   "metadata": {},
   "outputs": [],
   "source": [
    "model.compile(\n",
    "    optimizer=\"adam\",\n",
    "    loss=\"binary_crossentropy\",\n",
    "    metrics=[\"accuracy\"]\n",
    ")"
   ]
  },
  {
   "cell_type": "code",
   "execution_count": 25,
   "id": "5cbb17a3-1b70-46da-b402-046375171194",
   "metadata": {},
   "outputs": [
    {
     "name": "stdout",
     "output_type": "stream",
     "text": [
      "Epoch 1/25\n",
      "WARNING:tensorflow:From C:\\Users\\tharu\\Lib\\site-packages\\keras\\src\\utils\\tf_utils.py:492: The name tf.ragged.RaggedTensorValue is deprecated. Please use tf.compat.v1.ragged.RaggedTensorValue instead.\n",
      "\n",
      "WARNING:tensorflow:From C:\\Users\\tharu\\Lib\\site-packages\\keras\\src\\engine\\base_layer_utils.py:384: The name tf.executing_eagerly_outside_functions is deprecated. Please use tf.compat.v1.executing_eagerly_outside_functions instead.\n",
      "\n",
      "250/250 [==============================] - 26s 103ms/step - loss: 7.6285 - accuracy: 0.4990 - val_loss: 7.6246 - val_accuracy: 0.5000\n",
      "Epoch 2/25\n",
      "250/250 [==============================] - 21s 83ms/step - loss: 7.6246 - accuracy: 0.5000 - val_loss: 7.6246 - val_accuracy: 0.5000\n",
      "Epoch 3/25\n",
      "250/250 [==============================] - 35s 140ms/step - loss: 7.6246 - accuracy: 0.5000 - val_loss: 7.6246 - val_accuracy: 0.5000\n",
      "Epoch 4/25\n",
      "250/250 [==============================] - 35s 142ms/step - loss: 7.6246 - accuracy: 0.5000 - val_loss: 7.6246 - val_accuracy: 0.5000\n",
      "Epoch 5/25\n",
      "250/250 [==============================] - 35s 141ms/step - loss: 7.6246 - accuracy: 0.5000 - val_loss: 7.6246 - val_accuracy: 0.5000\n",
      "Epoch 6/25\n",
      "250/250 [==============================] - 27s 109ms/step - loss: 7.6246 - accuracy: 0.5000 - val_loss: 7.6246 - val_accuracy: 0.5000\n",
      "Epoch 7/25\n",
      "250/250 [==============================] - 25s 98ms/step - loss: 7.6246 - accuracy: 0.5000 - val_loss: 7.6246 - val_accuracy: 0.5000\n",
      "Epoch 8/25\n",
      "250/250 [==============================] - 25s 100ms/step - loss: 7.6246 - accuracy: 0.5000 - val_loss: 7.6246 - val_accuracy: 0.5000\n",
      "Epoch 9/25\n",
      "250/250 [==============================] - 25s 100ms/step - loss: 7.6246 - accuracy: 0.5000 - val_loss: 7.6246 - val_accuracy: 0.5000\n",
      "Epoch 10/25\n",
      "250/250 [==============================] - 24s 97ms/step - loss: 7.6246 - accuracy: 0.5000 - val_loss: 7.6246 - val_accuracy: 0.5000\n",
      "Epoch 11/25\n",
      "250/250 [==============================] - 27s 106ms/step - loss: 7.6246 - accuracy: 0.5000 - val_loss: 7.6246 - val_accuracy: 0.5000\n",
      "Epoch 12/25\n",
      "250/250 [==============================] - 24s 96ms/step - loss: 7.6246 - accuracy: 0.5000 - val_loss: 7.6246 - val_accuracy: 0.5000\n",
      "Epoch 13/25\n",
      "250/250 [==============================] - 102s 408ms/step - loss: 7.6246 - accuracy: 0.5000 - val_loss: 7.6246 - val_accuracy: 0.5000\n",
      "Epoch 14/25\n",
      "250/250 [==============================] - 25s 101ms/step - loss: 7.6246 - accuracy: 0.5000 - val_loss: 7.6246 - val_accuracy: 0.5000\n",
      "Epoch 15/25\n",
      "250/250 [==============================] - 40s 159ms/step - loss: 7.6246 - accuracy: 0.5000 - val_loss: 7.6246 - val_accuracy: 0.5000\n",
      "Epoch 16/25\n",
      "250/250 [==============================] - 33s 131ms/step - loss: 7.6246 - accuracy: 0.5000 - val_loss: 7.6246 - val_accuracy: 0.5000\n",
      "Epoch 17/25\n",
      "250/250 [==============================] - 26s 105ms/step - loss: 7.6246 - accuracy: 0.5000 - val_loss: 7.6246 - val_accuracy: 0.5000\n",
      "Epoch 18/25\n",
      "250/250 [==============================] - 26s 105ms/step - loss: 7.6246 - accuracy: 0.5000 - val_loss: 7.6246 - val_accuracy: 0.5000\n",
      "Epoch 19/25\n",
      "250/250 [==============================] - 31s 125ms/step - loss: 7.6246 - accuracy: 0.5000 - val_loss: 7.6246 - val_accuracy: 0.5000\n",
      "Epoch 20/25\n",
      "250/250 [==============================] - 30s 122ms/step - loss: 7.6246 - accuracy: 0.5000 - val_loss: 7.6246 - val_accuracy: 0.5000\n",
      "Epoch 21/25\n",
      "250/250 [==============================] - 28s 113ms/step - loss: 7.6246 - accuracy: 0.5000 - val_loss: 7.6246 - val_accuracy: 0.5000\n",
      "Epoch 22/25\n",
      "250/250 [==============================] - 32s 127ms/step - loss: 7.6246 - accuracy: 0.5000 - val_loss: 7.6246 - val_accuracy: 0.5000\n",
      "Epoch 23/25\n",
      "250/250 [==============================] - 40s 161ms/step - loss: 7.6246 - accuracy: 0.5000 - val_loss: 7.6246 - val_accuracy: 0.5000\n",
      "Epoch 24/25\n",
      "250/250 [==============================] - 39s 154ms/step - loss: 7.6246 - accuracy: 0.5000 - val_loss: 7.6246 - val_accuracy: 0.5000\n",
      "Epoch 25/25\n",
      "250/250 [==============================] - 32s 126ms/step - loss: 7.6246 - accuracy: 0.5000 - val_loss: 7.6246 - val_accuracy: 0.5000\n"
     ]
    },
    {
     "data": {
      "text/plain": [
       "<keras.src.callbacks.History at 0x289cd444a10>"
      ]
     },
     "execution_count": 25,
     "metadata": {},
     "output_type": "execute_result"
    }
   ],
   "source": [
    "model.fit(\n",
    "    x=training_set,\n",
    "    batch_size=32,\n",
    "    epochs=25,\n",
    "    validation_data=test_set\n",
    ")"
   ]
  },
  {
   "cell_type": "code",
   "execution_count": 30,
   "id": "3ade1b0e-bac9-4d15-a687-f0316ff17b11",
   "metadata": {},
   "outputs": [
    {
     "name": "stderr",
     "output_type": "stream",
     "text": [
      "C:\\Users\\tharu\\Lib\\site-packages\\keras\\src\\engine\\training.py:3103: UserWarning: You are saving your model as an HDF5 file via `model.save()`. This file format is considered legacy. We recommend using instead the native Keras format, e.g. `model.save('my_model.keras')`.\n",
      "  saving_api.save_model(\n"
     ]
    }
   ],
   "source": [
    "model.save(\"Tharun-s-training-data/Udemy deep learning/Deep learning.h5\")"
   ]
  },
  {
   "cell_type": "code",
   "execution_count": 31,
   "id": "cd3b9448-4dca-4a4d-8a6f-1ed4934ff28a",
   "metadata": {},
   "outputs": [
    {
     "name": "stdout",
     "output_type": "stream",
     "text": [
      "1/1 [==============================] - 0s 34ms/step\n"
     ]
    }
   ],
   "source": [
    "from keras.preprocessing import image\n",
    "import numpy as np\n",
    "test_image = image.load_img(r\"E:\\Zip files\\dataset\\dataset\\test_set\\dogs\\dog.4027.jpg\", target_size=(64, 64))\n",
    "test_image = image.img_to_array(test_image)\n",
    "test_image = np.expand_dims(test_image, axis=0)\n",
    "result = model.predict(test_image)"
   ]
  },
  {
   "cell_type": "code",
   "execution_count": 32,
   "id": "d7b62c2a-363c-4f8b-813c-fced1315d1c0",
   "metadata": {},
   "outputs": [
    {
     "data": {
      "text/plain": [
       "array([[4240.019]], dtype=float32)"
      ]
     },
     "execution_count": 32,
     "metadata": {},
     "output_type": "execute_result"
    }
   ],
   "source": [
    "result"
   ]
  },
  {
   "cell_type": "code",
   "execution_count": 33,
   "id": "680748ce-3b96-419f-84d8-bb60462e7c1d",
   "metadata": {},
   "outputs": [],
   "source": [
    "cnn = tf.keras.models.load_model(\n",
    "    filepath = r\"C:\\Stack overflow\\Tharun-s-training-data\\Udemy deep learning\\Deep learning.h5\"\n",
    ")"
   ]
  },
  {
   "cell_type": "code",
   "execution_count": 34,
   "id": "4c5ad91d-034a-450c-a6f1-06589aac65d5",
   "metadata": {},
   "outputs": [
    {
     "name": "stdout",
     "output_type": "stream",
     "text": [
      "1/1 [==============================] - 0s 87ms/step\n"
     ]
    },
    {
     "data": {
      "text/plain": [
       "array([[ 0.      , 62.975224, 54.355568, 23.1047  , 53.60724 , 38.963703,\n",
       "        22.596933, 57.91239 , 44.29796 , 46.018986, 57.29605 , 46.749332,\n",
       "        65.26261 , 55.725227,  0.      , 66.69656 , 53.63954 , 52.77178 ,\n",
       "        57.269787,  0.      , 97.47656 , 46.814247,  0.      , 45.30075 ,\n",
       "        49.42396 , 53.769543, 49.183945, 51.754803, 50.84776 , 66.710045,\n",
       "         0.      , 48.374634, 46.35983 , 49.708973, 42.262558, 61.59288 ,\n",
       "        61.648846, 59.110603, 46.019733, 48.970947, 45.944862, 57.65955 ,\n",
       "         0.      , 48.200172, 57.57638 ,  0.      , 45.902706, 48.574356,\n",
       "        60.274387, 65.31831 , 49.476337, 47.156433,  0.      , 51.213467,\n",
       "        69.04521 , 49.847332, 62.735283, 46.60918 , 53.635746, 67.981865,\n",
       "        55.14326 , 64.34179 , 50.3048  , 45.096775, 55.76519 , 58.38403 ,\n",
       "        43.296436, 57.88838 , 47.975536,  0.      , 50.010483, 54.677307,\n",
       "        67.97099 , 48.099384, 44.06276 , 50.15372 , 57.602   , 55.78272 ,\n",
       "        68.72726 , 48.280796, 46.33678 , 48.421528, 39.164158, 42.88947 ,\n",
       "        60.158756, 54.78833 , 48.863174, 45.72904 , 63.249428, 51.900208,\n",
       "        48.601482, 50.039894, 56.09448 , 50.00599 , 65.732025,  0.      ,\n",
       "        48.944027, 61.97879 ,  0.      ,  0.      ,  0.      , 41.06995 ,\n",
       "        48.439247, 47.60159 , 50.957787, 63.03019 , 50.778667, 55.32552 ,\n",
       "         0.      , 54.102802, 48.27614 , 50.462097, 80.22071 , 59.273865,\n",
       "        66.558945, 54.03997 , 48.423935,  0.      , 55.0063  , 60.59533 ,\n",
       "        49.80023 , 44.249638, 58.098946, 56.008213, 65.85353 , 53.367172,\n",
       "        51.338715, 47.211052]], dtype=float32)"
      ]
     },
     "execution_count": 34,
     "metadata": {},
     "output_type": "execute_result"
    }
   ],
   "source": [
    "cnn.predict(test_image)"
   ]
  },
  {
   "cell_type": "code",
   "execution_count": null,
   "id": "e145dfbb-4a1e-4395-87f3-1ddf631d2c32",
   "metadata": {},
   "outputs": [],
   "source": []
  }
 ],
 "metadata": {
  "kernelspec": {
   "display_name": "Python 3 (ipykernel)",
   "language": "python",
   "name": "python3"
  },
  "language_info": {
   "codemirror_mode": {
    "name": "ipython",
    "version": 3
   },
   "file_extension": ".py",
   "mimetype": "text/x-python",
   "name": "python",
   "nbconvert_exporter": "python",
   "pygments_lexer": "ipython3",
   "version": "3.11.4"
  }
 },
 "nbformat": 4,
 "nbformat_minor": 5
}
