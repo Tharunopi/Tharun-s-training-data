{
 "cells": [
  {
   "cell_type": "code",
   "execution_count": 1,
   "id": "250be044-5d62-4ce1-bfad-02ae41274289",
   "metadata": {},
   "outputs": [],
   "source": [
    "import spacy\n",
    "import fuzzywuzzy\n",
    "import json\n",
    "from fuzzywuzzy import fuzz, process\n",
    "from spacy import displacy\n",
    "\n",
    "from spacy.tokens import DocBin\n",
    "\n",
    "import pandas as pd\n",
    "\n",
    "from tqdm import tqdm"
   ]
  },
  {
   "cell_type": "code",
   "execution_count": 2,
   "id": "f103b780-23d7-4518-89b2-913401e4bda3",
   "metadata": {},
   "outputs": [],
   "source": [
    "nlp = spacy.blank(\"en\")\n",
    "db = DocBin()"
   ]
  },
  {
   "cell_type": "code",
   "execution_count": 4,
   "id": "29f148a3-5ebd-4ab9-9bd5-cb0f8d05a8c0",
   "metadata": {},
   "outputs": [
    {
     "name": "stdout",
     "output_type": "stream",
     "text": [
      "Training data loaded successfully!\n"
     ]
    }
   ],
   "source": [
    "with open(r\"E:\\kgm_Loc.json\", \"r\") as f:\n",
    "    training_data = json.load(f)\n",
    "\n",
    "print(\"Training data loaded successfully!\")"
   ]
  },
  {
   "cell_type": "code",
   "execution_count": 5,
   "id": "811139c3-1248-4674-8e87-2dd061a261d5",
   "metadata": {
    "scrolled": true
   },
   "outputs": [],
   "source": [
    "text = \"this is Arulpuram\""
   ]
  },
  {
   "cell_type": "code",
   "execution_count": 6,
   "id": "4e6ff0ee-81cb-4613-bc05-73ac0950b5aa",
   "metadata": {},
   "outputs": [
    {
     "name": "stderr",
     "output_type": "stream",
     "text": [
      "100%|██████████████████████████████████████████████████████████████████████████████| 127/127 [00:00<00:00, 4768.30it/s]\n"
     ]
    }
   ],
   "source": [
    "for text, annot in tqdm(training_data['annotations']): \n",
    "    doc = nlp.make_doc(text) \n",
    "    ents = []\n",
    "    for start, end, label in annot[\"entities\"]:\n",
    "        span = doc.char_span(start, end, label=label, alignment_mode=\"contract\")\n",
    "        if span is None:\n",
    "            print(\"Skipping entity\")\n",
    "        else:\n",
    "            ents.append(span)\n",
    "    doc.ents = ents \n",
    "    db.add(doc)\n",
    "\n",
    "db.to_disk(\"./training_data.spacy\") "
   ]
  },
  {
   "cell_type": "code",
   "execution_count": 8,
   "id": "a1f16107-d942-40c2-9ef7-3cc5e15b0293",
   "metadata": {},
   "outputs": [
    {
     "name": "stdout",
     "output_type": "stream",
     "text": [
      "\u001b[38;5;3m[!] To generate a more effective transformer-based config (GPU-only),\n",
      "install the spacy-transformers package and re-run this command. The config\n",
      "generated now does not use transformers.\u001b[0m\n",
      "\u001b[38;5;4m[i] Generated config template specific for your use case\u001b[0m\n",
      "- Language: en\n",
      "- Pipeline: ner\n",
      "- Optimize for: efficiency\n",
      "- Hardware: CPU\n",
      "- Transformer: None\n",
      "\u001b[38;5;2m[+] Auto-filled config with all values\u001b[0m\n",
      "\u001b[38;5;2m[+] Saved config\u001b[0m\n",
      "config.cfg\n",
      "You can now add your data and train your pipeline:\n",
      "python -m spacy train config.cfg --paths.train ./train.spacy --paths.dev ./dev.spacy\n"
     ]
    }
   ],
   "source": [
    "! python -m spacy init config config.cfg --lang en --pipeline ner --optimize efficiency"
   ]
  },
  {
   "cell_type": "code",
   "execution_count": 1,
   "id": "8d9dfad8-be08-41cb-915e-2a4cc0787906",
   "metadata": {},
   "outputs": [
    {
     "name": "stderr",
     "output_type": "stream",
     "text": [
      "Usage: python -m spacy train [OPTIONS] CONFIG_PATH\n",
      "Try 'python -m spacy train --help' for help.\n",
      "\n",
      "Error: Invalid value for 'CONFIG_PATH': Path 'config.cfg' does not exist.\n"
     ]
    }
   ],
   "source": [
    "! python -m spacy train config.cfg --output ./ --paths.train ./training_data.spacy --paths.dev ./training_data.spacy"
   ]
  },
  {
   "cell_type": "code",
   "execution_count": 10,
   "id": "2533bdd8-ab9f-4f86-b2e7-1ffb7fb4b321",
   "metadata": {},
   "outputs": [],
   "source": [
    "nlp_ner = spacy.load(\"C:\\Stack overflow\\model-best\")"
   ]
  },
  {
   "cell_type": "code",
   "execution_count": 13,
   "id": "75f47e1d-3801-4e31-aa3a-5af0e4eff3c9",
   "metadata": {},
   "outputs": [],
   "source": [
    "doc2 = nlp_ner(\"this is Arulpuram\")"
   ]
  },
  {
   "cell_type": "code",
   "execution_count": 14,
   "id": "a438e3a9-02fc-4524-833f-c7142807aa4e",
   "metadata": {},
   "outputs": [
    {
     "data": {
      "text/html": [
       "<span class=\"tex2jax_ignore\"><div class=\"entities\" style=\"line-height: 2.5; direction: ltr\">this \n",
       "<mark class=\"entity\" style=\"background: #ddd; padding: 0.45em 0.6em; margin: 0 0.25em; line-height: 1; border-radius: 0.35em;\">\n",
       "    is Arulpuram\n",
       "    <span style=\"font-size: 0.8em; font-weight: bold; line-height: 1; border-radius: 0.35em; vertical-align: middle; margin-left: 0.5rem\">LOCATION</span>\n",
       "</mark>\n",
       "</div></span>"
      ],
      "text/plain": [
       "<IPython.core.display.HTML object>"
      ]
     },
     "metadata": {},
     "output_type": "display_data"
    }
   ],
   "source": [
    "displacy.render(doc2, style=\"ent\")"
   ]
  },
  {
   "cell_type": "code",
   "execution_count": null,
   "id": "45a6ef22-6cc4-4fd2-b016-820d47497a61",
   "metadata": {},
   "outputs": [],
   "source": []
  }
 ],
 "metadata": {
  "kernelspec": {
   "display_name": "Python 3 (ipykernel)",
   "language": "python",
   "name": "python3"
  },
  "language_info": {
   "codemirror_mode": {
    "name": "ipython",
    "version": 3
   },
   "file_extension": ".py",
   "mimetype": "text/x-python",
   "name": "python",
   "nbconvert_exporter": "python",
   "pygments_lexer": "ipython3",
   "version": "3.11.4"
  }
 },
 "nbformat": 4,
 "nbformat_minor": 5
}
