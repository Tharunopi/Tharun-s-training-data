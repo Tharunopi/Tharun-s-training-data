{
 "cells": [
  {
   "cell_type": "code",
   "execution_count": 1,
   "id": "8cc3a452-eaff-4ece-9985-2044592499cc",
   "metadata": {},
   "outputs": [
    {
     "name": "stdout",
     "output_type": "stream",
     "text": [
      "Invalid location\n"
     ]
    }
   ],
   "source": [
    "import spacy\n",
    "import fuzzywuzzy\n",
    "import pandas as pd\n",
    "\n",
    "df = pd.read_csv(\"E:\\\\geoname_india\\\\geolocations-indian-cities.csv\", encoding=\"latin1\")\n",
    "\n",
    "nlp = spacy.load(\"en_core_web_lg\")\n",
    "\n",
    "text = \"i am going to reach Wardha at 10 am\"\n",
    "doc = nlp(text)\n",
    "\n",
    "series = pd.Series(df[\"Alternate Names\"])\n",
    "truke = pd.Series(df[\"Name\"])\n",
    "\n",
    "matches = []  # Create an empty list to store matches\n",
    "\n",
    "for i in doc:\n",
    "    v = truke.str.contains(i.text, case=False, na=False)\n",
    "    matches.extend(v)  # Extend the list with the results for this token\n",
    "\n",
    "result = sum(matches)\n",
    "\n",
    "if result == 1:\n",
    "    row = matches.index(True) + 1  # Find the index of the first match\n",
    "    name_value = df.loc[row-1, 'Name']\n",
    "    print(f\"Location is {name_value}\")\n",
    "else:\n",
    "    print(\"Invalid location\")"
   ]
  },
  {
   "cell_type": "code",
   "execution_count": null,
   "id": "53d90169-ee08-40d6-94d3-1b6ca1eb20d2",
   "metadata": {},
   "outputs": [],
   "source": []
  }
 ],
 "metadata": {
  "kernelspec": {
   "display_name": "Python 3 (ipykernel)",
   "language": "python",
   "name": "python3"
  },
  "language_info": {
   "codemirror_mode": {
    "name": "ipython",
    "version": 3
   },
   "file_extension": ".py",
   "mimetype": "text/x-python",
   "name": "python",
   "nbconvert_exporter": "python",
   "pygments_lexer": "ipython3",
   "version": "3.11.4"
  }
 },
 "nbformat": 4,
 "nbformat_minor": 5
}
