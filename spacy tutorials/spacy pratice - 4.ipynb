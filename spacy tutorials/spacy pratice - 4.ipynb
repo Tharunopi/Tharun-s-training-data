{
 "cells": [
  {
   "cell_type": "code",
   "execution_count": 1,
   "id": "473d72de-46b6-4dcd-a2a3-977c64c694ca",
   "metadata": {},
   "outputs": [],
   "source": [
    "import spacy\n",
    "from spacy import displacy\n",
    "from spacy.matcher import Matcher\n",
    "import pandas as pd\n",
    "import fuzzywuzzy\n",
    "from fuzzywuzzy import fuzz\n",
    "from fuzzywuzzy import process"
   ]
  },
  {
   "cell_type": "code",
   "execution_count": 7,
   "id": "6b1fc4bd-0f25-406e-8e96-d529f679e114",
   "metadata": {},
   "outputs": [],
   "source": [
    "nlp = spacy.load(\"en_core_web_sm\")\n",
    "matcher = Matcher(nlp.vocab)"
   ]
  },
  {
   "cell_type": "code",
   "execution_count": 23,
   "id": "a0289911-ac0c-4d68-82f8-e8961c901bbc",
   "metadata": {},
   "outputs": [],
   "source": [
    "text = \"i am likely to reach palai\""
   ]
  },
  {
   "cell_type": "code",
   "execution_count": 24,
   "id": "548aa610-8e59-4ffb-ad16-5389fea6d743",
   "metadata": {},
   "outputs": [],
   "source": [
    "df = pd.read_csv(\"C:\\Stack overflow\\output.csv\")\n",
    "alternate = []\n",
    "for i in df[\"Alternate Names\"]:\n",
    "    alternate.append(i.lower())\n",
    "filtered = alternate\n",
    "for i in filtered:\n",
    "    if \"?\" in i:\n",
    "        filtered.remove(i)"
   ]
  },
  {
   "cell_type": "code",
   "execution_count": 34,
   "id": "87e34784-47a5-45bb-b786-be6051c7066b",
   "metadata": {
    "scrolled": true
   },
   "outputs": [],
   "source": [
    "for i in filtered:\n",
    "    if \"?????-??-?????\" in i:\n",
    "        filtered.remove(i)"
   ]
  },
  {
   "cell_type": "code",
   "execution_count": 47,
   "id": "525a5a13-2539-4e25-a884-73205acea3d3",
   "metadata": {
    "scrolled": true
   },
   "outputs": [
    {
     "name": "stdout",
     "output_type": "stream",
     "text": [
      "['pauni', 'pawni', 'pangim', 'panjim', 'manaparai', 'manapparai', 'haladuraani-tilakara-kathagodama', 'channapatan', 'maderaspatanum', 'palaiya kova', 'phulabani', 'baghaparana', 'zamania', 'palani', 'palni', 'palani', 'patan', 'pawai', 'damani', 'chettipalaiyam', 'bhavani', 'patan', 'nimpani', 'nipani', 'digapahandi', 'pandiceri', 'panticceri', 'pasan', 'kopaganj', 'jhalrapatan', 'jhalrapatan chhroni', 'jhalrapatan city', 'patan', 'patan', 'bakani', 'patana', 'jatani', 'gurupavanapuri', 'valparai', 'panipat', 'panipata', 'chintamani', 'palaiya ayakkudi', 'beliapatanam', 'thiruparangundram', 'thirupparankundram', 'tiruparankundram', 'tirupparangunram', 'tirupparankunram', 'patan', 'arani', 'bisakhapatana', 'visakhapatanama', 'pavanakar', 'barani', 'thiruppalaikudi', 'tiruppalaikkudi', 'tiruppalaikudi', 'panchagani', 'papanasam', 'pavanasi', 'papanacam', 'amarpatan', 'uttamapalaiyam', 'parangimalai', 'paranginealai', 'patancheroo', 'patancheru', 'palanpur', 'bhawanipatna', 'periyanayakkanpalaiyam', 'periyanayakkanpalaiyam', 'musabani', 'mushabani', 'panihati', 'mettupalaiyam', 'mettuppalaiyam', 'mettuppalaiyam', 'rajapalaiyam', 'patan', 'naravanikuppam', 'mettuppalaiyam', 'gobichettipalaiyam', 'gopichettipalaiyam', 'kopiccettippalaiyam', 'bhawanigarh', 'vedaraniam']\n"
     ]
    }
   ],
   "source": [
    "text = \"paani\"  # Example input text with a potential spelling mistake\n",
    "\n",
    "matches = [loc for loc in filtered if fuzz.partial_ratio(text.lower(), loc.lower()) >= 80]\n",
    "\n",
    "print(matches)"
   ]
  },
  {
   "cell_type": "code",
   "execution_count": 39,
   "id": "452d66fb-4992-4b2a-b6f0-97a8e768cd69",
   "metadata": {
    "scrolled": true
   },
   "outputs": [
    {
     "data": {
      "text/plain": [
       "['panaji',\n",
       " 'panaji',\n",
       " 'vala',\n",
       " 'upal',\n",
       " 'parli',\n",
       " 'chandla',\n",
       " 'palani',\n",
       " 'palni',\n",
       " 'palani',\n",
       " \"pava'i\",\n",
       " 'chaklasi',\n",
       " 'pawai',\n",
       " 'pali',\n",
       " 'chirala',\n",
       " 'bhopala',\n",
       " 'bhopala',\n",
       " 'reva',\n",
       " 'rewa',\n",
       " 'rewah',\n",
       " 'rewa',\n",
       " 're',\n",
       " 'amli',\n",
       " 'lala',\n",
       " 'orachha',\n",
       " 'chaupal',\n",
       " 'raci',\n",
       " 'bali',\n",
       " 'amla',\n",
       " 'palia',\n",
       " 'lati',\n",
       " 'alwa',\n",
       " 'pale',\n",
       " 'pali',\n",
       " 'chalala',\n",
       " 'a la',\n",
       " 'chapara',\n",
       " 'pali',\n",
       " 'namli']"
      ]
     },
     "execution_count": 39,
     "metadata": {},
     "output_type": "execute_result"
    }
   ],
   "source": [
    "fuzz_finder = [loc for loc in filtered if fuzz.partial_ratio(text.lower(), loc.lower()) >= 70]\n",
    "fuzz_finder"
   ]
  },
  {
   "cell_type": "code",
   "execution_count": 40,
   "id": "f2b29cec-12a2-4d57-8b0d-7907b8d04e64",
   "metadata": {},
   "outputs": [],
   "source": [
    "doc = nlp(text)"
   ]
  },
  {
   "cell_type": "code",
   "execution_count": 41,
   "id": "cb1c754b-268b-428d-a3bf-db64dbbf2e60",
   "metadata": {},
   "outputs": [],
   "source": [
    "for ent in doc.ents:\n",
    "    if ent.label_ == 'GPE':\n",
    "        for match in matches:\n",
    "            if fuzz.partial_ratio(ent.text.lower(), match.lower()) >= 70:\n",
    "                print(f\"Spelling mistake: {ent.text}, Canonical name: {match}\")"
   ]
  },
  {
   "cell_type": "code",
   "execution_count": 25,
   "id": "672d60dd-387e-4042-a389-7e27b45349f5",
   "metadata": {},
   "outputs": [],
   "source": [
    "pattern1 = [{\"TEXT\": {\"IN\": filtered}}]"
   ]
  },
  {
   "cell_type": "code",
   "execution_count": 26,
   "id": "98c8c3f1-281d-4ffa-8e5a-54c2430dd209",
   "metadata": {},
   "outputs": [],
   "source": [
    "pattern = [{\"LOWER\": {\"FUZZY\": {\"IN\": filtered}}}]"
   ]
  },
  {
   "cell_type": "code",
   "execution_count": 27,
   "id": "f9cf10a6-a10b-402e-b1ca-72a193890cb1",
   "metadata": {},
   "outputs": [],
   "source": [
    "matcher.add(\"location\", [pattern])"
   ]
  },
  {
   "cell_type": "code",
   "execution_count": 28,
   "id": "306fb2df-a1dd-4065-b2a3-612370c146ac",
   "metadata": {},
   "outputs": [],
   "source": [
    "doc = nlp(text)"
   ]
  },
  {
   "cell_type": "code",
   "execution_count": 29,
   "id": "a2f46735-87a6-4ae9-9620-dbf8181cb84e",
   "metadata": {},
   "outputs": [],
   "source": [
    "matches = matcher(doc)"
   ]
  },
  {
   "cell_type": "code",
   "execution_count": 30,
   "id": "bb04213b-b61d-41c1-8d23-d7328760038e",
   "metadata": {},
   "outputs": [
    {
     "name": "stdout",
     "output_type": "stream",
     "text": [
      "(4272944830542554761, 0, 1) i\n",
      "(4272944830542554761, 1, 2) am\n",
      "(4272944830542554761, 3, 4) to\n",
      "(4272944830542554761, 4, 5) reach\n",
      "(4272944830542554761, 5, 6) palai\n"
     ]
    }
   ],
   "source": [
    "for match in matches[:10]:\n",
    "    print (match, doc[match[1]:match[2]])"
   ]
  },
  {
   "cell_type": "code",
   "execution_count": 31,
   "id": "70921d9f-d574-4e8c-b809-8f2f798ec1ee",
   "metadata": {},
   "outputs": [
    {
     "name": "stderr",
     "output_type": "stream",
     "text": [
      "WARNING:root:Applied processor reduces input query to empty string, all comparisons will have score 0. [Query: ' ']\n"
     ]
    },
    {
     "name": "stdout",
     "output_type": "stream",
     "text": [
      "[('ziro', 90)]\n",
      "[('zer', 0)]\n",
      "[('???????????a?', 100)]\n"
     ]
    },
    {
     "name": "stderr",
     "output_type": "stream",
     "text": [
      "WARNING:root:Applied processor reduces input query to empty string, all comparisons will have score 0. [Query: ' ']\n"
     ]
    },
    {
     "name": "stdout",
     "output_type": "stream",
     "text": [
      "[('tvm', 90)]\n",
      "[('zer', 0)]\n",
      "[('tilhar', 90)]\n",
      "[('ziro', 90)]\n",
      "[('vardkha', 90)]\n",
      "[('zer', 90)]\n"
     ]
    },
    {
     "name": "stderr",
     "output_type": "stream",
     "text": [
      "WARNING:root:Applied processor reduces input query to empty string, all comparisons will have score 0. [Query: ' ']\n"
     ]
    },
    {
     "name": "stdout",
     "output_type": "stream",
     "text": [
      "[('tilhar', 90)]\n",
      "[('oyaradha', 90)]\n",
      "[('zer', 0)]\n"
     ]
    },
    {
     "name": "stderr",
     "output_type": "stream",
     "text": [
      "WARNING:root:Applied processor reduces input query to empty string, all comparisons will have score 0. [Query: ' ']\n"
     ]
    },
    {
     "name": "stdout",
     "output_type": "stream",
     "text": [
      "[('varntcha', 90)]\n",
      "[('zero', 90)]\n",
      "[('zer', 0)]\n",
      "[('zer', 90)]\n",
      "[('zer', 90)]\n",
      "[('???????????a?', 100)]\n",
      "[('varntcha', 90)]\n"
     ]
    },
    {
     "name": "stderr",
     "output_type": "stream",
     "text": [
      "WARNING:root:Applied processor reduces input query to empty string, all comparisons will have score 0. [Query: ' ']\n"
     ]
    },
    {
     "name": "stdout",
     "output_type": "stream",
     "text": [
      "[('vardha', 90)]\n",
      "[('zer', 0)]\n",
      "[('vijapur', 90)]\n",
      "[('???????????a?', 100)]\n",
      "[('tilhar', 90)]\n",
      "[('???????????a?', 100)]\n",
      "[('varntcha', 90)]\n",
      "[('ziro', 90)]\n"
     ]
    }
   ],
   "source": [
    "geospatial_entities = []\n",
    "for i in doc:\n",
    "    for pattern in pattern1:\n",
    "        matches = fuzzywuzzy.process.extract(i, pattern[\"TEXT\"][\"IN\"], limit=1)\n",
    "        print(matches)"
   ]
  },
  {
   "cell_type": "code",
   "execution_count": null,
   "id": "7a8a5dfc-dd73-431a-baf4-29278d6623f7",
   "metadata": {},
   "outputs": [],
   "source": []
  }
 ],
 "metadata": {
  "kernelspec": {
   "display_name": "Python 3 (ipykernel)",
   "language": "python",
   "name": "python3"
  },
  "language_info": {
   "codemirror_mode": {
    "name": "ipython",
    "version": 3
   },
   "file_extension": ".py",
   "mimetype": "text/x-python",
   "name": "python",
   "nbconvert_exporter": "python",
   "pygments_lexer": "ipython3",
   "version": "3.11.4"
  }
 },
 "nbformat": 4,
 "nbformat_minor": 5
}
