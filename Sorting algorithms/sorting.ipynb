{
 "cells": [
  {
   "cell_type": "code",
   "execution_count": 3,
   "id": "9c06a6e4-3c7c-496f-92fd-91294cedfbd4",
   "metadata": {},
   "outputs": [
    {
     "name": "stdout",
     "output_type": "stream",
     "text": [
      "[9, 4, 2, 2]\n"
     ]
    }
   ],
   "source": [
    "def sorting(x):\n",
    "    ans = []\n",
    "    mini = min(x)\n",
    "    for i in range(len(x)):\n",
    "        ans.append(max(x))\n",
    "        x.pop(x.index(max(x)))\n",
    "    return ans \n"
   ]
  },
  {
   "cell_type": "code",
   "execution_count": 8,
   "id": "ebcd4424-7ab7-48c9-9d62-2fbaeba35998",
   "metadata": {},
   "outputs": [
    {
     "name": "stdout",
     "output_type": "stream",
     "text": [
      "[9, 4, 2, 2]\n"
     ]
    }
   ],
   "source": [
    "def quick_sort(x):\n",
    "    if len(x) <= 1:\n",
    "        return x\n",
    "\n",
    "    mid = len(x) // 2\n",
    "\n",
    "    left = [i for i in x if i > x[mid]]\n",
    "    right = [i for i in x if i  x[mid]]\n",
    "    pivot = [i for i in x if i == x[mid]]\n",
    "\n",
    "    left = quick_sort(left)\n",
    "    right = quick_sort(right)\n",
    "\n",
    "    return left + pivot + right\n"
   ]
  },
  {
   "cell_type": "code",
   "execution_count": 9,
   "id": "7394cecd-4a66-4942-bfc0-f20bdb6368f3",
   "metadata": {},
   "outputs": [
    {
     "name": "stdout",
     "output_type": "stream",
     "text": [
      "[2, 2, 4, 9]\n"
     ]
    }
   ],
   "source": [
    "def merge_sort(x):\n",
    "    if len(x) <= 1:\n",
    "        return x\n",
    "\n",
    "    mid = len(x) // 2\n",
    "    left = x[:mid]\n",
    "    right = x[mid:]\n",
    "\n",
    "    left = merge_sort(left)\n",
    "    right = merge_sort(right)\n",
    "\n",
    "    return merge(left, right)\n",
    "\n",
    "def merge(left, right):\n",
    "    ans = []\n",
    "    i,j = 0, 0\n",
    "\n",
    "    while i < len(left) and j < len(right):\n",
    "        if left[i] <= right[j]:\n",
    "            ans.append(left[i])\n",
    "            i += 1\n",
    "        else:\n",
    "            ans.append(right[j])\n",
    "            j += 1\n",
    "    ans.extend(left[i:])\n",
    "    ans.extend(right[j:])\n",
    "\n",
    "    return ans\n",
    "\n",
    "x = [9, 2, 4 ,2]\n",
    "print(merge_sort(x))"
   ]
  },
  {
   "cell_type": "code",
   "execution_count": null,
   "id": "fe8ac996-31ad-431b-9aa8-b87d4a969fa5",
   "metadata": {},
   "outputs": [],
   "source": []
  }
 ],
 "metadata": {
  "kernelspec": {
   "display_name": "Python 3 (ipykernel)",
   "language": "python",
   "name": "python3"
  },
  "language_info": {
   "codemirror_mode": {
    "name": "ipython",
    "version": 3
   },
   "file_extension": ".py",
   "mimetype": "text/x-python",
   "name": "python",
   "nbconvert_exporter": "python",
   "pygments_lexer": "ipython3",
   "version": "3.11.4"
  }
 },
 "nbformat": 4,
 "nbformat_minor": 5
}
