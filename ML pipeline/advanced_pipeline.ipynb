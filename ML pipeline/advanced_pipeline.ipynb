{
 "cells": [
  {
   "cell_type": "code",
   "execution_count": 8,
   "id": "d3efd015-cf7d-4e9d-9a2f-394c285847e7",
   "metadata": {},
   "outputs": [],
   "source": [
    "import pandas as pd\n",
    "import numpy as np\n",
    "from sklearn.pipeline import Pipeline\n",
    "from sklearn.model_selection import train_test_split"
   ]
  },
  {
   "cell_type": "code",
   "execution_count": 4,
   "id": "87064fb2-0550-414c-a827-02b316aca149",
   "metadata": {},
   "outputs": [],
   "source": [
    "dataset = {\n",
    "    \"Age\": [25, 37, None, 45, 29, 34, 52, None, 31, 27, None, 42, 38, None, 30, 48, None, 35, 50, None],\n",
    "    \"Income\": [45000, 54000, 32000, None, 50000, None, 62000, 41000, None, 46000, 48000, None, 53000, 60000, None, 52000, 58000, None, 64000, 49000],\n",
    "    \"Gender\": [\"Male\", \"Female\", \"Female\", \"Male\", \"Male\", None, \"Female\", \"Male\", \"Female\", None, \"Male\", \"Female\", None, \"Male\", \"Female\", \"Male\", None, \"Female\", \"Male\", None],\n",
    "    \"City\": [\"New York\", \"Los Angeles\", \"Chicago\", None, \"Houston\", \"Phoenix\", \"Philadelphia\", None, \"San Antonio\", \"San Diego\", \"Dallas\", None, \"San Jose\", \"Austin\", None, \"Jacksonville\", None, \"Fort Worth\", \"Columbus\", \"Charlotte\"],\n",
    "    \"Education\": [\"Bachelor\", \"Master\", \"PhD\", None, \"High School\", \"Bachelor\", \"Master\", None, \"PhD\", \"High School\", \"Bachelor\", None, \"Master\", \"PhD\", None, \"High School\", None, \"Bachelor\", \"Master\", \"PhD\"],\n",
    "    \"Purchased\": [\"Yes\", \"No\", \"Yes\", \"Yes\", \"No\", \"No\", \"Yes\", \"No\", \"Yes\", \"Yes\", \"No\", \"Yes\", \"No\", \"Yes\", \"No\", \"Yes\", \"No\", \"Yes\", \"No\", \"Yes\"]\n",
    "}\n",
    "df = pd.DataFrame(dataset)"
   ]
  },
  {
   "cell_type": "code",
   "execution_count": 5,
   "id": "0dd48f86-07d5-4f2a-a2f8-4131f70fa397",
   "metadata": {},
   "outputs": [
    {
     "data": {
      "text/html": [
       "<div>\n",
       "<style scoped>\n",
       "    .dataframe tbody tr th:only-of-type {\n",
       "        vertical-align: middle;\n",
       "    }\n",
       "\n",
       "    .dataframe tbody tr th {\n",
       "        vertical-align: top;\n",
       "    }\n",
       "\n",
       "    .dataframe thead th {\n",
       "        text-align: right;\n",
       "    }\n",
       "</style>\n",
       "<table border=\"1\" class=\"dataframe\">\n",
       "  <thead>\n",
       "    <tr style=\"text-align: right;\">\n",
       "      <th></th>\n",
       "      <th>Age</th>\n",
       "      <th>Income</th>\n",
       "      <th>Gender</th>\n",
       "      <th>City</th>\n",
       "      <th>Education</th>\n",
       "      <th>Purchased</th>\n",
       "    </tr>\n",
       "  </thead>\n",
       "  <tbody>\n",
       "    <tr>\n",
       "      <th>0</th>\n",
       "      <td>25.0</td>\n",
       "      <td>45000.0</td>\n",
       "      <td>Male</td>\n",
       "      <td>New York</td>\n",
       "      <td>Bachelor</td>\n",
       "      <td>Yes</td>\n",
       "    </tr>\n",
       "    <tr>\n",
       "      <th>1</th>\n",
       "      <td>37.0</td>\n",
       "      <td>54000.0</td>\n",
       "      <td>Female</td>\n",
       "      <td>Los Angeles</td>\n",
       "      <td>Master</td>\n",
       "      <td>No</td>\n",
       "    </tr>\n",
       "    <tr>\n",
       "      <th>2</th>\n",
       "      <td>NaN</td>\n",
       "      <td>32000.0</td>\n",
       "      <td>Female</td>\n",
       "      <td>Chicago</td>\n",
       "      <td>PhD</td>\n",
       "      <td>Yes</td>\n",
       "    </tr>\n",
       "    <tr>\n",
       "      <th>3</th>\n",
       "      <td>45.0</td>\n",
       "      <td>NaN</td>\n",
       "      <td>Male</td>\n",
       "      <td>None</td>\n",
       "      <td>None</td>\n",
       "      <td>Yes</td>\n",
       "    </tr>\n",
       "    <tr>\n",
       "      <th>4</th>\n",
       "      <td>29.0</td>\n",
       "      <td>50000.0</td>\n",
       "      <td>Male</td>\n",
       "      <td>Houston</td>\n",
       "      <td>High School</td>\n",
       "      <td>No</td>\n",
       "    </tr>\n",
       "  </tbody>\n",
       "</table>\n",
       "</div>"
      ],
      "text/plain": [
       "    Age   Income  Gender         City    Education Purchased\n",
       "0  25.0  45000.0    Male     New York     Bachelor       Yes\n",
       "1  37.0  54000.0  Female  Los Angeles       Master        No\n",
       "2   NaN  32000.0  Female      Chicago          PhD       Yes\n",
       "3  45.0      NaN    Male         None         None       Yes\n",
       "4  29.0  50000.0    Male      Houston  High School        No"
      ]
     },
     "execution_count": 5,
     "metadata": {},
     "output_type": "execute_result"
    }
   ],
   "source": [
    "df.head(5)"
   ]
  },
  {
   "cell_type": "code",
   "execution_count": 6,
   "id": "ab7f732c-ce2b-4c74-8b43-83878241bcf8",
   "metadata": {},
   "outputs": [],
   "source": [
    "num_cols = [\"Age\", \"Income\"]\n",
    "cate_cols = [\"Gender\", \"City\", \"Education\"]\n",
    "encode = [\"Purchased\"]"
   ]
  },
  {
   "cell_type": "code",
   "execution_count": 9,
   "id": "59c3d574-dda8-49d4-b683-3ed3ea5da314",
   "metadata": {},
   "outputs": [],
   "source": [
    "X = df.iloc[:, :5].values\n",
    "y = df.iloc[:, -1].values\n",
    "X_train, X_test, y_train, y_test = train_test_split(X, y, test_size=0.2, random_state=42)"
   ]
  },
  {
   "cell_type": "code",
   "execution_count": 11,
   "id": "9f4506e6-58f7-45a6-8080-a704c7e4d402",
   "metadata": {},
   "outputs": [
    {
     "data": {
      "text/plain": [
       "array(['Yes', 'No', 'Yes', 'Yes', 'No', 'No', 'Yes', 'No', 'Yes', 'Yes',\n",
       "       'No', 'Yes', 'No', 'Yes', 'No', 'Yes', 'No', 'Yes', 'No', 'Yes'],\n",
       "      dtype=object)"
      ]
     },
     "execution_count": 11,
     "metadata": {},
     "output_type": "execute_result"
    }
   ],
   "source": []
  },
  {
   "cell_type": "code",
   "execution_count": null,
   "id": "c62d5e26-8257-4183-bffd-834477484b20",
   "metadata": {},
   "outputs": [],
   "source": []
  }
 ],
 "metadata": {
  "kernelspec": {
   "display_name": "Python 3 (ipykernel)",
   "language": "python",
   "name": "python3"
  },
  "language_info": {
   "codemirror_mode": {
    "name": "ipython",
    "version": 3
   },
   "file_extension": ".py",
   "mimetype": "text/x-python",
   "name": "python",
   "nbconvert_exporter": "python",
   "pygments_lexer": "ipython3",
   "version": "3.11.4"
  }
 },
 "nbformat": 4,
 "nbformat_minor": 5
}
